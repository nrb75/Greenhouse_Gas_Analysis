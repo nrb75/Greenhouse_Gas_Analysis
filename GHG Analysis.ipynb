{
 "cells": [
  {
   "cell_type": "markdown",
   "metadata": {},
   "source": [
    "Greenhouse gases (GHG) methane (CH4) and nitrous oxide (N2O) were monitored at two stormwater basins on Cornell University's campus from 2014-2016. We monitored during ambient dry weather conditions, and immediately following a rain event. We anticipated that \"hot-moments\" of high GHG emissions would occur following rain events.\n",
    "\n",
    "Another notebook 'GHG data entry' shows how the raw data collected via Gas Chromatograph (GC) analysis was cleaned. This notebook shows some basic graphs and analysis on these data."
   ]
  },
  {
   "cell_type": "code",
   "execution_count": 84,
   "metadata": {},
   "outputs": [],
   "source": [
    "import numpy as np\n",
    "import pandas as pd\n",
    "import matplotlib.pyplot as plt\n",
    "import glob\n",
    "import os\n",
    "from scipy import stats\n",
    "%matplotlib inline"
   ]
  },
  {
   "cell_type": "code",
   "execution_count": 85,
   "metadata": {},
   "outputs": [],
   "source": [
    "#import data\n",
    "data=pd.read_csv('ProcessedData\\data.csv')\n",
    "data_avg_date_site=pd.read_csv('ProcessedData\\data_avg_date_site.csv')"
   ]
  },
  {
   "cell_type": "code",
   "execution_count": 86,
   "metadata": {},
   "outputs": [
    {
     "data": {
      "text/html": [
       "<div>\n",
       "<style scoped>\n",
       "    .dataframe tbody tr th:only-of-type {\n",
       "        vertical-align: middle;\n",
       "    }\n",
       "\n",
       "    .dataframe tbody tr th {\n",
       "        vertical-align: top;\n",
       "    }\n",
       "\n",
       "    .dataframe thead th {\n",
       "        text-align: right;\n",
       "    }\n",
       "</style>\n",
       "<table border=\"1\" class=\"dataframe\">\n",
       "  <thead>\n",
       "    <tr style=\"text-align: right;\">\n",
       "      <th></th>\n",
       "      <th>Unnamed: 0</th>\n",
       "      <th>Unnamed: 0.1</th>\n",
       "      <th>ID</th>\n",
       "      <th>Date</th>\n",
       "      <th>Site</th>\n",
       "      <th>Location</th>\n",
       "      <th>VWC</th>\n",
       "      <th>Temp</th>\n",
       "      <th>Conductivity</th>\n",
       "      <th>Soil.Porosity</th>\n",
       "      <th>...</th>\n",
       "      <th>AirT</th>\n",
       "      <th>Rain</th>\n",
       "      <th>Precip</th>\n",
       "      <th>flux_N2O</th>\n",
       "      <th>r.squared.N2O</th>\n",
       "      <th>flux_CH4</th>\n",
       "      <th>r.squared.CH4</th>\n",
       "      <th>r.squared.CO2</th>\n",
       "      <th>flux_CO2</th>\n",
       "      <th>precip3</th>\n",
       "    </tr>\n",
       "  </thead>\n",
       "  <tbody>\n",
       "    <tr>\n",
       "      <th>0</th>\n",
       "      <td>0</td>\n",
       "      <td>1</td>\n",
       "      <td>E1</td>\n",
       "      <td>2016-04-20</td>\n",
       "      <td>Wet Basin</td>\n",
       "      <td>Basin</td>\n",
       "      <td>85.06</td>\n",
       "      <td>9.5</td>\n",
       "      <td>2.09</td>\n",
       "      <td>0.73</td>\n",
       "      <td>...</td>\n",
       "      <td>4.4</td>\n",
       "      <td>NoRain</td>\n",
       "      <td>0.0</td>\n",
       "      <td>-3.698828</td>\n",
       "      <td>0.003789</td>\n",
       "      <td>-22.757097</td>\n",
       "      <td>0.013714</td>\n",
       "      <td>0.608706</td>\n",
       "      <td>183595.128961</td>\n",
       "      <td>0.0</td>\n",
       "    </tr>\n",
       "    <tr>\n",
       "      <th>1</th>\n",
       "      <td>1</td>\n",
       "      <td>2</td>\n",
       "      <td>E2</td>\n",
       "      <td>2016-04-20</td>\n",
       "      <td>Wet Basin</td>\n",
       "      <td>Basin</td>\n",
       "      <td>36.77</td>\n",
       "      <td>11.7</td>\n",
       "      <td>0.10</td>\n",
       "      <td>0.68</td>\n",
       "      <td>...</td>\n",
       "      <td>4.4</td>\n",
       "      <td>NoRain</td>\n",
       "      <td>0.0</td>\n",
       "      <td>-0.354986</td>\n",
       "      <td>0.000036</td>\n",
       "      <td>-137.966454</td>\n",
       "      <td>0.647540</td>\n",
       "      <td>0.961278</td>\n",
       "      <td>190433.497043</td>\n",
       "      <td>0.0</td>\n",
       "    </tr>\n",
       "    <tr>\n",
       "      <th>2</th>\n",
       "      <td>2</td>\n",
       "      <td>3</td>\n",
       "      <td>E3</td>\n",
       "      <td>2016-04-20</td>\n",
       "      <td>Wet Basin</td>\n",
       "      <td>Basin</td>\n",
       "      <td>91.24</td>\n",
       "      <td>8.2</td>\n",
       "      <td>2.39</td>\n",
       "      <td>0.89</td>\n",
       "      <td>...</td>\n",
       "      <td>4.4</td>\n",
       "      <td>NoRain</td>\n",
       "      <td>0.0</td>\n",
       "      <td>21.720546</td>\n",
       "      <td>0.073681</td>\n",
       "      <td>21.883248</td>\n",
       "      <td>0.250702</td>\n",
       "      <td>0.472880</td>\n",
       "      <td>-10212.923765</td>\n",
       "      <td>0.0</td>\n",
       "    </tr>\n",
       "    <tr>\n",
       "      <th>3</th>\n",
       "      <td>3</td>\n",
       "      <td>4</td>\n",
       "      <td>E4</td>\n",
       "      <td>2016-04-20</td>\n",
       "      <td>Wet Basin</td>\n",
       "      <td>Reference</td>\n",
       "      <td>32.08</td>\n",
       "      <td>11.4</td>\n",
       "      <td>0.21</td>\n",
       "      <td>0.49</td>\n",
       "      <td>...</td>\n",
       "      <td>4.4</td>\n",
       "      <td>NoRain</td>\n",
       "      <td>0.0</td>\n",
       "      <td>20.625381</td>\n",
       "      <td>0.061650</td>\n",
       "      <td>-51.622236</td>\n",
       "      <td>0.346719</td>\n",
       "      <td>0.358094</td>\n",
       "      <td>126038.438749</td>\n",
       "      <td>0.0</td>\n",
       "    </tr>\n",
       "    <tr>\n",
       "      <th>4</th>\n",
       "      <td>4</td>\n",
       "      <td>5</td>\n",
       "      <td>E5</td>\n",
       "      <td>2016-04-20</td>\n",
       "      <td>Wet Basin</td>\n",
       "      <td>Reference</td>\n",
       "      <td>55.43</td>\n",
       "      <td>14.2</td>\n",
       "      <td>1.26</td>\n",
       "      <td>0.56</td>\n",
       "      <td>...</td>\n",
       "      <td>4.4</td>\n",
       "      <td>NoRain</td>\n",
       "      <td>0.0</td>\n",
       "      <td>-35.320212</td>\n",
       "      <td>0.138446</td>\n",
       "      <td>62.915548</td>\n",
       "      <td>0.293559</td>\n",
       "      <td>0.969641</td>\n",
       "      <td>225931.524478</td>\n",
       "      <td>0.0</td>\n",
       "    </tr>\n",
       "  </tbody>\n",
       "</table>\n",
       "<p>5 rows × 21 columns</p>\n",
       "</div>"
      ],
      "text/plain": [
       "   Unnamed: 0  Unnamed: 0.1  ID        Date       Site   Location    VWC  \\\n",
       "0           0             1  E1  2016-04-20  Wet Basin      Basin  85.06   \n",
       "1           1             2  E2  2016-04-20  Wet Basin      Basin  36.77   \n",
       "2           2             3  E3  2016-04-20  Wet Basin      Basin  91.24   \n",
       "3           3             4  E4  2016-04-20  Wet Basin  Reference  32.08   \n",
       "4           4             5  E5  2016-04-20  Wet Basin  Reference  55.43   \n",
       "\n",
       "   Temp  Conductivity  Soil.Porosity   ...     AirT    Rain Precip   flux_N2O  \\\n",
       "0   9.5          2.09           0.73   ...      4.4  NoRain    0.0  -3.698828   \n",
       "1  11.7          0.10           0.68   ...      4.4  NoRain    0.0  -0.354986   \n",
       "2   8.2          2.39           0.89   ...      4.4  NoRain    0.0  21.720546   \n",
       "3  11.4          0.21           0.49   ...      4.4  NoRain    0.0  20.625381   \n",
       "4  14.2          1.26           0.56   ...      4.4  NoRain    0.0 -35.320212   \n",
       "\n",
       "   r.squared.N2O    flux_CH4  r.squared.CH4  r.squared.CO2       flux_CO2  \\\n",
       "0       0.003789  -22.757097       0.013714       0.608706  183595.128961   \n",
       "1       0.000036 -137.966454       0.647540       0.961278  190433.497043   \n",
       "2       0.073681   21.883248       0.250702       0.472880  -10212.923765   \n",
       "3       0.061650  -51.622236       0.346719       0.358094  126038.438749   \n",
       "4       0.138446   62.915548       0.293559       0.969641  225931.524478   \n",
       "\n",
       "   precip3  \n",
       "0      0.0  \n",
       "1      0.0  \n",
       "2      0.0  \n",
       "3      0.0  \n",
       "4      0.0  \n",
       "\n",
       "[5 rows x 21 columns]"
      ]
     },
     "execution_count": 86,
     "metadata": {},
     "output_type": "execute_result"
    }
   ],
   "source": [
    "data.head()"
   ]
  },
  {
   "cell_type": "code",
   "execution_count": 137,
   "metadata": {},
   "outputs": [
    {
     "data": {
      "text/html": [
       "<div>\n",
       "<style scoped>\n",
       "    .dataframe tbody tr th:only-of-type {\n",
       "        vertical-align: middle;\n",
       "    }\n",
       "\n",
       "    .dataframe tbody tr th {\n",
       "        vertical-align: top;\n",
       "    }\n",
       "\n",
       "    .dataframe thead th {\n",
       "        text-align: right;\n",
       "    }\n",
       "</style>\n",
       "<table border=\"1\" class=\"dataframe\">\n",
       "  <thead>\n",
       "    <tr style=\"text-align: right;\">\n",
       "      <th></th>\n",
       "      <th>Unnamed: 0</th>\n",
       "      <th>Unnamed: 0.1</th>\n",
       "      <th>VWC</th>\n",
       "      <th>Temp</th>\n",
       "      <th>Conductivity</th>\n",
       "      <th>Soil.Porosity</th>\n",
       "      <th>Saturation</th>\n",
       "      <th>AirT</th>\n",
       "      <th>Precip</th>\n",
       "      <th>flux_N2O</th>\n",
       "      <th>r.squared.N2O</th>\n",
       "      <th>flux_CH4</th>\n",
       "      <th>r.squared.CH4</th>\n",
       "      <th>r.squared.CO2</th>\n",
       "      <th>flux_CO2</th>\n",
       "      <th>precip3</th>\n",
       "    </tr>\n",
       "  </thead>\n",
       "  <tbody>\n",
       "    <tr>\n",
       "      <th>count</th>\n",
       "      <td>340.000000</td>\n",
       "      <td>340.000000</td>\n",
       "      <td>338.000000</td>\n",
       "      <td>337.000000</td>\n",
       "      <td>338.000000</td>\n",
       "      <td>340.000000</td>\n",
       "      <td>328.000000</td>\n",
       "      <td>340.000000</td>\n",
       "      <td>340.000000</td>\n",
       "      <td>335.000000</td>\n",
       "      <td>336.000000</td>\n",
       "      <td>330.000000</td>\n",
       "      <td>328.000000</td>\n",
       "      <td>336.000000</td>\n",
       "      <td>3.350000e+02</td>\n",
       "      <td>340.000000</td>\n",
       "    </tr>\n",
       "    <tr>\n",
       "      <th>mean</th>\n",
       "      <td>4.270588</td>\n",
       "      <td>5.270588</td>\n",
       "      <td>39.861841</td>\n",
       "      <td>20.744519</td>\n",
       "      <td>0.494750</td>\n",
       "      <td>0.613683</td>\n",
       "      <td>0.630008</td>\n",
       "      <td>18.364804</td>\n",
       "      <td>5.352059</td>\n",
       "      <td>12.752348</td>\n",
       "      <td>0.397947</td>\n",
       "      <td>1268.427103</td>\n",
       "      <td>0.474582</td>\n",
       "      <td>0.826245</td>\n",
       "      <td>5.053908e+05</td>\n",
       "      <td>10.914529</td>\n",
       "    </tr>\n",
       "    <tr>\n",
       "      <th>std</th>\n",
       "      <td>2.877594</td>\n",
       "      <td>2.877594</td>\n",
       "      <td>19.098067</td>\n",
       "      <td>4.325547</td>\n",
       "      <td>0.695765</td>\n",
       "      <td>0.115128</td>\n",
       "      <td>0.220473</td>\n",
       "      <td>5.369834</td>\n",
       "      <td>7.722302</td>\n",
       "      <td>353.446558</td>\n",
       "      <td>0.318876</td>\n",
       "      <td>4464.469885</td>\n",
       "      <td>0.349130</td>\n",
       "      <td>0.237740</td>\n",
       "      <td>1.326710e+06</td>\n",
       "      <td>16.871197</td>\n",
       "    </tr>\n",
       "    <tr>\n",
       "      <th>min</th>\n",
       "      <td>0.000000</td>\n",
       "      <td>1.000000</td>\n",
       "      <td>18.970000</td>\n",
       "      <td>0.800000</td>\n",
       "      <td>-0.186389</td>\n",
       "      <td>0.485886</td>\n",
       "      <td>0.300000</td>\n",
       "      <td>4.400000</td>\n",
       "      <td>0.000000</td>\n",
       "      <td>-3300.613257</td>\n",
       "      <td>0.000036</td>\n",
       "      <td>-3359.142570</td>\n",
       "      <td>0.000082</td>\n",
       "      <td>0.000626</td>\n",
       "      <td>-2.891754e+06</td>\n",
       "      <td>0.000000</td>\n",
       "    </tr>\n",
       "    <tr>\n",
       "      <th>25%</th>\n",
       "      <td>2.000000</td>\n",
       "      <td>3.000000</td>\n",
       "      <td>26.540000</td>\n",
       "      <td>17.900000</td>\n",
       "      <td>0.100000</td>\n",
       "      <td>0.527784</td>\n",
       "      <td>0.478666</td>\n",
       "      <td>16.388889</td>\n",
       "      <td>0.000000</td>\n",
       "      <td>-10.327446</td>\n",
       "      <td>0.088035</td>\n",
       "      <td>-70.124796</td>\n",
       "      <td>0.120445</td>\n",
       "      <td>0.761569</td>\n",
       "      <td>1.474954e+05</td>\n",
       "      <td>0.000000</td>\n",
       "    </tr>\n",
       "    <tr>\n",
       "      <th>50%</th>\n",
       "      <td>4.000000</td>\n",
       "      <td>5.000000</td>\n",
       "      <td>32.960650</td>\n",
       "      <td>21.200000</td>\n",
       "      <td>0.190000</td>\n",
       "      <td>0.562161</td>\n",
       "      <td>0.570000</td>\n",
       "      <td>19.168333</td>\n",
       "      <td>0.000000</td>\n",
       "      <td>12.276463</td>\n",
       "      <td>0.348919</td>\n",
       "      <td>16.553734</td>\n",
       "      <td>0.451750</td>\n",
       "      <td>0.938897</td>\n",
       "      <td>2.908068e+05</td>\n",
       "      <td>2.921000</td>\n",
       "    </tr>\n",
       "    <tr>\n",
       "      <th>75%</th>\n",
       "      <td>7.000000</td>\n",
       "      <td>8.000000</td>\n",
       "      <td>44.766825</td>\n",
       "      <td>23.900000</td>\n",
       "      <td>0.587500</td>\n",
       "      <td>0.676937</td>\n",
       "      <td>0.751555</td>\n",
       "      <td>22.200000</td>\n",
       "      <td>8.128000</td>\n",
       "      <td>37.007936</td>\n",
       "      <td>0.669848</td>\n",
       "      <td>210.775462</td>\n",
       "      <td>0.824261</td>\n",
       "      <td>0.987848</td>\n",
       "      <td>4.906169e+05</td>\n",
       "      <td>15.748000</td>\n",
       "    </tr>\n",
       "    <tr>\n",
       "      <th>max</th>\n",
       "      <td>9.000000</td>\n",
       "      <td>10.000000</td>\n",
       "      <td>113.200000</td>\n",
       "      <td>30.700000</td>\n",
       "      <td>4.140000</td>\n",
       "      <td>0.890000</td>\n",
       "      <td>2.006049</td>\n",
       "      <td>26.944444</td>\n",
       "      <td>25.400000</td>\n",
       "      <td>5167.577487</td>\n",
       "      <td>1.000000</td>\n",
       "      <td>30880.803224</td>\n",
       "      <td>1.000000</td>\n",
       "      <td>1.000000</td>\n",
       "      <td>1.457042e+07</td>\n",
       "      <td>79.756000</td>\n",
       "    </tr>\n",
       "  </tbody>\n",
       "</table>\n",
       "</div>"
      ],
      "text/plain": [
       "       Unnamed: 0  Unnamed: 0.1         VWC        Temp  Conductivity  \\\n",
       "count  340.000000    340.000000  338.000000  337.000000    338.000000   \n",
       "mean     4.270588      5.270588   39.861841   20.744519      0.494750   \n",
       "std      2.877594      2.877594   19.098067    4.325547      0.695765   \n",
       "min      0.000000      1.000000   18.970000    0.800000     -0.186389   \n",
       "25%      2.000000      3.000000   26.540000   17.900000      0.100000   \n",
       "50%      4.000000      5.000000   32.960650   21.200000      0.190000   \n",
       "75%      7.000000      8.000000   44.766825   23.900000      0.587500   \n",
       "max      9.000000     10.000000  113.200000   30.700000      4.140000   \n",
       "\n",
       "       Soil.Porosity  Saturation        AirT      Precip     flux_N2O  \\\n",
       "count     340.000000  328.000000  340.000000  340.000000   335.000000   \n",
       "mean        0.613683    0.630008   18.364804    5.352059    12.752348   \n",
       "std         0.115128    0.220473    5.369834    7.722302   353.446558   \n",
       "min         0.485886    0.300000    4.400000    0.000000 -3300.613257   \n",
       "25%         0.527784    0.478666   16.388889    0.000000   -10.327446   \n",
       "50%         0.562161    0.570000   19.168333    0.000000    12.276463   \n",
       "75%         0.676937    0.751555   22.200000    8.128000    37.007936   \n",
       "max         0.890000    2.006049   26.944444   25.400000  5167.577487   \n",
       "\n",
       "       r.squared.N2O      flux_CH4  r.squared.CH4  r.squared.CO2  \\\n",
       "count     336.000000    330.000000     328.000000     336.000000   \n",
       "mean        0.397947   1268.427103       0.474582       0.826245   \n",
       "std         0.318876   4464.469885       0.349130       0.237740   \n",
       "min         0.000036  -3359.142570       0.000082       0.000626   \n",
       "25%         0.088035    -70.124796       0.120445       0.761569   \n",
       "50%         0.348919     16.553734       0.451750       0.938897   \n",
       "75%         0.669848    210.775462       0.824261       0.987848   \n",
       "max         1.000000  30880.803224       1.000000       1.000000   \n",
       "\n",
       "           flux_CO2     precip3  \n",
       "count  3.350000e+02  340.000000  \n",
       "mean   5.053908e+05   10.914529  \n",
       "std    1.326710e+06   16.871197  \n",
       "min   -2.891754e+06    0.000000  \n",
       "25%    1.474954e+05    0.000000  \n",
       "50%    2.908068e+05    2.921000  \n",
       "75%    4.906169e+05   15.748000  \n",
       "max    1.457042e+07   79.756000  "
      ]
     },
     "execution_count": 137,
     "metadata": {},
     "output_type": "execute_result"
    }
   ],
   "source": [
    "data.describe()"
   ]
  },
  {
   "cell_type": "code",
   "execution_count": 87,
   "metadata": {},
   "outputs": [
    {
     "data": {
      "text/html": [
       "<div>\n",
       "<style scoped>\n",
       "    .dataframe tbody tr th:only-of-type {\n",
       "        vertical-align: middle;\n",
       "    }\n",
       "\n",
       "    .dataframe tbody tr th {\n",
       "        vertical-align: top;\n",
       "    }\n",
       "\n",
       "    .dataframe thead th {\n",
       "        text-align: right;\n",
       "    }\n",
       "</style>\n",
       "<table border=\"1\" class=\"dataframe\">\n",
       "  <thead>\n",
       "    <tr style=\"text-align: right;\">\n",
       "      <th></th>\n",
       "      <th>Unnamed: 0</th>\n",
       "      <th>Site</th>\n",
       "      <th>Location</th>\n",
       "      <th>Date</th>\n",
       "      <th>count</th>\n",
       "      <th>mean</th>\n",
       "      <th>std</th>\n",
       "      <th>max</th>\n",
       "      <th>min</th>\n",
       "      <th>type</th>\n",
       "    </tr>\n",
       "  </thead>\n",
       "  <tbody>\n",
       "    <tr>\n",
       "      <th>0</th>\n",
       "      <td>0</td>\n",
       "      <td>Dry Basin</td>\n",
       "      <td>Basin</td>\n",
       "      <td>2016-04-20</td>\n",
       "      <td>3</td>\n",
       "      <td>15.301894</td>\n",
       "      <td>52.798109</td>\n",
       "      <td>69.103772</td>\n",
       "      <td>-36.431660</td>\n",
       "      <td>N2O_flux</td>\n",
       "    </tr>\n",
       "    <tr>\n",
       "      <th>1</th>\n",
       "      <td>1</td>\n",
       "      <td>Dry Basin</td>\n",
       "      <td>Basin</td>\n",
       "      <td>2016-04-27</td>\n",
       "      <td>3</td>\n",
       "      <td>46.593877</td>\n",
       "      <td>13.219106</td>\n",
       "      <td>59.131550</td>\n",
       "      <td>32.785158</td>\n",
       "      <td>N2O_flux</td>\n",
       "    </tr>\n",
       "    <tr>\n",
       "      <th>2</th>\n",
       "      <td>2</td>\n",
       "      <td>Dry Basin</td>\n",
       "      <td>Basin</td>\n",
       "      <td>2016-05-11</td>\n",
       "      <td>3</td>\n",
       "      <td>-20.608212</td>\n",
       "      <td>11.255629</td>\n",
       "      <td>-11.158864</td>\n",
       "      <td>-33.060858</td>\n",
       "      <td>N2O_flux</td>\n",
       "    </tr>\n",
       "    <tr>\n",
       "      <th>3</th>\n",
       "      <td>3</td>\n",
       "      <td>Dry Basin</td>\n",
       "      <td>Basin</td>\n",
       "      <td>2016-06-02</td>\n",
       "      <td>3</td>\n",
       "      <td>35.070078</td>\n",
       "      <td>29.780153</td>\n",
       "      <td>63.171969</td>\n",
       "      <td>3.856082</td>\n",
       "      <td>N2O_flux</td>\n",
       "    </tr>\n",
       "    <tr>\n",
       "      <th>4</th>\n",
       "      <td>4</td>\n",
       "      <td>Dry Basin</td>\n",
       "      <td>Basin</td>\n",
       "      <td>2016-06-20</td>\n",
       "      <td>3</td>\n",
       "      <td>-4.409587</td>\n",
       "      <td>8.524318</td>\n",
       "      <td>5.159191</td>\n",
       "      <td>-11.192190</td>\n",
       "      <td>N2O_flux</td>\n",
       "    </tr>\n",
       "  </tbody>\n",
       "</table>\n",
       "</div>"
      ],
      "text/plain": [
       "   Unnamed: 0       Site Location        Date  count       mean        std  \\\n",
       "0           0  Dry Basin    Basin  2016-04-20      3  15.301894  52.798109   \n",
       "1           1  Dry Basin    Basin  2016-04-27      3  46.593877  13.219106   \n",
       "2           2  Dry Basin    Basin  2016-05-11      3 -20.608212  11.255629   \n",
       "3           3  Dry Basin    Basin  2016-06-02      3  35.070078  29.780153   \n",
       "4           4  Dry Basin    Basin  2016-06-20      3  -4.409587   8.524318   \n",
       "\n",
       "         max        min      type  \n",
       "0  69.103772 -36.431660  N2O_flux  \n",
       "1  59.131550  32.785158  N2O_flux  \n",
       "2 -11.158864 -33.060858  N2O_flux  \n",
       "3  63.171969   3.856082  N2O_flux  \n",
       "4   5.159191 -11.192190  N2O_flux  "
      ]
     },
     "execution_count": 87,
     "metadata": {},
     "output_type": "execute_result"
    }
   ],
   "source": [
    "data_avg_date_site.head()"
   ]
  },
  {
   "cell_type": "code",
   "execution_count": 146,
   "metadata": {},
   "outputs": [
    {
     "data": {
      "text/html": [
       "<div>\n",
       "<style scoped>\n",
       "    .dataframe tbody tr th:only-of-type {\n",
       "        vertical-align: middle;\n",
       "    }\n",
       "\n",
       "    .dataframe tbody tr th {\n",
       "        vertical-align: top;\n",
       "    }\n",
       "\n",
       "    .dataframe thead tr th {\n",
       "        text-align: left;\n",
       "    }\n",
       "\n",
       "    .dataframe thead tr:last-of-type th {\n",
       "        text-align: right;\n",
       "    }\n",
       "</style>\n",
       "<table border=\"1\" class=\"dataframe\">\n",
       "  <thead>\n",
       "    <tr>\n",
       "      <th></th>\n",
       "      <th></th>\n",
       "      <th colspan=\"8\" halign=\"left\">mean</th>\n",
       "    </tr>\n",
       "    <tr>\n",
       "      <th></th>\n",
       "      <th></th>\n",
       "      <th>count</th>\n",
       "      <th>mean</th>\n",
       "      <th>std</th>\n",
       "      <th>min</th>\n",
       "      <th>25%</th>\n",
       "      <th>50%</th>\n",
       "      <th>75%</th>\n",
       "      <th>max</th>\n",
       "    </tr>\n",
       "    <tr>\n",
       "      <th>type</th>\n",
       "      <th>Site</th>\n",
       "      <th></th>\n",
       "      <th></th>\n",
       "      <th></th>\n",
       "      <th></th>\n",
       "      <th></th>\n",
       "      <th></th>\n",
       "      <th></th>\n",
       "      <th></th>\n",
       "    </tr>\n",
       "  </thead>\n",
       "  <tbody>\n",
       "    <tr>\n",
       "      <th rowspan=\"2\" valign=\"top\">CH4_flux</th>\n",
       "      <th>Dry Basin</th>\n",
       "      <td>68.0</td>\n",
       "      <td>-13.595635</td>\n",
       "      <td>191.152324</td>\n",
       "      <td>-1116.887042</td>\n",
       "      <td>-68.360194</td>\n",
       "      <td>-3.523738</td>\n",
       "      <td>36.399803</td>\n",
       "      <td>500.862026</td>\n",
       "    </tr>\n",
       "    <tr>\n",
       "      <th>Wet Basin</th>\n",
       "      <td>68.0</td>\n",
       "      <td>2230.339641</td>\n",
       "      <td>3382.032552</td>\n",
       "      <td>-207.527901</td>\n",
       "      <td>-29.895293</td>\n",
       "      <td>134.289057</td>\n",
       "      <td>2983.818705</td>\n",
       "      <td>10734.189013</td>\n",
       "    </tr>\n",
       "    <tr>\n",
       "      <th rowspan=\"2\" valign=\"top\">N2O_flux</th>\n",
       "      <th>Dry Basin</th>\n",
       "      <td>68.0</td>\n",
       "      <td>11.233201</td>\n",
       "      <td>51.058478</td>\n",
       "      <td>-298.230911</td>\n",
       "      <td>-3.812977</td>\n",
       "      <td>15.118377</td>\n",
       "      <td>33.556028</td>\n",
       "      <td>100.726066</td>\n",
       "    </tr>\n",
       "    <tr>\n",
       "      <th>Wet Basin</th>\n",
       "      <td>68.0</td>\n",
       "      <td>11.602980</td>\n",
       "      <td>317.935604</td>\n",
       "      <td>-1684.386644</td>\n",
       "      <td>2.020282</td>\n",
       "      <td>10.229446</td>\n",
       "      <td>25.640310</td>\n",
       "      <td>1863.619929</td>\n",
       "    </tr>\n",
       "  </tbody>\n",
       "</table>\n",
       "</div>"
      ],
      "text/plain": [
       "                    mean                                                    \\\n",
       "                   count         mean          std          min        25%   \n",
       "type     Site                                                                \n",
       "CH4_flux Dry Basin  68.0   -13.595635   191.152324 -1116.887042 -68.360194   \n",
       "         Wet Basin  68.0  2230.339641  3382.032552  -207.527901 -29.895293   \n",
       "N2O_flux Dry Basin  68.0    11.233201    51.058478  -298.230911  -3.812977   \n",
       "         Wet Basin  68.0    11.602980   317.935604 -1684.386644   2.020282   \n",
       "\n",
       "                                                           \n",
       "                           50%          75%           max  \n",
       "type     Site                                              \n",
       "CH4_flux Dry Basin   -3.523738    36.399803    500.862026  \n",
       "         Wet Basin  134.289057  2983.818705  10734.189013  \n",
       "N2O_flux Dry Basin   15.118377    33.556028    100.726066  \n",
       "         Wet Basin   10.229446    25.640310   1863.619929  "
      ]
     },
     "execution_count": 146,
     "metadata": {},
     "output_type": "execute_result"
    }
   ],
   "source": [
    "data_avg_date_site[['mean', 'type', 'Site']].groupby(['type','Site']).describe()"
   ]
  },
  {
   "cell_type": "markdown",
   "metadata": {},
   "source": [
    "Sample events and total samples:"
   ]
  },
  {
   "cell_type": "code",
   "execution_count": 88,
   "metadata": {},
   "outputs": [
    {
     "data": {
      "text/plain": [
       "Rain\n",
       "NoRain     18\n",
       "YesRain    16\n",
       "Name: Date, dtype: int64"
      ]
     },
     "execution_count": 88,
     "metadata": {},
     "output_type": "execute_result"
    }
   ],
   "source": [
    "#number of events during rain\n",
    "data.groupby(by=['Rain'])['Date'].nunique() #counts unique dates in either the Rain or NoRain category"
   ]
  },
  {
   "cell_type": "markdown",
   "metadata": {},
   "source": [
    "For statistical purposes we want to know if the data is approximately normal, let's look at histograms"
   ]
  },
  {
   "cell_type": "code",
   "execution_count": 89,
   "metadata": {},
   "outputs": [
    {
     "data": {
      "text/html": [
       "<div>\n",
       "<style scoped>\n",
       "    .dataframe tbody tr th:only-of-type {\n",
       "        vertical-align: middle;\n",
       "    }\n",
       "\n",
       "    .dataframe tbody tr th {\n",
       "        vertical-align: top;\n",
       "    }\n",
       "\n",
       "    .dataframe thead th {\n",
       "        text-align: right;\n",
       "    }\n",
       "</style>\n",
       "<table border=\"1\" class=\"dataframe\">\n",
       "  <thead>\n",
       "    <tr style=\"text-align: right;\">\n",
       "      <th></th>\n",
       "      <th>Unnamed: 0</th>\n",
       "      <th>Unnamed: 0.1</th>\n",
       "      <th>VWC</th>\n",
       "      <th>Temp</th>\n",
       "      <th>Conductivity</th>\n",
       "      <th>Soil.Porosity</th>\n",
       "      <th>Saturation</th>\n",
       "      <th>AirT</th>\n",
       "      <th>Precip</th>\n",
       "      <th>flux_N2O</th>\n",
       "      <th>r.squared.N2O</th>\n",
       "      <th>flux_CH4</th>\n",
       "      <th>r.squared.CH4</th>\n",
       "      <th>r.squared.CO2</th>\n",
       "      <th>flux_CO2</th>\n",
       "      <th>precip3</th>\n",
       "    </tr>\n",
       "  </thead>\n",
       "  <tbody>\n",
       "    <tr>\n",
       "      <th>count</th>\n",
       "      <td>340.000000</td>\n",
       "      <td>340.000000</td>\n",
       "      <td>338.000000</td>\n",
       "      <td>337.000000</td>\n",
       "      <td>338.000000</td>\n",
       "      <td>340.000000</td>\n",
       "      <td>328.000000</td>\n",
       "      <td>340.000000</td>\n",
       "      <td>340.000000</td>\n",
       "      <td>335.000000</td>\n",
       "      <td>336.000000</td>\n",
       "      <td>330.000000</td>\n",
       "      <td>328.000000</td>\n",
       "      <td>336.000000</td>\n",
       "      <td>3.350000e+02</td>\n",
       "      <td>340.000000</td>\n",
       "    </tr>\n",
       "    <tr>\n",
       "      <th>mean</th>\n",
       "      <td>4.270588</td>\n",
       "      <td>5.270588</td>\n",
       "      <td>39.861841</td>\n",
       "      <td>20.744519</td>\n",
       "      <td>0.494750</td>\n",
       "      <td>0.613683</td>\n",
       "      <td>0.630008</td>\n",
       "      <td>18.364804</td>\n",
       "      <td>5.352059</td>\n",
       "      <td>12.752348</td>\n",
       "      <td>0.397947</td>\n",
       "      <td>1268.427103</td>\n",
       "      <td>0.474582</td>\n",
       "      <td>0.826245</td>\n",
       "      <td>5.053908e+05</td>\n",
       "      <td>10.914529</td>\n",
       "    </tr>\n",
       "    <tr>\n",
       "      <th>std</th>\n",
       "      <td>2.877594</td>\n",
       "      <td>2.877594</td>\n",
       "      <td>19.098067</td>\n",
       "      <td>4.325547</td>\n",
       "      <td>0.695765</td>\n",
       "      <td>0.115128</td>\n",
       "      <td>0.220473</td>\n",
       "      <td>5.369834</td>\n",
       "      <td>7.722302</td>\n",
       "      <td>353.446558</td>\n",
       "      <td>0.318876</td>\n",
       "      <td>4464.469885</td>\n",
       "      <td>0.349130</td>\n",
       "      <td>0.237740</td>\n",
       "      <td>1.326710e+06</td>\n",
       "      <td>16.871197</td>\n",
       "    </tr>\n",
       "    <tr>\n",
       "      <th>min</th>\n",
       "      <td>0.000000</td>\n",
       "      <td>1.000000</td>\n",
       "      <td>18.970000</td>\n",
       "      <td>0.800000</td>\n",
       "      <td>-0.186389</td>\n",
       "      <td>0.485886</td>\n",
       "      <td>0.300000</td>\n",
       "      <td>4.400000</td>\n",
       "      <td>0.000000</td>\n",
       "      <td>-3300.613257</td>\n",
       "      <td>0.000036</td>\n",
       "      <td>-3359.142570</td>\n",
       "      <td>0.000082</td>\n",
       "      <td>0.000626</td>\n",
       "      <td>-2.891754e+06</td>\n",
       "      <td>0.000000</td>\n",
       "    </tr>\n",
       "    <tr>\n",
       "      <th>25%</th>\n",
       "      <td>2.000000</td>\n",
       "      <td>3.000000</td>\n",
       "      <td>26.540000</td>\n",
       "      <td>17.900000</td>\n",
       "      <td>0.100000</td>\n",
       "      <td>0.527784</td>\n",
       "      <td>0.478666</td>\n",
       "      <td>16.388889</td>\n",
       "      <td>0.000000</td>\n",
       "      <td>-10.327446</td>\n",
       "      <td>0.088035</td>\n",
       "      <td>-70.124796</td>\n",
       "      <td>0.120445</td>\n",
       "      <td>0.761569</td>\n",
       "      <td>1.474954e+05</td>\n",
       "      <td>0.000000</td>\n",
       "    </tr>\n",
       "    <tr>\n",
       "      <th>50%</th>\n",
       "      <td>4.000000</td>\n",
       "      <td>5.000000</td>\n",
       "      <td>32.960650</td>\n",
       "      <td>21.200000</td>\n",
       "      <td>0.190000</td>\n",
       "      <td>0.562161</td>\n",
       "      <td>0.570000</td>\n",
       "      <td>19.168333</td>\n",
       "      <td>0.000000</td>\n",
       "      <td>12.276463</td>\n",
       "      <td>0.348919</td>\n",
       "      <td>16.553734</td>\n",
       "      <td>0.451750</td>\n",
       "      <td>0.938897</td>\n",
       "      <td>2.908068e+05</td>\n",
       "      <td>2.921000</td>\n",
       "    </tr>\n",
       "    <tr>\n",
       "      <th>75%</th>\n",
       "      <td>7.000000</td>\n",
       "      <td>8.000000</td>\n",
       "      <td>44.766825</td>\n",
       "      <td>23.900000</td>\n",
       "      <td>0.587500</td>\n",
       "      <td>0.676937</td>\n",
       "      <td>0.751555</td>\n",
       "      <td>22.200000</td>\n",
       "      <td>8.128000</td>\n",
       "      <td>37.007936</td>\n",
       "      <td>0.669848</td>\n",
       "      <td>210.775462</td>\n",
       "      <td>0.824261</td>\n",
       "      <td>0.987848</td>\n",
       "      <td>4.906169e+05</td>\n",
       "      <td>15.748000</td>\n",
       "    </tr>\n",
       "    <tr>\n",
       "      <th>max</th>\n",
       "      <td>9.000000</td>\n",
       "      <td>10.000000</td>\n",
       "      <td>113.200000</td>\n",
       "      <td>30.700000</td>\n",
       "      <td>4.140000</td>\n",
       "      <td>0.890000</td>\n",
       "      <td>2.006049</td>\n",
       "      <td>26.944444</td>\n",
       "      <td>25.400000</td>\n",
       "      <td>5167.577487</td>\n",
       "      <td>1.000000</td>\n",
       "      <td>30880.803224</td>\n",
       "      <td>1.000000</td>\n",
       "      <td>1.000000</td>\n",
       "      <td>1.457042e+07</td>\n",
       "      <td>79.756000</td>\n",
       "    </tr>\n",
       "  </tbody>\n",
       "</table>\n",
       "</div>"
      ],
      "text/plain": [
       "       Unnamed: 0  Unnamed: 0.1         VWC        Temp  Conductivity  \\\n",
       "count  340.000000    340.000000  338.000000  337.000000    338.000000   \n",
       "mean     4.270588      5.270588   39.861841   20.744519      0.494750   \n",
       "std      2.877594      2.877594   19.098067    4.325547      0.695765   \n",
       "min      0.000000      1.000000   18.970000    0.800000     -0.186389   \n",
       "25%      2.000000      3.000000   26.540000   17.900000      0.100000   \n",
       "50%      4.000000      5.000000   32.960650   21.200000      0.190000   \n",
       "75%      7.000000      8.000000   44.766825   23.900000      0.587500   \n",
       "max      9.000000     10.000000  113.200000   30.700000      4.140000   \n",
       "\n",
       "       Soil.Porosity  Saturation        AirT      Precip     flux_N2O  \\\n",
       "count     340.000000  328.000000  340.000000  340.000000   335.000000   \n",
       "mean        0.613683    0.630008   18.364804    5.352059    12.752348   \n",
       "std         0.115128    0.220473    5.369834    7.722302   353.446558   \n",
       "min         0.485886    0.300000    4.400000    0.000000 -3300.613257   \n",
       "25%         0.527784    0.478666   16.388889    0.000000   -10.327446   \n",
       "50%         0.562161    0.570000   19.168333    0.000000    12.276463   \n",
       "75%         0.676937    0.751555   22.200000    8.128000    37.007936   \n",
       "max         0.890000    2.006049   26.944444   25.400000  5167.577487   \n",
       "\n",
       "       r.squared.N2O      flux_CH4  r.squared.CH4  r.squared.CO2  \\\n",
       "count     336.000000    330.000000     328.000000     336.000000   \n",
       "mean        0.397947   1268.427103       0.474582       0.826245   \n",
       "std         0.318876   4464.469885       0.349130       0.237740   \n",
       "min         0.000036  -3359.142570       0.000082       0.000626   \n",
       "25%         0.088035    -70.124796       0.120445       0.761569   \n",
       "50%         0.348919     16.553734       0.451750       0.938897   \n",
       "75%         0.669848    210.775462       0.824261       0.987848   \n",
       "max         1.000000  30880.803224       1.000000       1.000000   \n",
       "\n",
       "           flux_CO2     precip3  \n",
       "count  3.350000e+02  340.000000  \n",
       "mean   5.053908e+05   10.914529  \n",
       "std    1.326710e+06   16.871197  \n",
       "min   -2.891754e+06    0.000000  \n",
       "25%    1.474954e+05    0.000000  \n",
       "50%    2.908068e+05    2.921000  \n",
       "75%    4.906169e+05   15.748000  \n",
       "max    1.457042e+07   79.756000  "
      ]
     },
     "execution_count": 89,
     "metadata": {},
     "output_type": "execute_result"
    }
   ],
   "source": [
    "data.describe()"
   ]
  },
  {
   "cell_type": "code",
   "execution_count": 90,
   "metadata": {},
   "outputs": [
    {
     "data": {
      "text/plain": [
       "<matplotlib.axes._subplots.AxesSubplot at 0x23184150eb8>"
      ]
     },
     "execution_count": 90,
     "metadata": {},
     "output_type": "execute_result"
    },
    {
     "data": {
      "image/png": "[encoded data removed]",
      "text/plain": [
       "<matplotlib.figure.Figure at 0x23184115e10>"
      ]
     },
     "metadata": {},
     "output_type": "display_data"
    }
   ],
   "source": [
    "data['flux_N2O'].hist()"
   ]
  },
  {
   "cell_type": "code",
   "execution_count": 91,
   "metadata": {},
   "outputs": [
    {
     "data": {
      "text/plain": [
       "(array([  1.,   0.,   3., 311.,  19.,   0.,   0.,   0.,   0.,   1.]),\n",
       " array([-3300.61325674, -2453.79418241, -1606.97510809,  -760.15603376,\n",
       "           86.66304057,   933.4821149 ,  1780.30118922,  2627.12026355,\n",
       "         3473.93933788,  4320.75841221,  5167.57748653]),\n",
       " <a list of 10 Patch objects>)"
      ]
     },
     "execution_count": 91,
     "metadata": {},
     "output_type": "execute_result"
    },
    {
     "data": {
      "image/png": "[encoded data removed]",
      "text/plain": [
       "<matplotlib.figure.Figure at 0x231840afb38>"
      ]
     },
     "metadata": {},
     "output_type": "display_data"
    }
   ],
   "source": [
    "plt.hist(data['flux_N2O'].dropna()) #for matplot lib you must drop NAs prior to plotting\n",
    "\n",
    "#(A[~np.isnan(A)])"
   ]
  },
  {
   "cell_type": "code",
   "execution_count": 92,
   "metadata": {},
   "outputs": [
    {
     "data": {
      "text/plain": [
       "<matplotlib.axes._subplots.AxesSubplot at 0x23183601b00>"
      ]
     },
     "execution_count": 92,
     "metadata": {},
     "output_type": "execute_result"
    },
    {
     "data": {
      "image/png": "[encoded data removed]",
      "text/plain": [
       "<matplotlib.figure.Figure at 0x231835e16d8>"
      ]
     },
     "metadata": {},
     "output_type": "display_data"
    }
   ],
   "source": [
    "data[['flux_N2O']].plot(kind='box')"
   ]
  },
  {
   "cell_type": "code",
   "execution_count": 93,
   "metadata": {},
   "outputs": [
    {
     "data": {
      "text/plain": [
       "<matplotlib.axes._subplots.AxesSubplot at 0x23183797940>"
      ]
     },
     "execution_count": 93,
     "metadata": {},
     "output_type": "execute_result"
    },
    {
     "data": {
      "image/png": "[encoded data removed]",
      "text/plain": [
       "<matplotlib.figure.Figure at 0x2318377d438>"
      ]
     },
     "metadata": {},
     "output_type": "display_data"
    }
   ],
   "source": [
    "data[['flux_CH4']].plot(kind='box')"
   ]
  },
  {
   "cell_type": "markdown",
   "metadata": {},
   "source": [
    "#1. Are basins a bigger GHG source than reference grasses?\n",
    "paired t-test for each Site comparing basin vs. reference (paired at each sample timepoint). compares average emissions from each basin vs avg emissions from reference site.\n",
    "\n",
    "In paired samples, only the difference between the pairs must be normal (not the underlying data itself).\n"
   ]
  },
  {
   "cell_type": "code",
   "execution_count": 94,
   "metadata": {},
   "outputs": [],
   "source": [
    "data_avg_date_site_Wet=data_avg_date_site[data_avg_date_site['Site']=='Wet Basin']#separate by site\n",
    "data_avg_date_site_Wet_N2O=data_avg_date_site_Wet[data_avg_date_site_Wet.type=='N2O_flux']\n",
    "data_avg_date_site_Wet_CH4=data_avg_date_site_Wet[data_avg_date_site_Wet.type=='CH4_flux']"
   ]
  },
  {
   "cell_type": "code",
   "execution_count": 96,
   "metadata": {},
   "outputs": [],
   "source": [
    "diffwet_N2O=[]\n",
    "\n",
    "for i in data_avg_date_site_Wet_N2O.Date:\n",
    "    date1=i\n",
    "    N2O_date=data_avg_date_site_Wet_N2O[data_avg_date_site_Wet_N2O['Date']== date1]\n",
    "    diffwet_N2O.append(N2O_date['mean'].iloc[0]-N2O_date['mean'].iloc[1])\n",
    "    "
   ]
  },
  {
   "cell_type": "code",
   "execution_count": 97,
   "metadata": {},
   "outputs": [
    {
     "data": {
      "text/html": [
       "<div>\n",
       "<style scoped>\n",
       "    .dataframe tbody tr th:only-of-type {\n",
       "        vertical-align: middle;\n",
       "    }\n",
       "\n",
       "    .dataframe tbody tr th {\n",
       "        vertical-align: top;\n",
       "    }\n",
       "\n",
       "    .dataframe thead th {\n",
       "        text-align: right;\n",
       "    }\n",
       "</style>\n",
       "<table border=\"1\" class=\"dataframe\">\n",
       "  <thead>\n",
       "    <tr style=\"text-align: right;\">\n",
       "      <th></th>\n",
       "      <th>Unnamed: 0</th>\n",
       "      <th>Site</th>\n",
       "      <th>Location</th>\n",
       "      <th>Date</th>\n",
       "      <th>count</th>\n",
       "      <th>mean</th>\n",
       "      <th>std</th>\n",
       "      <th>max</th>\n",
       "      <th>min</th>\n",
       "      <th>type</th>\n",
       "    </tr>\n",
       "  </thead>\n",
       "  <tbody>\n",
       "    <tr>\n",
       "      <th>101</th>\n",
       "      <td>101</td>\n",
       "      <td>Wet Basin</td>\n",
       "      <td>Basin</td>\n",
       "      <td>2017-10-28</td>\n",
       "      <td>3</td>\n",
       "      <td>-27.710313</td>\n",
       "      <td>123.497867</td>\n",
       "      <td>83.966393</td>\n",
       "      <td>-160.346832</td>\n",
       "      <td>N2O_flux</td>\n",
       "    </tr>\n",
       "    <tr>\n",
       "      <th>135</th>\n",
       "      <td>135</td>\n",
       "      <td>Wet Basin</td>\n",
       "      <td>Reference</td>\n",
       "      <td>2017-10-28</td>\n",
       "      <td>2</td>\n",
       "      <td>-56.415022</td>\n",
       "      <td>20.779003</td>\n",
       "      <td>-41.722048</td>\n",
       "      <td>-71.107996</td>\n",
       "      <td>N2O_flux</td>\n",
       "    </tr>\n",
       "  </tbody>\n",
       "</table>\n",
       "</div>"
      ],
      "text/plain": [
       "     Unnamed: 0       Site   Location        Date  count       mean  \\\n",
       "101         101  Wet Basin      Basin  2017-10-28      3 -27.710313   \n",
       "135         135  Wet Basin  Reference  2017-10-28      2 -56.415022   \n",
       "\n",
       "            std        max         min      type  \n",
       "101  123.497867  83.966393 -160.346832  N2O_flux  \n",
       "135   20.779003 -41.722048  -71.107996  N2O_flux  "
      ]
     },
     "execution_count": 97,
     "metadata": {},
     "output_type": "execute_result"
    }
   ],
   "source": [
    "N2O_date"
   ]
  },
  {
   "cell_type": "code",
   "execution_count": 99,
   "metadata": {},
   "outputs": [
    {
     "data": {
      "text/plain": [
       "(array([ 2.,  0.,  2., 58.,  4.,  0.,  0.,  0.,  0.,  2.]),\n",
       " array([-1105.40453809,  -809.28348726,  -513.16243642,  -217.04138559,\n",
       "           79.07966525,   375.20071608,   671.32176691,   967.44281775,\n",
       "         1263.56386858,  1559.68491941,  1855.80597025]),\n",
       " <a list of 10 Patch objects>)"
      ]
     },
     "execution_count": 99,
     "metadata": {},
     "output_type": "execute_result"
    },
    {
     "data": {
      "image/png": "[encoded data removed]",
      "text/plain": [
       "<matplotlib.figure.Figure at 0x23184036eb8>"
      ]
     },
     "metadata": {},
     "output_type": "display_data"
    }
   ],
   "source": [
    "plt.hist(diffwet_N2O) #close enough to normal, with a few outliers"
   ]
  },
  {
   "cell_type": "code",
   "execution_count": 100,
   "metadata": {},
   "outputs": [
    {
     "data": {
      "text/plain": [
       "((array([-2.32106882, -1.96667152, -1.75959896, -1.60847785, -1.48711175,\n",
       "         -1.38438684, -1.2944942 , -1.21399533, -1.14067729, -1.07302705,\n",
       "         -1.00996155, -0.95067684, -0.89455843, -0.84112498, -0.78999163,\n",
       "         -0.74084506, -0.6934262 , -0.64751782, -0.6029355 , -0.55952081,\n",
       "         -0.51713622, -0.47566115, -0.43498882, -0.39502386, -0.35568028,\n",
       "         -0.31687988, -0.27855092, -0.240627  , -0.20304616, -0.16575001,\n",
       "         -0.12868308, -0.09179218, -0.05502582, -0.01833371,  0.01833371,\n",
       "          0.05502582,  0.09179218,  0.12868308,  0.16575001,  0.20304616,\n",
       "          0.240627  ,  0.27855092,  0.31687988,  0.35568028,  0.39502386,\n",
       "          0.43498882,  0.47566115,  0.51713622,  0.55952081,  0.6029355 ,\n",
       "          0.64751782,  0.6934262 ,  0.74084506,  0.78999163,  0.84112498,\n",
       "          0.89455843,  0.95067684,  1.00996155,  1.07302705,  1.14067729,\n",
       "          1.21399533,  1.2944942 ,  1.38438684,  1.48711175,  1.60847785,\n",
       "          1.75959896,  1.96667152,  2.32106882]),\n",
       "  array([-1105.40453809, -1105.40453809,  -242.65400478,  -242.65400478,\n",
       "           -49.76647118,   -49.76647118,   -45.36313695,   -45.36313695,\n",
       "           -28.93904965,   -28.93904965,   -28.32043892,   -28.32043892,\n",
       "           -27.2600534 ,   -27.2600534 ,   -25.10907074,   -25.10907074,\n",
       "           -25.01123645,   -25.01123645,   -14.32055756,   -14.32055756,\n",
       "           -10.78078026,   -10.78078026,    -9.08766846,    -9.08766846,\n",
       "            -8.68100759,    -8.68100759,    -8.51540146,    -8.51540146,\n",
       "             6.44020774,     6.44020774,    10.50400945,    10.50400945,\n",
       "            10.9648031 ,    10.9648031 ,    12.34460562,    12.34460562,\n",
       "            12.79387973,    12.79387973,    13.23632659,    13.23632659,\n",
       "            15.16528293,    15.16528293,    15.25146456,    15.25146456,\n",
       "            17.85095569,    17.85095569,    20.05886136,    20.05886136,\n",
       "            25.3627248 ,    25.3627248 ,    26.42306761,    26.42306761,\n",
       "            28.70470893,    28.70470893,    54.81991644,    54.81991644,\n",
       "            56.73435446,    56.73435446,    68.42703048,    68.42703048,\n",
       "            76.93492279,    76.93492279,   133.64603305,   133.64603305,\n",
       "           135.80842269,   135.80842269,  1855.80597025,  1855.80597025])),\n",
       " (242.80941951056437, 28.472474493720696, 0.6308026593470122))"
      ]
     },
     "execution_count": 100,
     "metadata": {},
     "output_type": "execute_result"
    },
    {
     "data": {
      "image/png": "[encoded data removed]",
      "text/plain": [
       "<matplotlib.figure.Figure at 0x23183ef5b00>"
      ]
     },
     "metadata": {},
     "output_type": "display_data"
    }
   ],
   "source": [
    "#stats.probplot(diffwet_N2O, plot= plt)"
   ]
  },
  {
   "cell_type": "code",
   "execution_count": 106,
   "metadata": {},
   "outputs": [
    {
     "data": {
      "text/plain": [
       "Ttest_relResult(statistic=0.43698979904114144, pvalue=0.6649650554819232)"
      ]
     },
     "execution_count": 106,
     "metadata": {},
     "output_type": "execute_result"
    }
   ],
   "source": [
    "stats.ttest_rel(data_avg_date_site_Wet_N2O['mean'][data_avg_date_site_Wet_N2O['Location']=='Basin'] , data_avg_date_site_Wet_N2O['mean'][data_avg_date_site_Wet_N2O['Location']=='Reference'])"
   ]
  },
  {
   "cell_type": "code",
   "execution_count": 107,
   "metadata": {},
   "outputs": [
    {
     "data": {
      "text/plain": [
       "Ttest_relResult(statistic=6.768139129968034, pvalue=1.0250892295502424e-07)"
      ]
     },
     "execution_count": 107,
     "metadata": {},
     "output_type": "execute_result"
    }
   ],
   "source": [
    "#t test for wet basin methane CH4 emissions\n",
    "stats.ttest_rel(data_avg_date_site_Wet_CH4['mean'][data_avg_date_site_Wet_CH4['Location']=='Basin'] , data_avg_date_site_Wet_CH4['mean'][data_avg_date_site_Wet_CH4['Location']=='Reference'])\n"
   ]
  },
  {
   "cell_type": "code",
   "execution_count": 110,
   "metadata": {},
   "outputs": [
    {
     "data": {
      "text/plain": [
       "WilcoxonResult(statistic=237.0, pvalue=0.30097763353400153)"
      ]
     },
     "execution_count": 110,
     "metadata": {},
     "output_type": "execute_result"
    }
   ],
   "source": [
    "#nonparametric test, wilcoxon rank sum test, simmilar to paired t-test\n",
    "stats.wilcoxon(data_avg_date_site_Wet_N2O['mean'][data_avg_date_site_Wet_N2O['Location']=='Basin'] , data_avg_date_site_Wet_N2O['mean'][data_avg_date_site_Wet_N2O['Location']=='Reference'])\n",
    "#same thing, not significant for N2O"
   ]
  },
  {
   "cell_type": "markdown",
   "metadata": {},
   "source": [
    "Does the Wet Basin produce more GHG emissions than the Dry Basin?\n",
    "Use paired t-tests, because these were sampled at the same date for each site"
   ]
  },
  {
   "cell_type": "code",
   "execution_count": 121,
   "metadata": {},
   "outputs": [
    {
     "data": {
      "text/plain": [
       "Ttest_relResult(statistic=6.881001210070227, pvalue=7.401646776699464e-08)"
      ]
     },
     "execution_count": 121,
     "metadata": {},
     "output_type": "execute_result"
    }
   ],
   "source": [
    "data_avg_date_basin_CH4=data_avg_date_site[(data_avg_date_site['type']=='CH4_flux') & (data_avg_date_site['Location']=='Basin')]\n",
    "stats.ttest_rel(data_avg_date_basin_CH4['mean'][data_avg_date_basin_CH4['Site']=='Wet Basin'] , data_avg_date_basin_CH4['mean'][data_avg_date_basin_CH4['Site']=='Dry Basin'])"
   ]
  },
  {
   "cell_type": "markdown",
   "metadata": {},
   "source": [
    "The small p-value (<0.001) suggests that there are significant differences between the Wet and Dry Basin for Methane (CH4) emissions"
   ]
  },
  {
   "cell_type": "code",
   "execution_count": 124,
   "metadata": {},
   "outputs": [
    {
     "data": {
      "text/plain": [
       "Ttest_relResult(statistic=0.16485750264392351, pvalue=0.8700618652627636)"
      ]
     },
     "execution_count": 124,
     "metadata": {},
     "output_type": "execute_result"
    }
   ],
   "source": [
    "data_avg_date_basin_N2O=data_avg_date_site[(data_avg_date_site['type']=='N2O_flux') & (data_avg_date_site['Location']=='Basin')]\n",
    "stats.ttest_rel(data_avg_date_basin_N2O['mean'][data_avg_date_basin_N2O['Site']=='Wet Basin'] , data_avg_date_basin_N2O['mean'][data_avg_date_basin_N2O['Site']=='Dry Basin'])"
   ]
  },
  {
   "cell_type": "markdown",
   "metadata": {},
   "source": [
    "This large p-value, 0.87, suggests there is NO differnce between N2O emissions for the Dry and Wet basins."
   ]
  },
  {
   "cell_type": "code",
   "execution_count": 147,
   "metadata": {},
   "outputs": [
    {
     "data": {
      "text/plain": [
       "type\n",
       "CH4_flux    (6.881001210070227, 7.401646776699464e-08)\n",
       "N2O_flux     (0.16485750264392351, 0.8700618652627636)\n",
       "dtype: object"
      ]
     },
     "execution_count": 147,
     "metadata": {},
     "output_type": "execute_result"
    }
   ],
   "source": [
    "#try to do the same thing, testing diffrences between sites with group by clause\n",
    "data_avg_date_basin=data_avg_date_site[data_avg_date_site['Location']==\"Basin\"]\n",
    "data_avg_date_basin.groupby('type').apply(lambda df: stats.ttest_rel(df['mean'][df['Site']=='Wet Basin'] , df['mean'][df['Site']=='Dry Basin']))"
   ]
  },
  {
   "cell_type": "code",
   "execution_count": null,
   "metadata": {},
   "outputs": [],
   "source": []
  }
 ],
 "metadata": {
  "kernelspec": {
   "display_name": "Python 3",
   "language": "python",
   "name": "python3"
  },
  "language_info": {
   "codemirror_mode": {
    "name": "ipython",
    "version": 3
   },
   "file_extension": ".py",
   "mimetype": "text/x-python",
   "name": "python",
   "nbconvert_exporter": "python",
   "pygments_lexer": "ipython3",
   "version": "3.6.4"
  }
 },
 "nbformat": 4,
 "nbformat_minor": 2
}
