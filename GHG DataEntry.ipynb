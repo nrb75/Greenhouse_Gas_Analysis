{
 "cells": [
  {
   "cell_type": "markdown",
   "metadata": {},
   "source": [
    "Enter all Greenhouse Gas (GHG) data from monitoring stormwater basins for Methane (CH4) and Nitrous Oxide (N2O)."
   ]
  },
  {
   "cell_type": "code",
   "execution_count": 1,
   "metadata": {},
   "outputs": [],
   "source": [
    "import numpy as np\n",
    "import pandas as pd\n",
    "import matplotlib.pyplot as plt\n",
    "import glob\n",
    "import os\n",
    "%matplotlib inline"
   ]
  },
  {
   "cell_type": "code",
   "execution_count": 2,
   "metadata": {},
   "outputs": [],
   "source": [
    "#read in multiple csv viles and concatonate them all into 1 dataframe\n",
    "path =r'C:\\Users\\Natalie\\Box Sync\\Basins - Campus\\Collected Data\\Greenhouse Gas\\R Working Files\\Processed Data' # use your path\n",
    "allFiles = glob.glob(os.path.join(path, \"GHGflux*.csv\"))\n",
    "data1 = pd.DataFrame()\n",
    "list_ = []\n",
    "for file_ in allFiles:\n",
    "    df = pd.read_csv(file_,index_col=None, na_values='NA')\n",
    "    list_.append(df)\n",
    "data1 = pd.concat(list_)"
   ]
  },
  {
   "cell_type": "code",
   "execution_count": 3,
   "metadata": {},
   "outputs": [],
   "source": [
    "path =r'C:\\Users\\Natalie\\Box Sync\\Basins - Campus\\Collected Data\\Greenhouse Gas\\R Working Files\\Processed Data'\n",
    "all_files = glob.glob(os.path.join(path, \"GHGflux*.csv\"))\n",
    "data=pd.concat(pd.read_csv(f) for f in all_files)"
   ]
  },
  {
   "cell_type": "code",
   "execution_count": 4,
   "metadata": {},
   "outputs": [
    {
     "data": {
      "text/html": [
       "<div>\n",
       "<style scoped>\n",
       "    .dataframe tbody tr th:only-of-type {\n",
       "        vertical-align: middle;\n",
       "    }\n",
       "\n",
       "    .dataframe tbody tr th {\n",
       "        vertical-align: top;\n",
       "    }\n",
       "\n",
       "    .dataframe thead th {\n",
       "        text-align: right;\n",
       "    }\n",
       "</style>\n",
       "<table border=\"1\" class=\"dataframe\">\n",
       "  <thead>\n",
       "    <tr style=\"text-align: right;\">\n",
       "      <th></th>\n",
       "      <th>Unnamed: 0</th>\n",
       "      <th>ID</th>\n",
       "      <th>Date</th>\n",
       "      <th>Site</th>\n",
       "      <th>Location</th>\n",
       "      <th>VWC</th>\n",
       "      <th>Temp</th>\n",
       "      <th>Conductivity</th>\n",
       "      <th>Soil.Porosity</th>\n",
       "      <th>Saturation</th>\n",
       "      <th>AirT</th>\n",
       "      <th>Rain</th>\n",
       "      <th>Precip</th>\n",
       "      <th>flux_N2O</th>\n",
       "      <th>r.squared.N2O</th>\n",
       "      <th>flux_CH4</th>\n",
       "      <th>r.squared.CH4</th>\n",
       "      <th>r.squared.CO2</th>\n",
       "      <th>flux_CO2</th>\n",
       "    </tr>\n",
       "  </thead>\n",
       "  <tbody>\n",
       "    <tr>\n",
       "      <th>0</th>\n",
       "      <td>1</td>\n",
       "      <td>E1</td>\n",
       "      <td>4/20/2016</td>\n",
       "      <td>Wet Basin</td>\n",
       "      <td>Basin</td>\n",
       "      <td>85.06</td>\n",
       "      <td>9.5</td>\n",
       "      <td>2.09</td>\n",
       "      <td>0.73</td>\n",
       "      <td>1.17</td>\n",
       "      <td>4.4</td>\n",
       "      <td>No Rain</td>\n",
       "      <td>NaN</td>\n",
       "      <td>-3.698828</td>\n",
       "      <td>0.003789</td>\n",
       "      <td>-22.757097</td>\n",
       "      <td>0.013714</td>\n",
       "      <td>0.608706</td>\n",
       "      <td>183595.128961</td>\n",
       "    </tr>\n",
       "    <tr>\n",
       "      <th>1</th>\n",
       "      <td>2</td>\n",
       "      <td>E2</td>\n",
       "      <td>4/20/2016</td>\n",
       "      <td>Wet Basin</td>\n",
       "      <td>Basin</td>\n",
       "      <td>36.77</td>\n",
       "      <td>11.7</td>\n",
       "      <td>0.10</td>\n",
       "      <td>0.68</td>\n",
       "      <td>0.54</td>\n",
       "      <td>4.4</td>\n",
       "      <td>No Rain</td>\n",
       "      <td>NaN</td>\n",
       "      <td>-0.354986</td>\n",
       "      <td>0.000036</td>\n",
       "      <td>-137.966454</td>\n",
       "      <td>0.647540</td>\n",
       "      <td>0.961278</td>\n",
       "      <td>190433.497043</td>\n",
       "    </tr>\n",
       "    <tr>\n",
       "      <th>2</th>\n",
       "      <td>3</td>\n",
       "      <td>E3</td>\n",
       "      <td>4/20/2016</td>\n",
       "      <td>Wet Basin</td>\n",
       "      <td>Basin</td>\n",
       "      <td>91.24</td>\n",
       "      <td>8.2</td>\n",
       "      <td>2.39</td>\n",
       "      <td>0.89</td>\n",
       "      <td>1.03</td>\n",
       "      <td>4.4</td>\n",
       "      <td>No Rain</td>\n",
       "      <td>NaN</td>\n",
       "      <td>21.720546</td>\n",
       "      <td>0.073681</td>\n",
       "      <td>21.883248</td>\n",
       "      <td>0.250702</td>\n",
       "      <td>0.472880</td>\n",
       "      <td>-10212.923765</td>\n",
       "    </tr>\n",
       "    <tr>\n",
       "      <th>3</th>\n",
       "      <td>4</td>\n",
       "      <td>E4</td>\n",
       "      <td>4/20/2016</td>\n",
       "      <td>Wet Basin</td>\n",
       "      <td>Reference</td>\n",
       "      <td>32.08</td>\n",
       "      <td>11.4</td>\n",
       "      <td>0.21</td>\n",
       "      <td>0.49</td>\n",
       "      <td>0.66</td>\n",
       "      <td>4.4</td>\n",
       "      <td>No Rain</td>\n",
       "      <td>NaN</td>\n",
       "      <td>20.625381</td>\n",
       "      <td>0.061650</td>\n",
       "      <td>-51.622236</td>\n",
       "      <td>0.346719</td>\n",
       "      <td>0.358094</td>\n",
       "      <td>126038.438749</td>\n",
       "    </tr>\n",
       "    <tr>\n",
       "      <th>4</th>\n",
       "      <td>5</td>\n",
       "      <td>E5</td>\n",
       "      <td>4/20/2016</td>\n",
       "      <td>Wet Basin</td>\n",
       "      <td>Reference</td>\n",
       "      <td>55.43</td>\n",
       "      <td>14.2</td>\n",
       "      <td>1.26</td>\n",
       "      <td>0.56</td>\n",
       "      <td>0.99</td>\n",
       "      <td>4.4</td>\n",
       "      <td>No Rain</td>\n",
       "      <td>NaN</td>\n",
       "      <td>-35.320212</td>\n",
       "      <td>0.138446</td>\n",
       "      <td>62.915548</td>\n",
       "      <td>0.293559</td>\n",
       "      <td>0.969641</td>\n",
       "      <td>225931.524478</td>\n",
       "    </tr>\n",
       "  </tbody>\n",
       "</table>\n",
       "</div>"
      ],
      "text/plain": [
       "   Unnamed: 0  ID       Date       Site   Location    VWC  Temp  Conductivity  \\\n",
       "0           1  E1  4/20/2016  Wet Basin      Basin  85.06   9.5          2.09   \n",
       "1           2  E2  4/20/2016  Wet Basin      Basin  36.77  11.7          0.10   \n",
       "2           3  E3  4/20/2016  Wet Basin      Basin  91.24   8.2          2.39   \n",
       "3           4  E4  4/20/2016  Wet Basin  Reference  32.08  11.4          0.21   \n",
       "4           5  E5  4/20/2016  Wet Basin  Reference  55.43  14.2          1.26   \n",
       "\n",
       "   Soil.Porosity  Saturation  AirT     Rain  Precip   flux_N2O  r.squared.N2O  \\\n",
       "0           0.73        1.17   4.4  No Rain     NaN  -3.698828       0.003789   \n",
       "1           0.68        0.54   4.4  No Rain     NaN  -0.354986       0.000036   \n",
       "2           0.89        1.03   4.4  No Rain     NaN  21.720546       0.073681   \n",
       "3           0.49        0.66   4.4  No Rain     NaN  20.625381       0.061650   \n",
       "4           0.56        0.99   4.4  No Rain     NaN -35.320212       0.138446   \n",
       "\n",
       "     flux_CH4  r.squared.CH4  r.squared.CO2       flux_CO2  \n",
       "0  -22.757097       0.013714       0.608706  183595.128961  \n",
       "1 -137.966454       0.647540       0.961278  190433.497043  \n",
       "2   21.883248       0.250702       0.472880  -10212.923765  \n",
       "3  -51.622236       0.346719       0.358094  126038.438749  \n",
       "4   62.915548       0.293559       0.969641  225931.524478  "
      ]
     },
     "execution_count": 4,
     "metadata": {},
     "output_type": "execute_result"
    }
   ],
   "source": [
    "#replace colum names\n",
    "data.rename(columns={'flux.N2O': 'flux_N2O', 'flux.CH4': 'flux_CH4', 'flux.CO2':'flux_CO2'}, inplace=True)\n",
    "\n",
    "data.head() #shows the dataframe we created"
   ]
  },
  {
   "cell_type": "code",
   "execution_count": 5,
   "metadata": {},
   "outputs": [],
   "source": [
    "data['Precip']=data['Precip'].fillna(0) #need to make sure we fill back in the origninal column with this new fill na 0\n",
    "#set no rain events to precip=0 instead of NA"
   ]
  },
  {
   "cell_type": "code",
   "execution_count": 6,
   "metadata": {},
   "outputs": [],
   "source": [
    "#import precipitation data\n",
    "data_precip=pd.read_csv(r'C:\\Users\\Natalie\\Box Sync\\Basins - Campus\\Collected Data\\Greenhouse Gas\\R Working Files\\Sample Data\\Basin_Precip.csv')\n",
    "#needs the r infront of the string to make sure it does not accidientally think User is unicode text"
   ]
  },
  {
   "cell_type": "markdown",
   "metadata": {},
   "source": [
    "##Remove data outliers greater than 4SD\n",
    "#determine the mean methane flux value, then the standard deviation (SD). Remove values that are greater than or less than mean+4*SD"
   ]
  },
  {
   "cell_type": "code",
   "execution_count": 7,
   "metadata": {},
   "outputs": [
    {
     "data": {
      "text/plain": [
       "5"
      ]
     },
     "execution_count": 7,
     "metadata": {},
     "output_type": "execute_result"
    }
   ],
   "source": [
    "#how many nas exist now\n",
    "data.flux_CH4.isnull().sum()"
   ]
  },
  {
   "cell_type": "code",
   "execution_count": 8,
   "metadata": {},
   "outputs": [
    {
     "data": {
      "text/plain": [
       "2    42522.502544\n",
       "0    60789.923953\n",
       "0    34970.140311\n",
       "0    51915.319631\n",
       "0    52249.835596\n",
       "Name: flux_CH4, dtype: float64"
      ]
     },
     "execution_count": 8,
     "metadata": {},
     "output_type": "execute_result"
    }
   ],
   "source": [
    "CH4_mean=data['flux_CH4'].mean()\n",
    "CH4_sd=data['flux_CH4'].std()\n",
    "CH4_4sd=CH4_mean+(4*CH4_sd)\n",
    "data.loc[abs(data['flux_CH4'])>CH4_4sd, 'flux_CH4']\n",
    "\n",
    "#df.loc[rows, columns] #in our case the rows are those that satisfy flux_CH4>4SD, and then it sets those values within the \n",
    "#Set value for rows matching callable condition, where rows match the column='shield', and the values in shield are >35\n",
    "#df.loc[df['shield'] > 35] = 0\n",
    "\n",
    "#df.loc[['viper', 'sidewinder'], ['shield']] = 50"
   ]
  },
  {
   "cell_type": "code",
   "execution_count": 9,
   "metadata": {},
   "outputs": [],
   "source": [
    "#replaces extreme values with NaN\n",
    "data.loc[abs(data['flux_CH4'])>CH4_4sd, 'flux_CH4']=None\n",
    "#selects columns were flux_CH4 < 4SD, and then in the column 'flux_CH4' it replaces these values with none. row, column\n",
    "\n",
    "#data.flux_CH4[data.flux_CH4>CH4_4sd]=None #this one throws an error b/c it looks like it is chained and not done properly."
   ]
  },
  {
   "cell_type": "code",
   "execution_count": 11,
   "metadata": {},
   "outputs": [
    {
     "data": {
      "text/plain": [
       "Series([], Name: flux_CH4, dtype: float64)"
      ]
     },
     "execution_count": 11,
     "metadata": {},
     "output_type": "execute_result"
    }
   ],
   "source": [
    "data.flux_CH4.isnull().sum() #counts up how many NAs\n",
    "\n",
    "#data.loc[abs(data['flux_CH4'])>CH4_4sd, 'flux_CH4'] #no more outliers"
   ]
  },
  {
   "cell_type": "markdown",
   "metadata": {},
   "source": [
    "Same thing for N2O outliers"
   ]
  },
  {
   "cell_type": "code",
   "execution_count": 447,
   "metadata": {},
   "outputs": [
    {
     "data": {
      "text/plain": [
       "2    5167.577487\n",
       "0   -3300.613257\n",
       "Name: flux_N2O, dtype: float64"
      ]
     },
     "execution_count": 447,
     "metadata": {},
     "output_type": "execute_result"
    }
   ],
   "source": [
    "N2O_mean=data['flux_N2O'].mean()\n",
    "N2O_sd=data['flux_N2O'].std()\n",
    "N2O_4sd=N2O_mean+(4*N2O_sd)\n",
    "data.loc[abs(data['flux_N2O'])>N2O_4sd, 'flux_N2O']"
   ]
  },
  {
   "cell_type": "code",
   "execution_count": 448,
   "metadata": {},
   "outputs": [
    {
     "data": {
      "text/plain": [
       "5"
      ]
     },
     "execution_count": 448,
     "metadata": {},
     "output_type": "execute_result"
    }
   ],
   "source": [
    "data.flux_N2O.isnull().sum() #originally 5 NAs"
   ]
  },
  {
   "cell_type": "code",
   "execution_count": 449,
   "metadata": {},
   "outputs": [
    {
     "data": {
      "text/plain": [
       "7"
      ]
     },
     "execution_count": 449,
     "metadata": {},
     "output_type": "execute_result"
    }
   ],
   "source": [
    "#replaces extreme values with NaN\n",
    "data.loc[abs(data['flux_N2O'])>N2O_4sd, 'flux_N2O']=None\n",
    "\n",
    "data.flux_N2O.isnull().sum()#now there are 7, so we removed the 2 outliers"
   ]
  },
  {
   "cell_type": "code",
   "execution_count": 450,
   "metadata": {},
   "outputs": [],
   "source": [
    "#remove soil saturation >1, as we cannot have greater than 100% saturated\n",
    "data.loc[data['Saturation']>1, 'Saturation']=None"
   ]
  },
  {
   "cell_type": "markdown",
   "metadata": {},
   "source": [
    "Get sum of 3-day rain prior to sampling event\n"
   ]
  },
  {
   "cell_type": "code",
   "execution_count": 451,
   "metadata": {},
   "outputs": [
    {
     "data": {
      "text/plain": [
       "340"
      ]
     },
     "execution_count": 451,
     "metadata": {},
     "output_type": "execute_result"
    }
   ],
   "source": [
    "data.shape[0] #total number of rows in the dataframe"
   ]
  },
  {
   "cell_type": "code",
   "execution_count": 452,
   "metadata": {},
   "outputs": [
    {
     "data": {
      "text/plain": [
       "Timestamp('2015-11-02 20:37:10')"
      ]
     },
     "execution_count": 452,
     "metadata": {},
     "output_type": "execute_result"
    }
   ],
   "source": [
    "pd.to_datetime('Mon Nov 02 20:37:10 GMT+00:00 2015')\n"
   ]
  },
  {
   "cell_type": "code",
   "execution_count": 12,
   "metadata": {},
   "outputs": [],
   "source": [
    "data.Date=pd.to_datetime(data['Date'])\n",
    "#xx.dtypes"
   ]
  },
  {
   "cell_type": "code",
   "execution_count": 454,
   "metadata": {},
   "outputs": [
    {
     "data": {
      "text/plain": [
       "Unnamed: 0                int64\n",
       "ID                       object\n",
       "Date             datetime64[ns]\n",
       "Site                     object\n",
       "Location                 object\n",
       "VWC                     float64\n",
       "Temp                    float64\n",
       "Conductivity            float64\n",
       "Soil.Porosity           float64\n",
       "Saturation              float64\n",
       "AirT                    float64\n",
       "Rain                     object\n",
       "Precip                  float64\n",
       "flux_N2O                float64\n",
       "r.squared.N2O           float64\n",
       "flux_CH4                float64\n",
       "r.squared.CH4           float64\n",
       "r.squared.CO2           float64\n",
       "flux_CO2                float64\n",
       "dtype: object"
      ]
     },
     "execution_count": 454,
     "metadata": {},
     "output_type": "execute_result"
    }
   ],
   "source": [
    "data.dtypes\n",
    "#date is an object variable instead of date"
   ]
  },
  {
   "cell_type": "code",
   "execution_count": 480,
   "metadata": {},
   "outputs": [],
   "source": [
    "#data.Date.unique()"
   ]
  },
  {
   "cell_type": "code",
   "execution_count": 13,
   "metadata": {},
   "outputs": [
    {
     "data": {
      "text/plain": [
       "1   2016-04-17\n",
       "Name: Date, dtype: datetime64[ns]"
      ]
     },
     "execution_count": 13,
     "metadata": {},
     "output_type": "execute_result"
    }
   ],
   "source": [
    "#make sure we can subtract 3 earlier days\n",
    "from datetime import datetime, timedelta\n",
    "data.Date.iloc[[1]]-timedelta(days=3)#this is correct, the original date was 4/20, now 3 days prior is 4/17"
   ]
  },
  {
   "cell_type": "code",
   "execution_count": 457,
   "metadata": {},
   "outputs": [],
   "source": [
    "# data.loc[:,['Date']]\n",
    "#same as above, select this column \n",
    "# data.Date\n",
    "# data['Date']\n"
   ]
  },
  {
   "cell_type": "code",
   "execution_count": 14,
   "metadata": {},
   "outputs": [
    {
     "data": {
      "text/html": [
       "<div>\n",
       "<style scoped>\n",
       "    .dataframe tbody tr th:only-of-type {\n",
       "        vertical-align: middle;\n",
       "    }\n",
       "\n",
       "    .dataframe tbody tr th {\n",
       "        vertical-align: top;\n",
       "    }\n",
       "\n",
       "    .dataframe thead th {\n",
       "        text-align: right;\n",
       "    }\n",
       "</style>\n",
       "<table border=\"1\" class=\"dataframe\">\n",
       "  <thead>\n",
       "    <tr style=\"text-align: right;\">\n",
       "      <th></th>\n",
       "      <th>Date</th>\n",
       "      <th>Precip</th>\n",
       "    </tr>\n",
       "  </thead>\n",
       "  <tbody>\n",
       "    <tr>\n",
       "      <th>0</th>\n",
       "      <td>2015-07-12</td>\n",
       "      <td>NaN</td>\n",
       "    </tr>\n",
       "    <tr>\n",
       "      <th>1</th>\n",
       "      <td>2015-07-13</td>\n",
       "      <td>0.508</td>\n",
       "    </tr>\n",
       "    <tr>\n",
       "      <th>2</th>\n",
       "      <td>2015-07-14</td>\n",
       "      <td>26.924</td>\n",
       "    </tr>\n",
       "    <tr>\n",
       "      <th>3</th>\n",
       "      <td>2015-07-15</td>\n",
       "      <td>0.508</td>\n",
       "    </tr>\n",
       "    <tr>\n",
       "      <th>4</th>\n",
       "      <td>2015-07-16</td>\n",
       "      <td>0.000</td>\n",
       "    </tr>\n",
       "  </tbody>\n",
       "</table>\n",
       "</div>"
      ],
      "text/plain": [
       "        Date  Precip\n",
       "0 2015-07-12     NaN\n",
       "1 2015-07-13   0.508\n",
       "2 2015-07-14  26.924\n",
       "3 2015-07-15   0.508\n",
       "4 2015-07-16   0.000"
      ]
     },
     "execution_count": 14,
     "metadata": {},
     "output_type": "execute_result"
    }
   ],
   "source": [
    "data_precip.Date=pd.to_datetime(data_precip['Date'])\n",
    "data_precip.head()"
   ]
  },
  {
   "cell_type": "code",
   "execution_count": 459,
   "metadata": {},
   "outputs": [],
   "source": [
    "sample_date=data.Date.iloc[71]\n",
    "days_prior=sample_date-timedelta(days=3)"
   ]
  },
  {
   "cell_type": "code",
   "execution_count": 460,
   "metadata": {},
   "outputs": [
    {
     "data": {
      "text/plain": [
       "2.032"
      ]
     },
     "execution_count": 460,
     "metadata": {},
     "output_type": "execute_result"
    }
   ],
   "source": [
    "mask=(data_precip['Date']>=days_prior) & (data_precip['Date']<sample_date)\n",
    "data_precip.Precip[mask].sum()\n",
    "#this works, but need it in loop\n",
    "#(df['date'] > '2000-6-1') & (df['date'] <= '2000-6-10')"
   ]
  },
  {
   "cell_type": "code",
   "execution_count": 19,
   "metadata": {},
   "outputs": [
    {
     "data": {
      "text/html": [
       "<div>\n",
       "<style scoped>\n",
       "    .dataframe tbody tr th:only-of-type {\n",
       "        vertical-align: middle;\n",
       "    }\n",
       "\n",
       "    .dataframe tbody tr th {\n",
       "        vertical-align: top;\n",
       "    }\n",
       "\n",
       "    .dataframe thead th {\n",
       "        text-align: right;\n",
       "    }\n",
       "</style>\n",
       "<table border=\"1\" class=\"dataframe\">\n",
       "  <thead>\n",
       "    <tr style=\"text-align: right;\">\n",
       "      <th></th>\n",
       "      <th>sdate</th>\n",
       "      <th>precip</th>\n",
       "    </tr>\n",
       "  </thead>\n",
       "  <tbody>\n",
       "    <tr>\n",
       "      <th>0</th>\n",
       "      <td>1</td>\n",
       "      <td>0</td>\n",
       "    </tr>\n",
       "    <tr>\n",
       "      <th>1</th>\n",
       "      <td>4</td>\n",
       "      <td>0</td>\n",
       "    </tr>\n",
       "    <tr>\n",
       "      <th>2</th>\n",
       "      <td>6</td>\n",
       "      <td>1</td>\n",
       "    </tr>\n",
       "    <tr>\n",
       "      <th>3</th>\n",
       "      <td>12</td>\n",
       "      <td>2</td>\n",
       "    </tr>\n",
       "    <tr>\n",
       "      <th>4</th>\n",
       "      <td>15</td>\n",
       "      <td>3</td>\n",
       "    </tr>\n",
       "  </tbody>\n",
       "</table>\n",
       "</div>"
      ],
      "text/plain": [
       "   sdate  precip\n",
       "0      1       0\n",
       "1      4       0\n",
       "2      6       1\n",
       "3     12       2\n",
       "4     15       3"
      ]
     },
     "execution_count": 19,
     "metadata": {},
     "output_type": "execute_result"
    }
   ],
   "source": [
    "#create dummy dataframe\n",
    "import random\n",
    "sdate=range(1,10)\n",
    "#start with dictionary\n",
    "rawdata={'sdate': [1,4,6,12,15,16,20,24,28], 'precip': [0,0,1,2,3,5,5,0,1]}\n",
    "dummy=pd.DataFrame(rawdata, columns=['sdate', 'precip'])\n",
    "\n",
    "dummy.head()\n",
    "#dummy.dtypes\n"
   ]
  },
  {
   "cell_type": "code",
   "execution_count": 16,
   "metadata": {},
   "outputs": [
    {
     "data": {
      "text/html": [
       "<div>\n",
       "<style scoped>\n",
       "    .dataframe tbody tr th:only-of-type {\n",
       "        vertical-align: middle;\n",
       "    }\n",
       "\n",
       "    .dataframe tbody tr th {\n",
       "        vertical-align: top;\n",
       "    }\n",
       "\n",
       "    .dataframe thead th {\n",
       "        text-align: right;\n",
       "    }\n",
       "</style>\n",
       "<table border=\"1\" class=\"dataframe\">\n",
       "  <thead>\n",
       "    <tr style=\"text-align: right;\">\n",
       "      <th></th>\n",
       "      <th>Date</th>\n",
       "      <th>precip_dummy</th>\n",
       "    </tr>\n",
       "  </thead>\n",
       "  <tbody>\n",
       "    <tr>\n",
       "      <th>0</th>\n",
       "      <td>1</td>\n",
       "      <td>8</td>\n",
       "    </tr>\n",
       "    <tr>\n",
       "      <th>1</th>\n",
       "      <td>2</td>\n",
       "      <td>7</td>\n",
       "    </tr>\n",
       "    <tr>\n",
       "      <th>2</th>\n",
       "      <td>3</td>\n",
       "      <td>2</td>\n",
       "    </tr>\n",
       "    <tr>\n",
       "      <th>3</th>\n",
       "      <td>4</td>\n",
       "      <td>7</td>\n",
       "    </tr>\n",
       "    <tr>\n",
       "      <th>4</th>\n",
       "      <td>5</td>\n",
       "      <td>8</td>\n",
       "    </tr>\n",
       "  </tbody>\n",
       "</table>\n",
       "</div>"
      ],
      "text/plain": [
       "   Date  precip_dummy\n",
       "0     1             8\n",
       "1     2             7\n",
       "2     3             2\n",
       "3     4             7\n",
       "4     5             8"
      ]
     },
     "execution_count": 16,
     "metadata": {},
     "output_type": "execute_result"
    }
   ],
   "source": [
    "alldate=range(1,40)\n",
    "precip_dummy=np.random.choice(10,39)#chooses 40 random numbers from 0-10\n",
    "precip_dum=pd.DataFrame({'Date':alldate, 'precip_dummy':precip_dummy})\n",
    "precip_dum.head()"
   ]
  },
  {
   "cell_type": "code",
   "execution_count": 17,
   "metadata": {},
   "outputs": [
    {
     "data": {
      "text/plain": [
       "17"
      ]
     },
     "execution_count": 17,
     "metadata": {},
     "output_type": "execute_result"
    }
   ],
   "source": [
    "sample_date=dummy.sdate.iloc[1]\n",
    "days_prior=sample_date-3\n",
    "\n",
    "mask=(precip_dum['Date']>=days_prior) & (precip_dum['Date']<sample_date)\n",
    "#print(mask)\n",
    "precip_dum.precip_dummy[mask].sum()"
   ]
  },
  {
   "cell_type": "code",
   "execution_count": 18,
   "metadata": {},
   "outputs": [
    {
     "name": "stdout",
     "output_type": "stream",
     "text": [
      "4\n"
     ]
    },
    {
     "data": {
      "text/html": [
       "<div>\n",
       "<style scoped>\n",
       "    .dataframe tbody tr th:only-of-type {\n",
       "        vertical-align: middle;\n",
       "    }\n",
       "\n",
       "    .dataframe tbody tr th {\n",
       "        vertical-align: top;\n",
       "    }\n",
       "\n",
       "    .dataframe thead th {\n",
       "        text-align: right;\n",
       "    }\n",
       "</style>\n",
       "<table border=\"1\" class=\"dataframe\">\n",
       "  <thead>\n",
       "    <tr style=\"text-align: right;\">\n",
       "      <th></th>\n",
       "      <th>Date</th>\n",
       "      <th>precip_dummy</th>\n",
       "    </tr>\n",
       "  </thead>\n",
       "  <tbody>\n",
       "    <tr>\n",
       "      <th>3</th>\n",
       "      <td>4</td>\n",
       "      <td>7</td>\n",
       "    </tr>\n",
       "  </tbody>\n",
       "</table>\n",
       "</div>"
      ],
      "text/plain": [
       "   Date  precip_dummy\n",
       "3     4             7"
      ]
     },
     "execution_count": 18,
     "metadata": {},
     "output_type": "execute_result"
    }
   ],
   "source": [
    "print(sample_date)\n",
    "#precip_dum.loc[precip_dum['Date']==sample_date]"
   ]
  },
  {
   "cell_type": "code",
   "execution_count": 29,
   "metadata": {},
   "outputs": [
    {
     "name": "stdout",
     "output_type": "stream",
     "text": [
      "[0, 17, 17, 11, 10, 17, 10, 20, 16]\n"
     ]
    }
   ],
   "source": [
    "precip_out=[]\n",
    "for x in dummy.sdate:\n",
    "    sample_date=x\n",
    "    days_prior=sample_date-3\n",
    "    mask=(precip_dum['Date']>=days_prior) & (precip_dum['Date']<sample_date)\n",
    "    precip_out.append(precip_dum.precip_dummy[mask].sum())\n",
    "\n",
    "print(precip_out)    "
   ]
  },
  {
   "cell_type": "code",
   "execution_count": 30,
   "metadata": {},
   "outputs": [
    {
     "name": "stdout",
     "output_type": "stream",
     "text": [
      "28\n",
      "25\n",
      "[0, 17, 17, 11, 10, 17, 10, 20, 16]\n"
     ]
    }
   ],
   "source": [
    "print(sample_date)\n",
    "print(days_prior)\n",
    "print(precip_out)"
   ]
  },
  {
   "cell_type": "code",
   "execution_count": 48,
   "metadata": {},
   "outputs": [
    {
     "data": {
      "text/html": [
       "<div>\n",
       "<style scoped>\n",
       "    .dataframe tbody tr th:only-of-type {\n",
       "        vertical-align: middle;\n",
       "    }\n",
       "\n",
       "    .dataframe tbody tr th {\n",
       "        vertical-align: top;\n",
       "    }\n",
       "\n",
       "    .dataframe thead th {\n",
       "        text-align: right;\n",
       "    }\n",
       "</style>\n",
       "<table border=\"1\" class=\"dataframe\">\n",
       "  <thead>\n",
       "    <tr style=\"text-align: right;\">\n",
       "      <th></th>\n",
       "      <th>Unnamed: 0</th>\n",
       "      <th>ID</th>\n",
       "      <th>Date</th>\n",
       "      <th>Site</th>\n",
       "      <th>Location</th>\n",
       "      <th>VWC</th>\n",
       "      <th>Temp</th>\n",
       "      <th>Conductivity</th>\n",
       "      <th>Soil.Porosity</th>\n",
       "      <th>Saturation</th>\n",
       "      <th>AirT</th>\n",
       "      <th>Rain</th>\n",
       "      <th>Precip</th>\n",
       "      <th>flux_N2O</th>\n",
       "      <th>r.squared.N2O</th>\n",
       "      <th>flux_CH4</th>\n",
       "      <th>r.squared.CH4</th>\n",
       "      <th>r.squared.CO2</th>\n",
       "      <th>flux_CO2</th>\n",
       "      <th>precip3</th>\n",
       "    </tr>\n",
       "  </thead>\n",
       "  <tbody>\n",
       "    <tr>\n",
       "      <th>0</th>\n",
       "      <td>1</td>\n",
       "      <td>E1</td>\n",
       "      <td>2016-04-20</td>\n",
       "      <td>Wet Basin</td>\n",
       "      <td>Basin</td>\n",
       "      <td>85.06</td>\n",
       "      <td>9.5</td>\n",
       "      <td>2.09</td>\n",
       "      <td>0.73</td>\n",
       "      <td>1.17</td>\n",
       "      <td>4.4</td>\n",
       "      <td>No Rain</td>\n",
       "      <td>0.0</td>\n",
       "      <td>-3.698828</td>\n",
       "      <td>0.003789</td>\n",
       "      <td>-22.757097</td>\n",
       "      <td>0.013714</td>\n",
       "      <td>0.608706</td>\n",
       "      <td>183595.128961</td>\n",
       "      <td>None</td>\n",
       "    </tr>\n",
       "    <tr>\n",
       "      <th>1</th>\n",
       "      <td>2</td>\n",
       "      <td>E2</td>\n",
       "      <td>2016-04-20</td>\n",
       "      <td>Wet Basin</td>\n",
       "      <td>Basin</td>\n",
       "      <td>36.77</td>\n",
       "      <td>11.7</td>\n",
       "      <td>0.10</td>\n",
       "      <td>0.68</td>\n",
       "      <td>0.54</td>\n",
       "      <td>4.4</td>\n",
       "      <td>No Rain</td>\n",
       "      <td>0.0</td>\n",
       "      <td>-0.354986</td>\n",
       "      <td>0.000036</td>\n",
       "      <td>-137.966454</td>\n",
       "      <td>0.647540</td>\n",
       "      <td>0.961278</td>\n",
       "      <td>190433.497043</td>\n",
       "      <td>None</td>\n",
       "    </tr>\n",
       "    <tr>\n",
       "      <th>2</th>\n",
       "      <td>3</td>\n",
       "      <td>E3</td>\n",
       "      <td>2016-04-20</td>\n",
       "      <td>Wet Basin</td>\n",
       "      <td>Basin</td>\n",
       "      <td>91.24</td>\n",
       "      <td>8.2</td>\n",
       "      <td>2.39</td>\n",
       "      <td>0.89</td>\n",
       "      <td>1.03</td>\n",
       "      <td>4.4</td>\n",
       "      <td>No Rain</td>\n",
       "      <td>0.0</td>\n",
       "      <td>21.720546</td>\n",
       "      <td>0.073681</td>\n",
       "      <td>21.883248</td>\n",
       "      <td>0.250702</td>\n",
       "      <td>0.472880</td>\n",
       "      <td>-10212.923765</td>\n",
       "      <td>None</td>\n",
       "    </tr>\n",
       "    <tr>\n",
       "      <th>3</th>\n",
       "      <td>4</td>\n",
       "      <td>E4</td>\n",
       "      <td>2016-04-20</td>\n",
       "      <td>Wet Basin</td>\n",
       "      <td>Reference</td>\n",
       "      <td>32.08</td>\n",
       "      <td>11.4</td>\n",
       "      <td>0.21</td>\n",
       "      <td>0.49</td>\n",
       "      <td>0.66</td>\n",
       "      <td>4.4</td>\n",
       "      <td>No Rain</td>\n",
       "      <td>0.0</td>\n",
       "      <td>20.625381</td>\n",
       "      <td>0.061650</td>\n",
       "      <td>-51.622236</td>\n",
       "      <td>0.346719</td>\n",
       "      <td>0.358094</td>\n",
       "      <td>126038.438749</td>\n",
       "      <td>None</td>\n",
       "    </tr>\n",
       "    <tr>\n",
       "      <th>4</th>\n",
       "      <td>5</td>\n",
       "      <td>E5</td>\n",
       "      <td>2016-04-20</td>\n",
       "      <td>Wet Basin</td>\n",
       "      <td>Reference</td>\n",
       "      <td>55.43</td>\n",
       "      <td>14.2</td>\n",
       "      <td>1.26</td>\n",
       "      <td>0.56</td>\n",
       "      <td>0.99</td>\n",
       "      <td>4.4</td>\n",
       "      <td>No Rain</td>\n",
       "      <td>0.0</td>\n",
       "      <td>-35.320212</td>\n",
       "      <td>0.138446</td>\n",
       "      <td>62.915548</td>\n",
       "      <td>0.293559</td>\n",
       "      <td>0.969641</td>\n",
       "      <td>225931.524478</td>\n",
       "      <td>None</td>\n",
       "    </tr>\n",
       "  </tbody>\n",
       "</table>\n",
       "</div>"
      ],
      "text/plain": [
       "   Unnamed: 0  ID       Date       Site   Location    VWC  Temp  Conductivity  \\\n",
       "0           1  E1 2016-04-20  Wet Basin      Basin  85.06   9.5          2.09   \n",
       "1           2  E2 2016-04-20  Wet Basin      Basin  36.77  11.7          0.10   \n",
       "2           3  E3 2016-04-20  Wet Basin      Basin  91.24   8.2          2.39   \n",
       "3           4  E4 2016-04-20  Wet Basin  Reference  32.08  11.4          0.21   \n",
       "4           5  E5 2016-04-20  Wet Basin  Reference  55.43  14.2          1.26   \n",
       "\n",
       "   Soil.Porosity  Saturation  AirT     Rain  Precip   flux_N2O  r.squared.N2O  \\\n",
       "0           0.73        1.17   4.4  No Rain     0.0  -3.698828       0.003789   \n",
       "1           0.68        0.54   4.4  No Rain     0.0  -0.354986       0.000036   \n",
       "2           0.89        1.03   4.4  No Rain     0.0  21.720546       0.073681   \n",
       "3           0.49        0.66   4.4  No Rain     0.0  20.625381       0.061650   \n",
       "4           0.56        0.99   4.4  No Rain     0.0 -35.320212       0.138446   \n",
       "\n",
       "     flux_CH4  r.squared.CH4  r.squared.CO2       flux_CO2 precip3  \n",
       "0  -22.757097       0.013714       0.608706  183595.128961    None  \n",
       "1 -137.966454       0.647540       0.961278  190433.497043    None  \n",
       "2   21.883248       0.250702       0.472880  -10212.923765    None  \n",
       "3  -51.622236       0.346719       0.358094  126038.438749    None  \n",
       "4   62.915548       0.293559       0.969641  225931.524478    None  "
      ]
     },
     "execution_count": 48,
     "metadata": {},
     "output_type": "execute_result"
    }
   ],
   "source": [
    "#add new column to dataframe\n",
    "#df['e'] = e\n",
    "data['precip3']=None\n",
    "data.head()"
   ]
  },
  {
   "cell_type": "code",
   "execution_count": 55,
   "metadata": {},
   "outputs": [],
   "source": [
    "precip3=[]\n",
    "j=[]\n",
    "\n",
    "for x in data.Date:\n",
    "    sample_date=x\n",
    "    days_prior=sample_date-timedelta(days=3)\n",
    "    mask=(data_precip['Date']>=days_prior) & (data_precip['Date']<sample_date)\n",
    "    precip3.append(data_precip.Precip[mask].sum())\n",
    "    j+=[data_precip.Precip[mask].sum()] #same thing as above, means add to next 1 in j\n",
    "      \n",
    "data['precip3']=precip3"
   ]
  },
  {
   "cell_type": "code",
   "execution_count": 54,
   "metadata": {},
   "outputs": [
    {
     "data": {
      "text/html": [
       "<div>\n",
       "<style scoped>\n",
       "    .dataframe tbody tr th:only-of-type {\n",
       "        vertical-align: middle;\n",
       "    }\n",
       "\n",
       "    .dataframe tbody tr th {\n",
       "        vertical-align: top;\n",
       "    }\n",
       "\n",
       "    .dataframe thead th {\n",
       "        text-align: right;\n",
       "    }\n",
       "</style>\n",
       "<table border=\"1\" class=\"dataframe\">\n",
       "  <thead>\n",
       "    <tr style=\"text-align: right;\">\n",
       "      <th></th>\n",
       "      <th>Unnamed: 0</th>\n",
       "      <th>ID</th>\n",
       "      <th>Date</th>\n",
       "      <th>Site</th>\n",
       "      <th>Location</th>\n",
       "      <th>VWC</th>\n",
       "      <th>Temp</th>\n",
       "      <th>Conductivity</th>\n",
       "      <th>Soil.Porosity</th>\n",
       "      <th>Saturation</th>\n",
       "      <th>AirT</th>\n",
       "      <th>Rain</th>\n",
       "      <th>Precip</th>\n",
       "      <th>flux_N2O</th>\n",
       "      <th>r.squared.N2O</th>\n",
       "      <th>flux_CH4</th>\n",
       "      <th>r.squared.CH4</th>\n",
       "      <th>r.squared.CO2</th>\n",
       "      <th>flux_CO2</th>\n",
       "      <th>precip3</th>\n",
       "    </tr>\n",
       "  </thead>\n",
       "  <tbody>\n",
       "    <tr>\n",
       "      <th>0</th>\n",
       "      <td>1</td>\n",
       "      <td>E1</td>\n",
       "      <td>2016-04-20</td>\n",
       "      <td>Wet Basin</td>\n",
       "      <td>Basin</td>\n",
       "      <td>85.06</td>\n",
       "      <td>9.5</td>\n",
       "      <td>2.09</td>\n",
       "      <td>0.73</td>\n",
       "      <td>1.17</td>\n",
       "      <td>4.4</td>\n",
       "      <td>No Rain</td>\n",
       "      <td>0.0</td>\n",
       "      <td>-3.698828</td>\n",
       "      <td>0.003789</td>\n",
       "      <td>-22.757097</td>\n",
       "      <td>0.013714</td>\n",
       "      <td>0.608706</td>\n",
       "      <td>183595.128961</td>\n",
       "      <td>0.0</td>\n",
       "    </tr>\n",
       "    <tr>\n",
       "      <th>1</th>\n",
       "      <td>2</td>\n",
       "      <td>E2</td>\n",
       "      <td>2016-04-20</td>\n",
       "      <td>Wet Basin</td>\n",
       "      <td>Basin</td>\n",
       "      <td>36.77</td>\n",
       "      <td>11.7</td>\n",
       "      <td>0.10</td>\n",
       "      <td>0.68</td>\n",
       "      <td>0.54</td>\n",
       "      <td>4.4</td>\n",
       "      <td>No Rain</td>\n",
       "      <td>0.0</td>\n",
       "      <td>-0.354986</td>\n",
       "      <td>0.000036</td>\n",
       "      <td>-137.966454</td>\n",
       "      <td>0.647540</td>\n",
       "      <td>0.961278</td>\n",
       "      <td>190433.497043</td>\n",
       "      <td>0.0</td>\n",
       "    </tr>\n",
       "    <tr>\n",
       "      <th>2</th>\n",
       "      <td>3</td>\n",
       "      <td>E3</td>\n",
       "      <td>2016-04-20</td>\n",
       "      <td>Wet Basin</td>\n",
       "      <td>Basin</td>\n",
       "      <td>91.24</td>\n",
       "      <td>8.2</td>\n",
       "      <td>2.39</td>\n",
       "      <td>0.89</td>\n",
       "      <td>1.03</td>\n",
       "      <td>4.4</td>\n",
       "      <td>No Rain</td>\n",
       "      <td>0.0</td>\n",
       "      <td>21.720546</td>\n",
       "      <td>0.073681</td>\n",
       "      <td>21.883248</td>\n",
       "      <td>0.250702</td>\n",
       "      <td>0.472880</td>\n",
       "      <td>-10212.923765</td>\n",
       "      <td>0.0</td>\n",
       "    </tr>\n",
       "    <tr>\n",
       "      <th>3</th>\n",
       "      <td>4</td>\n",
       "      <td>E4</td>\n",
       "      <td>2016-04-20</td>\n",
       "      <td>Wet Basin</td>\n",
       "      <td>Reference</td>\n",
       "      <td>32.08</td>\n",
       "      <td>11.4</td>\n",
       "      <td>0.21</td>\n",
       "      <td>0.49</td>\n",
       "      <td>0.66</td>\n",
       "      <td>4.4</td>\n",
       "      <td>No Rain</td>\n",
       "      <td>0.0</td>\n",
       "      <td>20.625381</td>\n",
       "      <td>0.061650</td>\n",
       "      <td>-51.622236</td>\n",
       "      <td>0.346719</td>\n",
       "      <td>0.358094</td>\n",
       "      <td>126038.438749</td>\n",
       "      <td>0.0</td>\n",
       "    </tr>\n",
       "    <tr>\n",
       "      <th>4</th>\n",
       "      <td>5</td>\n",
       "      <td>E5</td>\n",
       "      <td>2016-04-20</td>\n",
       "      <td>Wet Basin</td>\n",
       "      <td>Reference</td>\n",
       "      <td>55.43</td>\n",
       "      <td>14.2</td>\n",
       "      <td>1.26</td>\n",
       "      <td>0.56</td>\n",
       "      <td>0.99</td>\n",
       "      <td>4.4</td>\n",
       "      <td>No Rain</td>\n",
       "      <td>0.0</td>\n",
       "      <td>-35.320212</td>\n",
       "      <td>0.138446</td>\n",
       "      <td>62.915548</td>\n",
       "      <td>0.293559</td>\n",
       "      <td>0.969641</td>\n",
       "      <td>225931.524478</td>\n",
       "      <td>0.0</td>\n",
       "    </tr>\n",
       "  </tbody>\n",
       "</table>\n",
       "</div>"
      ],
      "text/plain": [
       "   Unnamed: 0  ID       Date       Site   Location    VWC  Temp  Conductivity  \\\n",
       "0           1  E1 2016-04-20  Wet Basin      Basin  85.06   9.5          2.09   \n",
       "1           2  E2 2016-04-20  Wet Basin      Basin  36.77  11.7          0.10   \n",
       "2           3  E3 2016-04-20  Wet Basin      Basin  91.24   8.2          2.39   \n",
       "3           4  E4 2016-04-20  Wet Basin  Reference  32.08  11.4          0.21   \n",
       "4           5  E5 2016-04-20  Wet Basin  Reference  55.43  14.2          1.26   \n",
       "\n",
       "   Soil.Porosity  Saturation  AirT     Rain  Precip   flux_N2O  r.squared.N2O  \\\n",
       "0           0.73        1.17   4.4  No Rain     0.0  -3.698828       0.003789   \n",
       "1           0.68        0.54   4.4  No Rain     0.0  -0.354986       0.000036   \n",
       "2           0.89        1.03   4.4  No Rain     0.0  21.720546       0.073681   \n",
       "3           0.49        0.66   4.4  No Rain     0.0  20.625381       0.061650   \n",
       "4           0.56        0.99   4.4  No Rain     0.0 -35.320212       0.138446   \n",
       "\n",
       "     flux_CH4  r.squared.CH4  r.squared.CO2       flux_CO2  precip3  \n",
       "0  -22.757097       0.013714       0.608706  183595.128961      0.0  \n",
       "1 -137.966454       0.647540       0.961278  190433.497043      0.0  \n",
       "2   21.883248       0.250702       0.472880  -10212.923765      0.0  \n",
       "3  -51.622236       0.346719       0.358094  126038.438749      0.0  \n",
       "4   62.915548       0.293559       0.969641  225931.524478      0.0  "
      ]
     },
     "execution_count": 54,
     "metadata": {},
     "output_type": "execute_result"
    }
   ],
   "source": [
    "data.head()"
   ]
  },
  {
   "cell_type": "code",
   "execution_count": 491,
   "metadata": {},
   "outputs": [],
   "source": [
    "# data.Date[1] #returns all unique dates\n",
    "#data.iloc[0]['Date']"
   ]
  },
  {
   "cell_type": "markdown",
   "metadata": {},
   "source": [
    "Average by timepoint for each Site, N2O anc CH4 fluxes are the average of 3 sample points (3 within each basin) at each sample day"
   ]
  },
  {
   "cell_type": "code",
   "execution_count": 75,
   "metadata": {},
   "outputs": [
    {
     "data": {
      "text/html": [
       "<div>\n",
       "<style scoped>\n",
       "    .dataframe tbody tr th:only-of-type {\n",
       "        vertical-align: middle;\n",
       "    }\n",
       "\n",
       "    .dataframe tbody tr th {\n",
       "        vertical-align: top;\n",
       "    }\n",
       "\n",
       "    .dataframe thead th {\n",
       "        text-align: right;\n",
       "    }\n",
       "</style>\n",
       "<table border=\"1\" class=\"dataframe\">\n",
       "  <thead>\n",
       "    <tr style=\"text-align: right;\">\n",
       "      <th></th>\n",
       "      <th></th>\n",
       "      <th></th>\n",
       "      <th>Unnamed: 0</th>\n",
       "      <th>VWC</th>\n",
       "      <th>Temp</th>\n",
       "      <th>Conductivity</th>\n",
       "      <th>Soil.Porosity</th>\n",
       "      <th>Saturation</th>\n",
       "      <th>AirT</th>\n",
       "      <th>Precip</th>\n",
       "      <th>flux_N2O</th>\n",
       "      <th>r.squared.N2O</th>\n",
       "      <th>flux_CH4</th>\n",
       "      <th>r.squared.CH4</th>\n",
       "      <th>r.squared.CO2</th>\n",
       "      <th>flux_CO2</th>\n",
       "      <th>precip3</th>\n",
       "      <th>Rain</th>\n",
       "    </tr>\n",
       "    <tr>\n",
       "      <th>Site</th>\n",
       "      <th>Location</th>\n",
       "      <th>Date</th>\n",
       "      <th></th>\n",
       "      <th></th>\n",
       "      <th></th>\n",
       "      <th></th>\n",
       "      <th></th>\n",
       "      <th></th>\n",
       "      <th></th>\n",
       "      <th></th>\n",
       "      <th></th>\n",
       "      <th></th>\n",
       "      <th></th>\n",
       "      <th></th>\n",
       "      <th></th>\n",
       "      <th></th>\n",
       "      <th></th>\n",
       "      <th></th>\n",
       "    </tr>\n",
       "  </thead>\n",
       "  <tbody>\n",
       "    <tr>\n",
       "      <th rowspan=\"5\" valign=\"top\">Dry Basin</th>\n",
       "      <th rowspan=\"5\" valign=\"top\">Basin</th>\n",
       "      <th>2016-04-20</th>\n",
       "      <td>7.0</td>\n",
       "      <td>32.880000</td>\n",
       "      <td>14.200000</td>\n",
       "      <td>0.263333</td>\n",
       "      <td>0.59000</td>\n",
       "      <td>0.556667</td>\n",
       "      <td>4.400000</td>\n",
       "      <td>0.000</td>\n",
       "      <td>15.301894</td>\n",
       "      <td>0.422235</td>\n",
       "      <td>119.952659</td>\n",
       "      <td>0.385080</td>\n",
       "      <td>0.614934</td>\n",
       "      <td>57531.891553</td>\n",
       "      <td>0.000</td>\n",
       "      <td>NoRain</td>\n",
       "    </tr>\n",
       "    <tr>\n",
       "      <th>2016-04-27</th>\n",
       "      <td>7.0</td>\n",
       "      <td>38.335667</td>\n",
       "      <td>14.600000</td>\n",
       "      <td>0.266667</td>\n",
       "      <td>0.58937</td>\n",
       "      <td>0.651611</td>\n",
       "      <td>5.000000</td>\n",
       "      <td>8.128</td>\n",
       "      <td>46.593877</td>\n",
       "      <td>0.526030</td>\n",
       "      <td>35.442345</td>\n",
       "      <td>0.412516</td>\n",
       "      <td>0.557980</td>\n",
       "      <td>124193.009623</td>\n",
       "      <td>10.922</td>\n",
       "      <td>YesRain</td>\n",
       "    </tr>\n",
       "    <tr>\n",
       "      <th>2016-05-11</th>\n",
       "      <td>7.0</td>\n",
       "      <td>35.510000</td>\n",
       "      <td>16.700000</td>\n",
       "      <td>0.240000</td>\n",
       "      <td>0.59000</td>\n",
       "      <td>0.603333</td>\n",
       "      <td>12.222222</td>\n",
       "      <td>0.000</td>\n",
       "      <td>-20.608212</td>\n",
       "      <td>0.148402</td>\n",
       "      <td>33.570299</td>\n",
       "      <td>0.606741</td>\n",
       "      <td>0.715517</td>\n",
       "      <td>289027.235717</td>\n",
       "      <td>0.000</td>\n",
       "      <td>NoRain</td>\n",
       "    </tr>\n",
       "    <tr>\n",
       "      <th>2016-06-02</th>\n",
       "      <td>7.0</td>\n",
       "      <td>31.850000</td>\n",
       "      <td>23.833333</td>\n",
       "      <td>0.266667</td>\n",
       "      <td>0.59000</td>\n",
       "      <td>0.540000</td>\n",
       "      <td>19.722222</td>\n",
       "      <td>3.050</td>\n",
       "      <td>35.070078</td>\n",
       "      <td>0.412247</td>\n",
       "      <td>-337.045412</td>\n",
       "      <td>0.520968</td>\n",
       "      <td>0.392590</td>\n",
       "      <td>164310.741400</td>\n",
       "      <td>0.000</td>\n",
       "      <td>YesRain</td>\n",
       "    </tr>\n",
       "    <tr>\n",
       "      <th>2016-06-20</th>\n",
       "      <td>7.0</td>\n",
       "      <td>23.056333</td>\n",
       "      <td>28.333333</td>\n",
       "      <td>0.040000</td>\n",
       "      <td>0.58937</td>\n",
       "      <td>0.391169</td>\n",
       "      <td>22.500000</td>\n",
       "      <td>0.000</td>\n",
       "      <td>-4.409587</td>\n",
       "      <td>0.119157</td>\n",
       "      <td>-9.254231</td>\n",
       "      <td>0.529375</td>\n",
       "      <td>0.635701</td>\n",
       "      <td>149144.340207</td>\n",
       "      <td>0.000</td>\n",
       "      <td>NoRain</td>\n",
       "    </tr>\n",
       "  </tbody>\n",
       "</table>\n",
       "</div>"
      ],
      "text/plain": [
       "                               Unnamed: 0        VWC       Temp  Conductivity  \\\n",
       "Site      Location Date                                                         \n",
       "Dry Basin Basin    2016-04-20         7.0  32.880000  14.200000      0.263333   \n",
       "                   2016-04-27         7.0  38.335667  14.600000      0.266667   \n",
       "                   2016-05-11         7.0  35.510000  16.700000      0.240000   \n",
       "                   2016-06-02         7.0  31.850000  23.833333      0.266667   \n",
       "                   2016-06-20         7.0  23.056333  28.333333      0.040000   \n",
       "\n",
       "                               Soil.Porosity  Saturation       AirT  Precip  \\\n",
       "Site      Location Date                                                       \n",
       "Dry Basin Basin    2016-04-20        0.59000    0.556667   4.400000   0.000   \n",
       "                   2016-04-27        0.58937    0.651611   5.000000   8.128   \n",
       "                   2016-05-11        0.59000    0.603333  12.222222   0.000   \n",
       "                   2016-06-02        0.59000    0.540000  19.722222   3.050   \n",
       "                   2016-06-20        0.58937    0.391169  22.500000   0.000   \n",
       "\n",
       "                                flux_N2O  r.squared.N2O    flux_CH4  \\\n",
       "Site      Location Date                                               \n",
       "Dry Basin Basin    2016-04-20  15.301894       0.422235  119.952659   \n",
       "                   2016-04-27  46.593877       0.526030   35.442345   \n",
       "                   2016-05-11 -20.608212       0.148402   33.570299   \n",
       "                   2016-06-02  35.070078       0.412247 -337.045412   \n",
       "                   2016-06-20  -4.409587       0.119157   -9.254231   \n",
       "\n",
       "                               r.squared.CH4  r.squared.CO2       flux_CO2  \\\n",
       "Site      Location Date                                                      \n",
       "Dry Basin Basin    2016-04-20       0.385080       0.614934   57531.891553   \n",
       "                   2016-04-27       0.412516       0.557980  124193.009623   \n",
       "                   2016-05-11       0.606741       0.715517  289027.235717   \n",
       "                   2016-06-02       0.520968       0.392590  164310.741400   \n",
       "                   2016-06-20       0.529375       0.635701  149144.340207   \n",
       "\n",
       "                               precip3     Rain  \n",
       "Site      Location Date                          \n",
       "Dry Basin Basin    2016-04-20    0.000   NoRain  \n",
       "                   2016-04-27   10.922  YesRain  \n",
       "                   2016-05-11    0.000   NoRain  \n",
       "                   2016-06-02    0.000  YesRain  \n",
       "                   2016-06-20    0.000   NoRain  "
      ]
     },
     "execution_count": 75,
     "metadata": {},
     "output_type": "execute_result"
    }
   ],
   "source": [
    "#Average by Site, Location, and Date\n",
    "\n",
    "data_time=data.groupby(by=['Site', 'Location', 'Date']).mean() #default does by columns, so takes the mean of all data within tho=se columns\n",
    "data_time['Rain']=np.where(data_time['Precip']>0, 'YesRain', 'NoRain')\n",
    "data_time.head()\n"
   ]
  },
  {
   "cell_type": "code",
   "execution_count": 116,
   "metadata": {},
   "outputs": [
    {
     "data": {
      "text/html": [
       "<div>\n",
       "<style scoped>\n",
       "    .dataframe tbody tr th:only-of-type {\n",
       "        vertical-align: middle;\n",
       "    }\n",
       "\n",
       "    .dataframe tbody tr th {\n",
       "        vertical-align: top;\n",
       "    }\n",
       "\n",
       "    .dataframe thead th {\n",
       "        text-align: right;\n",
       "    }\n",
       "</style>\n",
       "<table border=\"1\" class=\"dataframe\">\n",
       "  <thead>\n",
       "    <tr style=\"text-align: right;\">\n",
       "      <th></th>\n",
       "      <th></th>\n",
       "      <th>Unnamed: 0</th>\n",
       "      <th>VWC</th>\n",
       "      <th>Temp</th>\n",
       "      <th>Conductivity</th>\n",
       "      <th>Soil.Porosity</th>\n",
       "      <th>Saturation</th>\n",
       "      <th>AirT</th>\n",
       "      <th>Precip</th>\n",
       "      <th>flux_N2O</th>\n",
       "      <th>r.squared.N2O</th>\n",
       "      <th>flux_CH4</th>\n",
       "      <th>r.squared.CH4</th>\n",
       "      <th>r.squared.CO2</th>\n",
       "      <th>flux_CO2</th>\n",
       "      <th>precip3</th>\n",
       "    </tr>\n",
       "    <tr>\n",
       "      <th>Site</th>\n",
       "      <th>Location</th>\n",
       "      <th></th>\n",
       "      <th></th>\n",
       "      <th></th>\n",
       "      <th></th>\n",
       "      <th></th>\n",
       "      <th></th>\n",
       "      <th></th>\n",
       "      <th></th>\n",
       "      <th></th>\n",
       "      <th></th>\n",
       "      <th></th>\n",
       "      <th></th>\n",
       "      <th></th>\n",
       "      <th></th>\n",
       "      <th></th>\n",
       "    </tr>\n",
       "  </thead>\n",
       "  <tbody>\n",
       "    <tr>\n",
       "      <th rowspan=\"2\" valign=\"top\">Dry Basin</th>\n",
       "      <th>Basin</th>\n",
       "      <td>6.529412</td>\n",
       "      <td>31.594588</td>\n",
       "      <td>21.948039</td>\n",
       "      <td>0.207941</td>\n",
       "      <td>0.587855</td>\n",
       "      <td>0.536780</td>\n",
       "      <td>18.364804</td>\n",
       "      <td>5.352059</td>\n",
       "      <td>14.477479</td>\n",
       "      <td>0.444328</td>\n",
       "      <td>-53.030841</td>\n",
       "      <td>0.380346</td>\n",
       "      <td>0.815182</td>\n",
       "      <td>573160.090887</td>\n",
       "      <td>10.914529</td>\n",
       "    </tr>\n",
       "    <tr>\n",
       "      <th>Reference</th>\n",
       "      <td>9.044118</td>\n",
       "      <td>26.610602</td>\n",
       "      <td>21.838276</td>\n",
       "      <td>0.104200</td>\n",
       "      <td>0.524056</td>\n",
       "      <td>0.509176</td>\n",
       "      <td>18.364804</td>\n",
       "      <td>5.352059</td>\n",
       "      <td>7.140621</td>\n",
       "      <td>0.347164</td>\n",
       "      <td>26.694429</td>\n",
       "      <td>0.397037</td>\n",
       "      <td>0.859385</td>\n",
       "      <td>570403.972197</td>\n",
       "      <td>10.914529</td>\n",
       "    </tr>\n",
       "    <tr>\n",
       "      <th rowspan=\"2\" valign=\"top\">Wet Basin</th>\n",
       "      <th>Basin</th>\n",
       "      <td>2.000000</td>\n",
       "      <td>59.209239</td>\n",
       "      <td>19.064356</td>\n",
       "      <td>1.075294</td>\n",
       "      <td>0.758604</td>\n",
       "      <td>0.765266</td>\n",
       "      <td>18.364804</td>\n",
       "      <td>5.352059</td>\n",
       "      <td>25.185981</td>\n",
       "      <td>0.418293</td>\n",
       "      <td>4318.903437</td>\n",
       "      <td>0.675953</td>\n",
       "      <td>0.837456</td>\n",
       "      <td>315566.785286</td>\n",
       "      <td>10.914529</td>\n",
       "    </tr>\n",
       "    <tr>\n",
       "      <th>Reference</th>\n",
       "      <td>4.514706</td>\n",
       "      <td>36.390771</td>\n",
       "      <td>20.328788</td>\n",
       "      <td>0.443182</td>\n",
       "      <td>0.524672</td>\n",
       "      <td>0.689601</td>\n",
       "      <td>18.364804</td>\n",
       "      <td>5.352059</td>\n",
       "      <td>-3.329264</td>\n",
       "      <td>0.346685</td>\n",
       "      <td>115.356477</td>\n",
       "      <td>0.384468</td>\n",
       "      <td>0.792544</td>\n",
       "      <td>626131.314976</td>\n",
       "      <td>10.914529</td>\n",
       "    </tr>\n",
       "  </tbody>\n",
       "</table>\n",
       "</div>"
      ],
      "text/plain": [
       "                     Unnamed: 0        VWC       Temp  Conductivity  \\\n",
       "Site      Location                                                    \n",
       "Dry Basin Basin        6.529412  31.594588  21.948039      0.207941   \n",
       "          Reference    9.044118  26.610602  21.838276      0.104200   \n",
       "Wet Basin Basin        2.000000  59.209239  19.064356      1.075294   \n",
       "          Reference    4.514706  36.390771  20.328788      0.443182   \n",
       "\n",
       "                     Soil.Porosity  Saturation       AirT    Precip  \\\n",
       "Site      Location                                                    \n",
       "Dry Basin Basin           0.587855    0.536780  18.364804  5.352059   \n",
       "          Reference       0.524056    0.509176  18.364804  5.352059   \n",
       "Wet Basin Basin           0.758604    0.765266  18.364804  5.352059   \n",
       "          Reference       0.524672    0.689601  18.364804  5.352059   \n",
       "\n",
       "                      flux_N2O  r.squared.N2O     flux_CH4  r.squared.CH4  \\\n",
       "Site      Location                                                          \n",
       "Dry Basin Basin      14.477479       0.444328   -53.030841       0.380346   \n",
       "          Reference   7.140621       0.347164    26.694429       0.397037   \n",
       "Wet Basin Basin      25.185981       0.418293  4318.903437       0.675953   \n",
       "          Reference  -3.329264       0.346685   115.356477       0.384468   \n",
       "\n",
       "                     r.squared.CO2       flux_CO2    precip3  \n",
       "Site      Location                                            \n",
       "Dry Basin Basin           0.815182  573160.090887  10.914529  \n",
       "          Reference       0.859385  570403.972197  10.914529  \n",
       "Wet Basin Basin           0.837456  315566.785286  10.914529  \n",
       "          Reference       0.792544  626131.314976  10.914529  "
      ]
     },
     "execution_count": 116,
     "metadata": {},
     "output_type": "execute_result"
    }
   ],
   "source": [
    "#Overall averages at each site, over the entire time period\n",
    "data_avg=data.groupby(by=['Site', 'Location']).mean()\n"
   ]
  },
  {
   "cell_type": "markdown",
   "metadata": {},
   "source": [
    "Average flux at teach timepoint, with std, count etc. Do it for N2O and CH4 then concatonate them together"
   ]
  },
  {
   "cell_type": "code",
   "execution_count": 144,
   "metadata": {},
   "outputs": [
    {
     "data": {
      "text/html": [
       "<div>\n",
       "<style scoped>\n",
       "    .dataframe tbody tr th:only-of-type {\n",
       "        vertical-align: middle;\n",
       "    }\n",
       "\n",
       "    .dataframe tbody tr th {\n",
       "        vertical-align: top;\n",
       "    }\n",
       "\n",
       "    .dataframe thead th {\n",
       "        text-align: right;\n",
       "    }\n",
       "</style>\n",
       "<table border=\"1\" class=\"dataframe\">\n",
       "  <thead>\n",
       "    <tr style=\"text-align: right;\">\n",
       "      <th></th>\n",
       "      <th></th>\n",
       "      <th></th>\n",
       "      <th>count</th>\n",
       "      <th>mean</th>\n",
       "      <th>std</th>\n",
       "      <th>max</th>\n",
       "      <th>min</th>\n",
       "    </tr>\n",
       "    <tr>\n",
       "      <th>Site</th>\n",
       "      <th>Location</th>\n",
       "      <th>Date</th>\n",
       "      <th></th>\n",
       "      <th></th>\n",
       "      <th></th>\n",
       "      <th></th>\n",
       "      <th></th>\n",
       "    </tr>\n",
       "  </thead>\n",
       "  <tbody>\n",
       "    <tr>\n",
       "      <th rowspan=\"5\" valign=\"top\">Dry Basin</th>\n",
       "      <th rowspan=\"5\" valign=\"top\">Basin</th>\n",
       "      <th>2016-04-20</th>\n",
       "      <td>3</td>\n",
       "      <td>15.301894</td>\n",
       "      <td>52.798109</td>\n",
       "      <td>69.103772</td>\n",
       "      <td>-36.431660</td>\n",
       "    </tr>\n",
       "    <tr>\n",
       "      <th>2016-04-27</th>\n",
       "      <td>3</td>\n",
       "      <td>46.593877</td>\n",
       "      <td>13.219106</td>\n",
       "      <td>59.131550</td>\n",
       "      <td>32.785158</td>\n",
       "    </tr>\n",
       "    <tr>\n",
       "      <th>2016-05-11</th>\n",
       "      <td>3</td>\n",
       "      <td>-20.608212</td>\n",
       "      <td>11.255629</td>\n",
       "      <td>-11.158864</td>\n",
       "      <td>-33.060858</td>\n",
       "    </tr>\n",
       "    <tr>\n",
       "      <th>2016-06-02</th>\n",
       "      <td>3</td>\n",
       "      <td>35.070078</td>\n",
       "      <td>29.780153</td>\n",
       "      <td>63.171969</td>\n",
       "      <td>3.856082</td>\n",
       "    </tr>\n",
       "    <tr>\n",
       "      <th>2016-06-20</th>\n",
       "      <td>3</td>\n",
       "      <td>-4.409587</td>\n",
       "      <td>8.524318</td>\n",
       "      <td>5.159191</td>\n",
       "      <td>-11.192190</td>\n",
       "    </tr>\n",
       "  </tbody>\n",
       "</table>\n",
       "</div>"
      ],
      "text/plain": [
       "                               count       mean        std        max  \\\n",
       "Site      Location Date                                                 \n",
       "Dry Basin Basin    2016-04-20      3  15.301894  52.798109  69.103772   \n",
       "                   2016-04-27      3  46.593877  13.219106  59.131550   \n",
       "                   2016-05-11      3 -20.608212  11.255629 -11.158864   \n",
       "                   2016-06-02      3  35.070078  29.780153  63.171969   \n",
       "                   2016-06-20      3  -4.409587   8.524318   5.159191   \n",
       "\n",
       "                                     min  \n",
       "Site      Location Date                   \n",
       "Dry Basin Basin    2016-04-20 -36.431660  \n",
       "                   2016-04-27  32.785158  \n",
       "                   2016-05-11 -33.060858  \n",
       "                   2016-06-02   3.856082  \n",
       "                   2016-06-20 -11.192190  "
      ]
     },
     "execution_count": 144,
     "metadata": {},
     "output_type": "execute_result"
    }
   ],
   "source": [
    "#syntax works, but leaves index\n",
    "n2o_agg=data.groupby(['Site', 'Location', 'Date'], as_index=False)['flux_N2O'].agg(['count','mean', 'std', 'max', 'min'], as_index=False)\n",
    " #indexes are still there instead of filled in\n"
   ]
  },
  {
   "cell_type": "code",
   "execution_count": 152,
   "metadata": {},
   "outputs": [
    {
     "data": {
      "text/plain": [
       "['count', 'mean', 'std', 'max', 'min']"
      ]
     },
     "execution_count": 152,
     "metadata": {},
     "output_type": "execute_result"
    }
   ],
   "source": [
    "list(n2o_agg)"
   ]
  },
  {
   "cell_type": "code",
   "execution_count": 145,
   "metadata": {},
   "outputs": [
    {
     "data": {
      "text/html": [
       "<div>\n",
       "<style scoped>\n",
       "    .dataframe tbody tr th:only-of-type {\n",
       "        vertical-align: middle;\n",
       "    }\n",
       "\n",
       "    .dataframe tbody tr th {\n",
       "        vertical-align: top;\n",
       "    }\n",
       "\n",
       "    .dataframe thead tr th {\n",
       "        text-align: left;\n",
       "    }\n",
       "</style>\n",
       "<table border=\"1\" class=\"dataframe\">\n",
       "  <thead>\n",
       "    <tr>\n",
       "      <th></th>\n",
       "      <th>Site</th>\n",
       "      <th>Location</th>\n",
       "      <th>Date</th>\n",
       "      <th colspan=\"5\" halign=\"left\">flux_N2O</th>\n",
       "    </tr>\n",
       "    <tr>\n",
       "      <th></th>\n",
       "      <th></th>\n",
       "      <th></th>\n",
       "      <th></th>\n",
       "      <th>count</th>\n",
       "      <th>mean</th>\n",
       "      <th>std</th>\n",
       "      <th>max</th>\n",
       "      <th>min</th>\n",
       "    </tr>\n",
       "  </thead>\n",
       "  <tbody>\n",
       "    <tr>\n",
       "      <th>0</th>\n",
       "      <td>Dry Basin</td>\n",
       "      <td>Basin</td>\n",
       "      <td>2016-04-20</td>\n",
       "      <td>3</td>\n",
       "      <td>15.301894</td>\n",
       "      <td>52.798109</td>\n",
       "      <td>69.103772</td>\n",
       "      <td>-36.431660</td>\n",
       "    </tr>\n",
       "    <tr>\n",
       "      <th>1</th>\n",
       "      <td>Dry Basin</td>\n",
       "      <td>Basin</td>\n",
       "      <td>2016-04-27</td>\n",
       "      <td>3</td>\n",
       "      <td>46.593877</td>\n",
       "      <td>13.219106</td>\n",
       "      <td>59.131550</td>\n",
       "      <td>32.785158</td>\n",
       "    </tr>\n",
       "    <tr>\n",
       "      <th>2</th>\n",
       "      <td>Dry Basin</td>\n",
       "      <td>Basin</td>\n",
       "      <td>2016-05-11</td>\n",
       "      <td>3</td>\n",
       "      <td>-20.608212</td>\n",
       "      <td>11.255629</td>\n",
       "      <td>-11.158864</td>\n",
       "      <td>-33.060858</td>\n",
       "    </tr>\n",
       "    <tr>\n",
       "      <th>3</th>\n",
       "      <td>Dry Basin</td>\n",
       "      <td>Basin</td>\n",
       "      <td>2016-06-02</td>\n",
       "      <td>3</td>\n",
       "      <td>35.070078</td>\n",
       "      <td>29.780153</td>\n",
       "      <td>63.171969</td>\n",
       "      <td>3.856082</td>\n",
       "    </tr>\n",
       "    <tr>\n",
       "      <th>4</th>\n",
       "      <td>Dry Basin</td>\n",
       "      <td>Basin</td>\n",
       "      <td>2016-06-20</td>\n",
       "      <td>3</td>\n",
       "      <td>-4.409587</td>\n",
       "      <td>8.524318</td>\n",
       "      <td>5.159191</td>\n",
       "      <td>-11.192190</td>\n",
       "    </tr>\n",
       "  </tbody>\n",
       "</table>\n",
       "</div>"
      ],
      "text/plain": [
       "        Site Location       Date flux_N2O                                   \\\n",
       "                                    count       mean        std        max   \n",
       "0  Dry Basin    Basin 2016-04-20        3  15.301894  52.798109  69.103772   \n",
       "1  Dry Basin    Basin 2016-04-27        3  46.593877  13.219106  59.131550   \n",
       "2  Dry Basin    Basin 2016-05-11        3 -20.608212  11.255629 -11.158864   \n",
       "3  Dry Basin    Basin 2016-06-02        3  35.070078  29.780153  63.171969   \n",
       "4  Dry Basin    Basin 2016-06-20        3  -4.409587   8.524318   5.159191   \n",
       "\n",
       "              \n",
       "         min  \n",
       "0 -36.431660  \n",
       "1  32.785158  \n",
       "2 -33.060858  \n",
       "3   3.856082  \n",
       "4 -11.192190  "
      ]
     },
     "execution_count": 145,
     "metadata": {},
     "output_type": "execute_result"
    }
   ],
   "source": [
    "N2O_agg=data.groupby(['Site', 'Location', 'Date'], as_index=False).agg({'flux_N2O': ['count','mean', 'std', 'max', 'min']})\n",
    "\n",
    "N2O_agg.head()"
   ]
  },
  {
   "cell_type": "code",
   "execution_count": 146,
   "metadata": {},
   "outputs": [
    {
     "data": {
      "text/plain": [
       "[('Site', ''),\n",
       " ('Location', ''),\n",
       " ('Date', ''),\n",
       " ('flux_N2O', 'count'),\n",
       " ('flux_N2O', 'mean'),\n",
       " ('flux_N2O', 'std'),\n",
       " ('flux_N2O', 'max'),\n",
       " ('flux_N2O', 'min')]"
      ]
     },
     "execution_count": 146,
     "metadata": {},
     "output_type": "execute_result"
    }
   ],
   "source": [
    "list(N2O_agg) #need to rename columns to be list and not touple"
   ]
  },
  {
   "cell_type": "code",
   "execution_count": 151,
   "metadata": {},
   "outputs": [
    {
     "data": {
      "text/plain": [
       "['Site', 'Location', 'Date', 'count', 'mean', 'std', 'max', 'min', 'type']"
      ]
     },
     "execution_count": 151,
     "metadata": {},
     "output_type": "execute_result"
    }
   ],
   "source": [
    "N2O_agg.columns = ['Site', 'Location','Date','count','mean','std','max','min']\n",
    "N2O_agg['type']='N2O_flux'\n",
    "list(N2O_agg)"
   ]
  },
  {
   "cell_type": "code",
   "execution_count": 153,
   "metadata": {},
   "outputs": [],
   "source": [
    "#same thing for CH4\n",
    "CH4_agg=data.groupby(['Site', 'Location', 'Date'], as_index=False).agg({'flux_CH4': ['count','mean', 'std', 'max', 'min']})\n",
    "CH4_agg.columns = ['Site', 'Location','Date','count','mean','std','max','min']\n",
    "CH4_agg['type']='CH4_flux'"
   ]
  },
  {
   "cell_type": "code",
   "execution_count": 157,
   "metadata": {},
   "outputs": [
    {
     "data": {
      "text/html": [
       "<div>\n",
       "<style scoped>\n",
       "    .dataframe tbody tr th:only-of-type {\n",
       "        vertical-align: middle;\n",
       "    }\n",
       "\n",
       "    .dataframe tbody tr th {\n",
       "        vertical-align: top;\n",
       "    }\n",
       "\n",
       "    .dataframe thead th {\n",
       "        text-align: right;\n",
       "    }\n",
       "</style>\n",
       "<table border=\"1\" class=\"dataframe\">\n",
       "  <thead>\n",
       "    <tr style=\"text-align: right;\">\n",
       "      <th></th>\n",
       "      <th>Site</th>\n",
       "      <th>Location</th>\n",
       "      <th>Date</th>\n",
       "      <th>count</th>\n",
       "      <th>mean</th>\n",
       "      <th>std</th>\n",
       "      <th>max</th>\n",
       "      <th>min</th>\n",
       "      <th>type</th>\n",
       "    </tr>\n",
       "  </thead>\n",
       "  <tbody>\n",
       "    <tr>\n",
       "      <th>0</th>\n",
       "      <td>Dry Basin</td>\n",
       "      <td>Basin</td>\n",
       "      <td>2016-04-20</td>\n",
       "      <td>3</td>\n",
       "      <td>15.301894</td>\n",
       "      <td>52.798109</td>\n",
       "      <td>69.103772</td>\n",
       "      <td>-36.431660</td>\n",
       "      <td>N2O_flux</td>\n",
       "    </tr>\n",
       "    <tr>\n",
       "      <th>1</th>\n",
       "      <td>Dry Basin</td>\n",
       "      <td>Basin</td>\n",
       "      <td>2016-04-27</td>\n",
       "      <td>3</td>\n",
       "      <td>46.593877</td>\n",
       "      <td>13.219106</td>\n",
       "      <td>59.131550</td>\n",
       "      <td>32.785158</td>\n",
       "      <td>N2O_flux</td>\n",
       "    </tr>\n",
       "    <tr>\n",
       "      <th>2</th>\n",
       "      <td>Dry Basin</td>\n",
       "      <td>Basin</td>\n",
       "      <td>2016-05-11</td>\n",
       "      <td>3</td>\n",
       "      <td>-20.608212</td>\n",
       "      <td>11.255629</td>\n",
       "      <td>-11.158864</td>\n",
       "      <td>-33.060858</td>\n",
       "      <td>N2O_flux</td>\n",
       "    </tr>\n",
       "    <tr>\n",
       "      <th>3</th>\n",
       "      <td>Dry Basin</td>\n",
       "      <td>Basin</td>\n",
       "      <td>2016-06-02</td>\n",
       "      <td>3</td>\n",
       "      <td>35.070078</td>\n",
       "      <td>29.780153</td>\n",
       "      <td>63.171969</td>\n",
       "      <td>3.856082</td>\n",
       "      <td>N2O_flux</td>\n",
       "    </tr>\n",
       "    <tr>\n",
       "      <th>4</th>\n",
       "      <td>Dry Basin</td>\n",
       "      <td>Basin</td>\n",
       "      <td>2016-06-20</td>\n",
       "      <td>3</td>\n",
       "      <td>-4.409587</td>\n",
       "      <td>8.524318</td>\n",
       "      <td>5.159191</td>\n",
       "      <td>-11.192190</td>\n",
       "      <td>N2O_flux</td>\n",
       "    </tr>\n",
       "  </tbody>\n",
       "</table>\n",
       "</div>"
      ],
      "text/plain": [
       "        Site Location       Date  count       mean        std        max  \\\n",
       "0  Dry Basin    Basin 2016-04-20      3  15.301894  52.798109  69.103772   \n",
       "1  Dry Basin    Basin 2016-04-27      3  46.593877  13.219106  59.131550   \n",
       "2  Dry Basin    Basin 2016-05-11      3 -20.608212  11.255629 -11.158864   \n",
       "3  Dry Basin    Basin 2016-06-02      3  35.070078  29.780153  63.171969   \n",
       "4  Dry Basin    Basin 2016-06-20      3  -4.409587   8.524318   5.159191   \n",
       "\n",
       "         min      type  \n",
       "0 -36.431660  N2O_flux  \n",
       "1  32.785158  N2O_flux  \n",
       "2 -33.060858  N2O_flux  \n",
       "3   3.856082  N2O_flux  \n",
       "4 -11.192190  N2O_flux  "
      ]
     },
     "execution_count": 157,
     "metadata": {},
     "output_type": "execute_result"
    }
   ],
   "source": [
    "data_Avg_date_Site=pd.concat([N2O_agg, CH4_agg])\n",
    "data_Avg_date_Site.head()"
   ]
  },
  {
   "cell_type": "code",
   "execution_count": 130,
   "metadata": {},
   "outputs": [],
   "source": [
    "data['Rain']=np.where(data['Precip']>0, 'YesRain', 'NoRain')\n",
    "#if no rain make new column"
   ]
  },
  {
   "cell_type": "markdown",
   "metadata": {},
   "source": [
    "Save file to csv"
   ]
  },
  {
   "cell_type": "code",
   "execution_count": 161,
   "metadata": {},
   "outputs": [
    {
     "ename": "SyntaxError",
     "evalue": "(unicode error) 'unicodeescape' codec can't decode bytes in position 2-3: truncated \\UXXXXXXXX escape (<ipython-input-161-70bad92e4c2c>, line 1)",
     "output_type": "error",
     "traceback": [
      "\u001b[1;36m  File \u001b[1;32m\"<ipython-input-161-70bad92e4c2c>\"\u001b[1;36m, line \u001b[1;32m1\u001b[0m\n\u001b[1;33m    np.savetxt('C:\\Users\\Natalie\\Dropbox\\Python Training 2018\\GHG Recreate\\ProcessedData\\data_Avg_date_Site.csv', data_Avg_date_Site)\u001b[0m\n\u001b[1;37m              ^\u001b[0m\n\u001b[1;31mSyntaxError\u001b[0m\u001b[1;31m:\u001b[0m (unicode error) 'unicodeescape' codec can't decode bytes in position 2-3: truncated \\UXXXXXXXX escape\n"
     ]
    }
   ],
   "source": [
    "np.savetxt('C:\\Users\\Natalie\\Dropbox\\Python Training 2018\\GHG Recreate\\ProcessedData\\data_Avg_date_Site.csv', data_Avg_date_Site)"
   ]
  },
  {
   "cell_type": "code",
   "execution_count": 165,
   "metadata": {},
   "outputs": [],
   "source": [
    "data_Avg_date_Site.to_csv('ProcessedData\\data_Avg_date_Site.csv')\n",
    "data.to_csv('ProcessedData\\data.csv')"
   ]
  },
  {
   "cell_type": "code",
   "execution_count": null,
   "metadata": {},
   "outputs": [],
   "source": []
  }
 ],
 "metadata": {
  "kernelspec": {
   "display_name": "Python 3",
   "language": "python",
   "name": "python3"
  },
  "language_info": {
   "codemirror_mode": {
    "name": "ipython",
    "version": 3
   },
   "file_extension": ".py",
   "mimetype": "text/x-python",
   "name": "python",
   "nbconvert_exporter": "python",
   "pygments_lexer": "ipython3",
   "version": "3.6.4"
  }
 },
 "nbformat": 4,
 "nbformat_minor": 2
}
