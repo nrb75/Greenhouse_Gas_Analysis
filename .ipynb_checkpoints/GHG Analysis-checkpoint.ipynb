{
 "cells": [
  {
   "cell_type": "markdown",
   "metadata": {},
   "source": [
    "Greenhouse gases (GHG) methane (CH4) and nitrous oxide (N2O) were monitored at two stormwater basins on Cornell University's campus from 2014-2016. We monitored during ambient dry weather conditions, and immediately following a rain event. We anticipated that \"hot-moments\" of high GHG emissions would occur following rain events.\n",
    "\n",
    "Another notebook 'GHG data entry' shows how the raw data collected via Gas Chromatograph (GC) analysis was cleaned. This notebook shows some basic graphs and analysis on these data."
   ]
  },
  {
   "cell_type": "code",
   "execution_count": 28,
   "metadata": {},
   "outputs": [],
   "source": [
    "import numpy as np\n",
    "import pandas as pd\n",
    "import matplotlib.pyplot as plt\n",
    "import glob\n",
    "import os\n",
    "from scipy import stats\n",
    "%matplotlib inline"
   ]
  },
  {
   "cell_type": "code",
   "execution_count": 29,
   "metadata": {},
   "outputs": [],
   "source": [
    "#import data\n",
    "data=pd.read_csv('ProcessedData\\data.csv')\n",
    "data_avg_date_site=pd.read_csv('ProcessedData\\data_avg_date_site.csv')"
   ]
  },
  {
   "cell_type": "code",
   "execution_count": 30,
   "metadata": {},
   "outputs": [
    {
     "data": {
      "text/html": [
       "<div>\n",
       "<style scoped>\n",
       "    .dataframe tbody tr th:only-of-type {\n",
       "        vertical-align: middle;\n",
       "    }\n",
       "\n",
       "    .dataframe tbody tr th {\n",
       "        vertical-align: top;\n",
       "    }\n",
       "\n",
       "    .dataframe thead th {\n",
       "        text-align: right;\n",
       "    }\n",
       "</style>\n",
       "<table border=\"1\" class=\"dataframe\">\n",
       "  <thead>\n",
       "    <tr style=\"text-align: right;\">\n",
       "      <th></th>\n",
       "      <th>Unnamed: 0</th>\n",
       "      <th>Unnamed: 0.1</th>\n",
       "      <th>ID</th>\n",
       "      <th>Date</th>\n",
       "      <th>Site</th>\n",
       "      <th>Location</th>\n",
       "      <th>VWC</th>\n",
       "      <th>Temp</th>\n",
       "      <th>Conductivity</th>\n",
       "      <th>Soil.Porosity</th>\n",
       "      <th>...</th>\n",
       "      <th>AirT</th>\n",
       "      <th>Rain</th>\n",
       "      <th>Precip</th>\n",
       "      <th>flux_N2O</th>\n",
       "      <th>r.squared.N2O</th>\n",
       "      <th>flux_CH4</th>\n",
       "      <th>r.squared.CH4</th>\n",
       "      <th>r.squared.CO2</th>\n",
       "      <th>flux_CO2</th>\n",
       "      <th>precip3</th>\n",
       "    </tr>\n",
       "  </thead>\n",
       "  <tbody>\n",
       "    <tr>\n",
       "      <th>0</th>\n",
       "      <td>0</td>\n",
       "      <td>1</td>\n",
       "      <td>E1</td>\n",
       "      <td>2016-04-20</td>\n",
       "      <td>Wet Basin</td>\n",
       "      <td>Basin</td>\n",
       "      <td>85.06</td>\n",
       "      <td>9.5</td>\n",
       "      <td>2.09</td>\n",
       "      <td>0.73</td>\n",
       "      <td>...</td>\n",
       "      <td>4.4</td>\n",
       "      <td>NoRain</td>\n",
       "      <td>0.0</td>\n",
       "      <td>-3.698828</td>\n",
       "      <td>0.003789</td>\n",
       "      <td>-22.757097</td>\n",
       "      <td>0.013714</td>\n",
       "      <td>0.608706</td>\n",
       "      <td>183595.128961</td>\n",
       "      <td>0.0</td>\n",
       "    </tr>\n",
       "    <tr>\n",
       "      <th>1</th>\n",
       "      <td>1</td>\n",
       "      <td>2</td>\n",
       "      <td>E2</td>\n",
       "      <td>2016-04-20</td>\n",
       "      <td>Wet Basin</td>\n",
       "      <td>Basin</td>\n",
       "      <td>36.77</td>\n",
       "      <td>11.7</td>\n",
       "      <td>0.10</td>\n",
       "      <td>0.68</td>\n",
       "      <td>...</td>\n",
       "      <td>4.4</td>\n",
       "      <td>NoRain</td>\n",
       "      <td>0.0</td>\n",
       "      <td>-0.354986</td>\n",
       "      <td>0.000036</td>\n",
       "      <td>-137.966454</td>\n",
       "      <td>0.647540</td>\n",
       "      <td>0.961278</td>\n",
       "      <td>190433.497043</td>\n",
       "      <td>0.0</td>\n",
       "    </tr>\n",
       "    <tr>\n",
       "      <th>2</th>\n",
       "      <td>2</td>\n",
       "      <td>3</td>\n",
       "      <td>E3</td>\n",
       "      <td>2016-04-20</td>\n",
       "      <td>Wet Basin</td>\n",
       "      <td>Basin</td>\n",
       "      <td>91.24</td>\n",
       "      <td>8.2</td>\n",
       "      <td>2.39</td>\n",
       "      <td>0.89</td>\n",
       "      <td>...</td>\n",
       "      <td>4.4</td>\n",
       "      <td>NoRain</td>\n",
       "      <td>0.0</td>\n",
       "      <td>21.720546</td>\n",
       "      <td>0.073681</td>\n",
       "      <td>21.883248</td>\n",
       "      <td>0.250702</td>\n",
       "      <td>0.472880</td>\n",
       "      <td>-10212.923765</td>\n",
       "      <td>0.0</td>\n",
       "    </tr>\n",
       "    <tr>\n",
       "      <th>3</th>\n",
       "      <td>3</td>\n",
       "      <td>4</td>\n",
       "      <td>E4</td>\n",
       "      <td>2016-04-20</td>\n",
       "      <td>Wet Basin</td>\n",
       "      <td>Reference</td>\n",
       "      <td>32.08</td>\n",
       "      <td>11.4</td>\n",
       "      <td>0.21</td>\n",
       "      <td>0.49</td>\n",
       "      <td>...</td>\n",
       "      <td>4.4</td>\n",
       "      <td>NoRain</td>\n",
       "      <td>0.0</td>\n",
       "      <td>20.625381</td>\n",
       "      <td>0.061650</td>\n",
       "      <td>-51.622236</td>\n",
       "      <td>0.346719</td>\n",
       "      <td>0.358094</td>\n",
       "      <td>126038.438749</td>\n",
       "      <td>0.0</td>\n",
       "    </tr>\n",
       "    <tr>\n",
       "      <th>4</th>\n",
       "      <td>4</td>\n",
       "      <td>5</td>\n",
       "      <td>E5</td>\n",
       "      <td>2016-04-20</td>\n",
       "      <td>Wet Basin</td>\n",
       "      <td>Reference</td>\n",
       "      <td>55.43</td>\n",
       "      <td>14.2</td>\n",
       "      <td>1.26</td>\n",
       "      <td>0.56</td>\n",
       "      <td>...</td>\n",
       "      <td>4.4</td>\n",
       "      <td>NoRain</td>\n",
       "      <td>0.0</td>\n",
       "      <td>-35.320212</td>\n",
       "      <td>0.138446</td>\n",
       "      <td>62.915548</td>\n",
       "      <td>0.293559</td>\n",
       "      <td>0.969641</td>\n",
       "      <td>225931.524478</td>\n",
       "      <td>0.0</td>\n",
       "    </tr>\n",
       "  </tbody>\n",
       "</table>\n",
       "<p>5 rows × 21 columns</p>\n",
       "</div>"
      ],
      "text/plain": [
       "   Unnamed: 0  Unnamed: 0.1  ID        Date       Site   Location    VWC  \\\n",
       "0           0             1  E1  2016-04-20  Wet Basin      Basin  85.06   \n",
       "1           1             2  E2  2016-04-20  Wet Basin      Basin  36.77   \n",
       "2           2             3  E3  2016-04-20  Wet Basin      Basin  91.24   \n",
       "3           3             4  E4  2016-04-20  Wet Basin  Reference  32.08   \n",
       "4           4             5  E5  2016-04-20  Wet Basin  Reference  55.43   \n",
       "\n",
       "   Temp  Conductivity  Soil.Porosity   ...     AirT    Rain Precip   flux_N2O  \\\n",
       "0   9.5          2.09           0.73   ...      4.4  NoRain    0.0  -3.698828   \n",
       "1  11.7          0.10           0.68   ...      4.4  NoRain    0.0  -0.354986   \n",
       "2   8.2          2.39           0.89   ...      4.4  NoRain    0.0  21.720546   \n",
       "3  11.4          0.21           0.49   ...      4.4  NoRain    0.0  20.625381   \n",
       "4  14.2          1.26           0.56   ...      4.4  NoRain    0.0 -35.320212   \n",
       "\n",
       "   r.squared.N2O    flux_CH4  r.squared.CH4  r.squared.CO2       flux_CO2  \\\n",
       "0       0.003789  -22.757097       0.013714       0.608706  183595.128961   \n",
       "1       0.000036 -137.966454       0.647540       0.961278  190433.497043   \n",
       "2       0.073681   21.883248       0.250702       0.472880  -10212.923765   \n",
       "3       0.061650  -51.622236       0.346719       0.358094  126038.438749   \n",
       "4       0.138446   62.915548       0.293559       0.969641  225931.524478   \n",
       "\n",
       "   precip3  \n",
       "0      0.0  \n",
       "1      0.0  \n",
       "2      0.0  \n",
       "3      0.0  \n",
       "4      0.0  \n",
       "\n",
       "[5 rows x 21 columns]"
      ]
     },
     "execution_count": 30,
     "metadata": {},
     "output_type": "execute_result"
    }
   ],
   "source": [
    "data.head()"
   ]
  },
  {
   "cell_type": "code",
   "execution_count": 31,
   "metadata": {},
   "outputs": [
    {
     "data": {
      "text/html": [
       "<div>\n",
       "<style scoped>\n",
       "    .dataframe tbody tr th:only-of-type {\n",
       "        vertical-align: middle;\n",
       "    }\n",
       "\n",
       "    .dataframe tbody tr th {\n",
       "        vertical-align: top;\n",
       "    }\n",
       "\n",
       "    .dataframe thead th {\n",
       "        text-align: right;\n",
       "    }\n",
       "</style>\n",
       "<table border=\"1\" class=\"dataframe\">\n",
       "  <thead>\n",
       "    <tr style=\"text-align: right;\">\n",
       "      <th></th>\n",
       "      <th>Unnamed: 0</th>\n",
       "      <th>Unnamed: 0.1</th>\n",
       "      <th>VWC</th>\n",
       "      <th>Temp</th>\n",
       "      <th>Conductivity</th>\n",
       "      <th>Soil.Porosity</th>\n",
       "      <th>Saturation</th>\n",
       "      <th>AirT</th>\n",
       "      <th>Precip</th>\n",
       "      <th>flux_N2O</th>\n",
       "      <th>r.squared.N2O</th>\n",
       "      <th>flux_CH4</th>\n",
       "      <th>r.squared.CH4</th>\n",
       "      <th>r.squared.CO2</th>\n",
       "      <th>flux_CO2</th>\n",
       "      <th>precip3</th>\n",
       "    </tr>\n",
       "  </thead>\n",
       "  <tbody>\n",
       "    <tr>\n",
       "      <th>count</th>\n",
       "      <td>340.000000</td>\n",
       "      <td>340.000000</td>\n",
       "      <td>338.000000</td>\n",
       "      <td>337.000000</td>\n",
       "      <td>338.000000</td>\n",
       "      <td>340.000000</td>\n",
       "      <td>309.000000</td>\n",
       "      <td>340.000000</td>\n",
       "      <td>340.000000</td>\n",
       "      <td>333.000000</td>\n",
       "      <td>336.000000</td>\n",
       "      <td>330.000000</td>\n",
       "      <td>328.000000</td>\n",
       "      <td>336.000000</td>\n",
       "      <td>3.350000e+02</td>\n",
       "      <td>340.000000</td>\n",
       "    </tr>\n",
       "    <tr>\n",
       "      <th>mean</th>\n",
       "      <td>4.270588</td>\n",
       "      <td>5.270588</td>\n",
       "      <td>39.861841</td>\n",
       "      <td>20.744519</td>\n",
       "      <td>0.494750</td>\n",
       "      <td>0.613683</td>\n",
       "      <td>0.596066</td>\n",
       "      <td>18.364804</td>\n",
       "      <td>5.352059</td>\n",
       "      <td>7.222439</td>\n",
       "      <td>0.397947</td>\n",
       "      <td>1268.427103</td>\n",
       "      <td>0.474582</td>\n",
       "      <td>0.826245</td>\n",
       "      <td>5.053908e+05</td>\n",
       "      <td>10.914529</td>\n",
       "    </tr>\n",
       "    <tr>\n",
       "      <th>std</th>\n",
       "      <td>2.877594</td>\n",
       "      <td>2.877594</td>\n",
       "      <td>19.098067</td>\n",
       "      <td>4.325547</td>\n",
       "      <td>0.695765</td>\n",
       "      <td>0.115128</td>\n",
       "      <td>0.167561</td>\n",
       "      <td>5.369834</td>\n",
       "      <td>7.722302</td>\n",
       "      <td>111.991500</td>\n",
       "      <td>0.318876</td>\n",
       "      <td>4464.469885</td>\n",
       "      <td>0.349130</td>\n",
       "      <td>0.237740</td>\n",
       "      <td>1.326710e+06</td>\n",
       "      <td>16.871197</td>\n",
       "    </tr>\n",
       "    <tr>\n",
       "      <th>min</th>\n",
       "      <td>0.000000</td>\n",
       "      <td>1.000000</td>\n",
       "      <td>18.970000</td>\n",
       "      <td>0.800000</td>\n",
       "      <td>-0.186389</td>\n",
       "      <td>0.485886</td>\n",
       "      <td>0.300000</td>\n",
       "      <td>4.400000</td>\n",
       "      <td>0.000000</td>\n",
       "      <td>-1012.248701</td>\n",
       "      <td>0.000036</td>\n",
       "      <td>-3359.142570</td>\n",
       "      <td>0.000082</td>\n",
       "      <td>0.000626</td>\n",
       "      <td>-2.891754e+06</td>\n",
       "      <td>0.000000</td>\n",
       "    </tr>\n",
       "    <tr>\n",
       "      <th>25%</th>\n",
       "      <td>2.000000</td>\n",
       "      <td>3.000000</td>\n",
       "      <td>26.540000</td>\n",
       "      <td>17.900000</td>\n",
       "      <td>0.100000</td>\n",
       "      <td>0.527784</td>\n",
       "      <td>0.470000</td>\n",
       "      <td>16.388889</td>\n",
       "      <td>0.000000</td>\n",
       "      <td>-9.654702</td>\n",
       "      <td>0.088035</td>\n",
       "      <td>-70.124796</td>\n",
       "      <td>0.120445</td>\n",
       "      <td>0.761569</td>\n",
       "      <td>1.474954e+05</td>\n",
       "      <td>0.000000</td>\n",
       "    </tr>\n",
       "    <tr>\n",
       "      <th>50%</th>\n",
       "      <td>4.000000</td>\n",
       "      <td>5.000000</td>\n",
       "      <td>32.960650</td>\n",
       "      <td>21.200000</td>\n",
       "      <td>0.190000</td>\n",
       "      <td>0.562161</td>\n",
       "      <td>0.560000</td>\n",
       "      <td>19.168333</td>\n",
       "      <td>0.000000</td>\n",
       "      <td>12.276463</td>\n",
       "      <td>0.348919</td>\n",
       "      <td>16.553734</td>\n",
       "      <td>0.451750</td>\n",
       "      <td>0.938897</td>\n",
       "      <td>2.908068e+05</td>\n",
       "      <td>2.921000</td>\n",
       "    </tr>\n",
       "    <tr>\n",
       "      <th>75%</th>\n",
       "      <td>7.000000</td>\n",
       "      <td>8.000000</td>\n",
       "      <td>44.766825</td>\n",
       "      <td>23.900000</td>\n",
       "      <td>0.587500</td>\n",
       "      <td>0.676937</td>\n",
       "      <td>0.690000</td>\n",
       "      <td>22.200000</td>\n",
       "      <td>8.128000</td>\n",
       "      <td>36.583429</td>\n",
       "      <td>0.669848</td>\n",
       "      <td>210.775462</td>\n",
       "      <td>0.824261</td>\n",
       "      <td>0.987848</td>\n",
       "      <td>4.906169e+05</td>\n",
       "      <td>15.748000</td>\n",
       "    </tr>\n",
       "    <tr>\n",
       "      <th>max</th>\n",
       "      <td>9.000000</td>\n",
       "      <td>10.000000</td>\n",
       "      <td>113.200000</td>\n",
       "      <td>30.700000</td>\n",
       "      <td>4.140000</td>\n",
       "      <td>0.890000</td>\n",
       "      <td>0.993005</td>\n",
       "      <td>26.944444</td>\n",
       "      <td>25.400000</td>\n",
       "      <td>413.454050</td>\n",
       "      <td>1.000000</td>\n",
       "      <td>30880.803224</td>\n",
       "      <td>1.000000</td>\n",
       "      <td>1.000000</td>\n",
       "      <td>1.457042e+07</td>\n",
       "      <td>79.756000</td>\n",
       "    </tr>\n",
       "  </tbody>\n",
       "</table>\n",
       "</div>"
      ],
      "text/plain": [
       "       Unnamed: 0  Unnamed: 0.1         VWC        Temp  Conductivity  \\\n",
       "count  340.000000    340.000000  338.000000  337.000000    338.000000   \n",
       "mean     4.270588      5.270588   39.861841   20.744519      0.494750   \n",
       "std      2.877594      2.877594   19.098067    4.325547      0.695765   \n",
       "min      0.000000      1.000000   18.970000    0.800000     -0.186389   \n",
       "25%      2.000000      3.000000   26.540000   17.900000      0.100000   \n",
       "50%      4.000000      5.000000   32.960650   21.200000      0.190000   \n",
       "75%      7.000000      8.000000   44.766825   23.900000      0.587500   \n",
       "max      9.000000     10.000000  113.200000   30.700000      4.140000   \n",
       "\n",
       "       Soil.Porosity  Saturation        AirT      Precip     flux_N2O  \\\n",
       "count     340.000000  309.000000  340.000000  340.000000   333.000000   \n",
       "mean        0.613683    0.596066   18.364804    5.352059     7.222439   \n",
       "std         0.115128    0.167561    5.369834    7.722302   111.991500   \n",
       "min         0.485886    0.300000    4.400000    0.000000 -1012.248701   \n",
       "25%         0.527784    0.470000   16.388889    0.000000    -9.654702   \n",
       "50%         0.562161    0.560000   19.168333    0.000000    12.276463   \n",
       "75%         0.676937    0.690000   22.200000    8.128000    36.583429   \n",
       "max         0.890000    0.993005   26.944444   25.400000   413.454050   \n",
       "\n",
       "       r.squared.N2O      flux_CH4  r.squared.CH4  r.squared.CO2  \\\n",
       "count     336.000000    330.000000     328.000000     336.000000   \n",
       "mean        0.397947   1268.427103       0.474582       0.826245   \n",
       "std         0.318876   4464.469885       0.349130       0.237740   \n",
       "min         0.000036  -3359.142570       0.000082       0.000626   \n",
       "25%         0.088035    -70.124796       0.120445       0.761569   \n",
       "50%         0.348919     16.553734       0.451750       0.938897   \n",
       "75%         0.669848    210.775462       0.824261       0.987848   \n",
       "max         1.000000  30880.803224       1.000000       1.000000   \n",
       "\n",
       "           flux_CO2     precip3  \n",
       "count  3.350000e+02  340.000000  \n",
       "mean   5.053908e+05   10.914529  \n",
       "std    1.326710e+06   16.871197  \n",
       "min   -2.891754e+06    0.000000  \n",
       "25%    1.474954e+05    0.000000  \n",
       "50%    2.908068e+05    2.921000  \n",
       "75%    4.906169e+05   15.748000  \n",
       "max    1.457042e+07   79.756000  "
      ]
     },
     "execution_count": 31,
     "metadata": {},
     "output_type": "execute_result"
    }
   ],
   "source": [
    "data.describe()"
   ]
  },
  {
   "cell_type": "code",
   "execution_count": 32,
   "metadata": {},
   "outputs": [
    {
     "data": {
      "text/html": [
       "<div>\n",
       "<style scoped>\n",
       "    .dataframe tbody tr th:only-of-type {\n",
       "        vertical-align: middle;\n",
       "    }\n",
       "\n",
       "    .dataframe tbody tr th {\n",
       "        vertical-align: top;\n",
       "    }\n",
       "\n",
       "    .dataframe thead th {\n",
       "        text-align: right;\n",
       "    }\n",
       "</style>\n",
       "<table border=\"1\" class=\"dataframe\">\n",
       "  <thead>\n",
       "    <tr style=\"text-align: right;\">\n",
       "      <th></th>\n",
       "      <th>Unnamed: 0</th>\n",
       "      <th>Site</th>\n",
       "      <th>Rain</th>\n",
       "      <th>Location</th>\n",
       "      <th>Date</th>\n",
       "      <th>count</th>\n",
       "      <th>mean</th>\n",
       "      <th>std</th>\n",
       "      <th>max</th>\n",
       "      <th>min</th>\n",
       "      <th>type</th>\n",
       "    </tr>\n",
       "  </thead>\n",
       "  <tbody>\n",
       "    <tr>\n",
       "      <th>0</th>\n",
       "      <td>0</td>\n",
       "      <td>Dry Basin</td>\n",
       "      <td>NoRain</td>\n",
       "      <td>Basin</td>\n",
       "      <td>2016-04-20</td>\n",
       "      <td>3</td>\n",
       "      <td>15.301894</td>\n",
       "      <td>52.798109</td>\n",
       "      <td>69.103772</td>\n",
       "      <td>-36.431660</td>\n",
       "      <td>N2O_flux</td>\n",
       "    </tr>\n",
       "    <tr>\n",
       "      <th>1</th>\n",
       "      <td>1</td>\n",
       "      <td>Dry Basin</td>\n",
       "      <td>NoRain</td>\n",
       "      <td>Basin</td>\n",
       "      <td>2016-05-11</td>\n",
       "      <td>3</td>\n",
       "      <td>-20.608212</td>\n",
       "      <td>11.255629</td>\n",
       "      <td>-11.158864</td>\n",
       "      <td>-33.060858</td>\n",
       "      <td>N2O_flux</td>\n",
       "    </tr>\n",
       "    <tr>\n",
       "      <th>2</th>\n",
       "      <td>2</td>\n",
       "      <td>Dry Basin</td>\n",
       "      <td>NoRain</td>\n",
       "      <td>Basin</td>\n",
       "      <td>2016-06-20</td>\n",
       "      <td>3</td>\n",
       "      <td>-4.409587</td>\n",
       "      <td>8.524318</td>\n",
       "      <td>5.159191</td>\n",
       "      <td>-11.192190</td>\n",
       "      <td>N2O_flux</td>\n",
       "    </tr>\n",
       "    <tr>\n",
       "      <th>3</th>\n",
       "      <td>3</td>\n",
       "      <td>Dry Basin</td>\n",
       "      <td>NoRain</td>\n",
       "      <td>Basin</td>\n",
       "      <td>2016-07-13</td>\n",
       "      <td>3</td>\n",
       "      <td>17.355479</td>\n",
       "      <td>9.978566</td>\n",
       "      <td>23.475549</td>\n",
       "      <td>5.840839</td>\n",
       "      <td>N2O_flux</td>\n",
       "    </tr>\n",
       "    <tr>\n",
       "      <th>4</th>\n",
       "      <td>4</td>\n",
       "      <td>Dry Basin</td>\n",
       "      <td>NoRain</td>\n",
       "      <td>Basin</td>\n",
       "      <td>2016-07-22</td>\n",
       "      <td>3</td>\n",
       "      <td>-298.230911</td>\n",
       "      <td>110.543893</td>\n",
       "      <td>-175.591816</td>\n",
       "      <td>-390.204847</td>\n",
       "      <td>N2O_flux</td>\n",
       "    </tr>\n",
       "  </tbody>\n",
       "</table>\n",
       "</div>"
      ],
      "text/plain": [
       "   Unnamed: 0       Site    Rain Location        Date  count        mean  \\\n",
       "0           0  Dry Basin  NoRain    Basin  2016-04-20      3   15.301894   \n",
       "1           1  Dry Basin  NoRain    Basin  2016-05-11      3  -20.608212   \n",
       "2           2  Dry Basin  NoRain    Basin  2016-06-20      3   -4.409587   \n",
       "3           3  Dry Basin  NoRain    Basin  2016-07-13      3   17.355479   \n",
       "4           4  Dry Basin  NoRain    Basin  2016-07-22      3 -298.230911   \n",
       "\n",
       "          std         max         min      type  \n",
       "0   52.798109   69.103772  -36.431660  N2O_flux  \n",
       "1   11.255629  -11.158864  -33.060858  N2O_flux  \n",
       "2    8.524318    5.159191  -11.192190  N2O_flux  \n",
       "3    9.978566   23.475549    5.840839  N2O_flux  \n",
       "4  110.543893 -175.591816 -390.204847  N2O_flux  "
      ]
     },
     "execution_count": 32,
     "metadata": {},
     "output_type": "execute_result"
    }
   ],
   "source": [
    "data_avg_date_site.head()"
   ]
  },
  {
   "cell_type": "code",
   "execution_count": 33,
   "metadata": {},
   "outputs": [
    {
     "data": {
      "text/html": [
       "<div>\n",
       "<style scoped>\n",
       "    .dataframe tbody tr th:only-of-type {\n",
       "        vertical-align: middle;\n",
       "    }\n",
       "\n",
       "    .dataframe tbody tr th {\n",
       "        vertical-align: top;\n",
       "    }\n",
       "\n",
       "    .dataframe thead tr th {\n",
       "        text-align: left;\n",
       "    }\n",
       "\n",
       "    .dataframe thead tr:last-of-type th {\n",
       "        text-align: right;\n",
       "    }\n",
       "</style>\n",
       "<table border=\"1\" class=\"dataframe\">\n",
       "  <thead>\n",
       "    <tr>\n",
       "      <th></th>\n",
       "      <th></th>\n",
       "      <th colspan=\"8\" halign=\"left\">mean</th>\n",
       "    </tr>\n",
       "    <tr>\n",
       "      <th></th>\n",
       "      <th></th>\n",
       "      <th>count</th>\n",
       "      <th>mean</th>\n",
       "      <th>std</th>\n",
       "      <th>min</th>\n",
       "      <th>25%</th>\n",
       "      <th>50%</th>\n",
       "      <th>75%</th>\n",
       "      <th>max</th>\n",
       "    </tr>\n",
       "    <tr>\n",
       "      <th>type</th>\n",
       "      <th>Site</th>\n",
       "      <th></th>\n",
       "      <th></th>\n",
       "      <th></th>\n",
       "      <th></th>\n",
       "      <th></th>\n",
       "      <th></th>\n",
       "      <th></th>\n",
       "      <th></th>\n",
       "    </tr>\n",
       "  </thead>\n",
       "  <tbody>\n",
       "    <tr>\n",
       "      <th rowspan=\"2\" valign=\"top\">CH4_flux</th>\n",
       "      <th>Dry Basin</th>\n",
       "      <td>68.0</td>\n",
       "      <td>-13.595635</td>\n",
       "      <td>191.152324</td>\n",
       "      <td>-1116.887042</td>\n",
       "      <td>-68.360194</td>\n",
       "      <td>-3.523738</td>\n",
       "      <td>36.399803</td>\n",
       "      <td>500.862026</td>\n",
       "    </tr>\n",
       "    <tr>\n",
       "      <th>Wet Basin</th>\n",
       "      <td>68.0</td>\n",
       "      <td>2230.339641</td>\n",
       "      <td>3382.032552</td>\n",
       "      <td>-207.527901</td>\n",
       "      <td>-29.895293</td>\n",
       "      <td>134.289057</td>\n",
       "      <td>2983.818705</td>\n",
       "      <td>10734.189013</td>\n",
       "    </tr>\n",
       "    <tr>\n",
       "      <th rowspan=\"2\" valign=\"top\">N2O_flux</th>\n",
       "      <th>Dry Basin</th>\n",
       "      <td>68.0</td>\n",
       "      <td>11.233201</td>\n",
       "      <td>51.058478</td>\n",
       "      <td>-298.230911</td>\n",
       "      <td>-3.812977</td>\n",
       "      <td>15.118377</td>\n",
       "      <td>33.556028</td>\n",
       "      <td>100.726066</td>\n",
       "    </tr>\n",
       "    <tr>\n",
       "      <th>Wet Basin</th>\n",
       "      <td>68.0</td>\n",
       "      <td>-0.806807</td>\n",
       "      <td>138.439280</td>\n",
       "      <td>-876.273337</td>\n",
       "      <td>2.020282</td>\n",
       "      <td>10.229446</td>\n",
       "      <td>25.640310</td>\n",
       "      <td>247.517562</td>\n",
       "    </tr>\n",
       "  </tbody>\n",
       "</table>\n",
       "</div>"
      ],
      "text/plain": [
       "                    mean                                                    \\\n",
       "                   count         mean          std          min        25%   \n",
       "type     Site                                                                \n",
       "CH4_flux Dry Basin  68.0   -13.595635   191.152324 -1116.887042 -68.360194   \n",
       "         Wet Basin  68.0  2230.339641  3382.032552  -207.527901 -29.895293   \n",
       "N2O_flux Dry Basin  68.0    11.233201    51.058478  -298.230911  -3.812977   \n",
       "         Wet Basin  68.0    -0.806807   138.439280  -876.273337   2.020282   \n",
       "\n",
       "                                                           \n",
       "                           50%          75%           max  \n",
       "type     Site                                              \n",
       "CH4_flux Dry Basin   -3.523738    36.399803    500.862026  \n",
       "         Wet Basin  134.289057  2983.818705  10734.189013  \n",
       "N2O_flux Dry Basin   15.118377    33.556028    100.726066  \n",
       "         Wet Basin   10.229446    25.640310    247.517562  "
      ]
     },
     "execution_count": 33,
     "metadata": {},
     "output_type": "execute_result"
    }
   ],
   "source": [
    "data_avg_date_site[['mean', 'type', 'Site']].groupby(['type','Site']).describe()"
   ]
  },
  {
   "cell_type": "markdown",
   "metadata": {},
   "source": [
    "Sample events and total samples:"
   ]
  },
  {
   "cell_type": "code",
   "execution_count": 34,
   "metadata": {},
   "outputs": [
    {
     "data": {
      "text/plain": [
       "Rain\n",
       "NoRain     18\n",
       "YesRain    16\n",
       "Name: Date, dtype: int64"
      ]
     },
     "execution_count": 34,
     "metadata": {},
     "output_type": "execute_result"
    }
   ],
   "source": [
    "#number of events during rain\n",
    "data.groupby(by=['Rain'])['Date'].nunique() #counts unique dates in either the Rain or NoRain category"
   ]
  },
  {
   "cell_type": "markdown",
   "metadata": {},
   "source": [
    "For statistical purposes we want to know if the data is approximately normal, let's look at histograms"
   ]
  },
  {
   "cell_type": "code",
   "execution_count": 35,
   "metadata": {},
   "outputs": [
    {
     "data": {
      "text/html": [
       "<div>\n",
       "<style scoped>\n",
       "    .dataframe tbody tr th:only-of-type {\n",
       "        vertical-align: middle;\n",
       "    }\n",
       "\n",
       "    .dataframe tbody tr th {\n",
       "        vertical-align: top;\n",
       "    }\n",
       "\n",
       "    .dataframe thead th {\n",
       "        text-align: right;\n",
       "    }\n",
       "</style>\n",
       "<table border=\"1\" class=\"dataframe\">\n",
       "  <thead>\n",
       "    <tr style=\"text-align: right;\">\n",
       "      <th></th>\n",
       "      <th>Unnamed: 0</th>\n",
       "      <th>Unnamed: 0.1</th>\n",
       "      <th>VWC</th>\n",
       "      <th>Temp</th>\n",
       "      <th>Conductivity</th>\n",
       "      <th>Soil.Porosity</th>\n",
       "      <th>Saturation</th>\n",
       "      <th>AirT</th>\n",
       "      <th>Precip</th>\n",
       "      <th>flux_N2O</th>\n",
       "      <th>r.squared.N2O</th>\n",
       "      <th>flux_CH4</th>\n",
       "      <th>r.squared.CH4</th>\n",
       "      <th>r.squared.CO2</th>\n",
       "      <th>flux_CO2</th>\n",
       "      <th>precip3</th>\n",
       "    </tr>\n",
       "  </thead>\n",
       "  <tbody>\n",
       "    <tr>\n",
       "      <th>count</th>\n",
       "      <td>340.000000</td>\n",
       "      <td>340.000000</td>\n",
       "      <td>338.000000</td>\n",
       "      <td>337.000000</td>\n",
       "      <td>338.000000</td>\n",
       "      <td>340.000000</td>\n",
       "      <td>309.000000</td>\n",
       "      <td>340.000000</td>\n",
       "      <td>340.000000</td>\n",
       "      <td>333.000000</td>\n",
       "      <td>336.000000</td>\n",
       "      <td>330.000000</td>\n",
       "      <td>328.000000</td>\n",
       "      <td>336.000000</td>\n",
       "      <td>3.350000e+02</td>\n",
       "      <td>340.000000</td>\n",
       "    </tr>\n",
       "    <tr>\n",
       "      <th>mean</th>\n",
       "      <td>4.270588</td>\n",
       "      <td>5.270588</td>\n",
       "      <td>39.861841</td>\n",
       "      <td>20.744519</td>\n",
       "      <td>0.494750</td>\n",
       "      <td>0.613683</td>\n",
       "      <td>0.596066</td>\n",
       "      <td>18.364804</td>\n",
       "      <td>5.352059</td>\n",
       "      <td>7.222439</td>\n",
       "      <td>0.397947</td>\n",
       "      <td>1268.427103</td>\n",
       "      <td>0.474582</td>\n",
       "      <td>0.826245</td>\n",
       "      <td>5.053908e+05</td>\n",
       "      <td>10.914529</td>\n",
       "    </tr>\n",
       "    <tr>\n",
       "      <th>std</th>\n",
       "      <td>2.877594</td>\n",
       "      <td>2.877594</td>\n",
       "      <td>19.098067</td>\n",
       "      <td>4.325547</td>\n",
       "      <td>0.695765</td>\n",
       "      <td>0.115128</td>\n",
       "      <td>0.167561</td>\n",
       "      <td>5.369834</td>\n",
       "      <td>7.722302</td>\n",
       "      <td>111.991500</td>\n",
       "      <td>0.318876</td>\n",
       "      <td>4464.469885</td>\n",
       "      <td>0.349130</td>\n",
       "      <td>0.237740</td>\n",
       "      <td>1.326710e+06</td>\n",
       "      <td>16.871197</td>\n",
       "    </tr>\n",
       "    <tr>\n",
       "      <th>min</th>\n",
       "      <td>0.000000</td>\n",
       "      <td>1.000000</td>\n",
       "      <td>18.970000</td>\n",
       "      <td>0.800000</td>\n",
       "      <td>-0.186389</td>\n",
       "      <td>0.485886</td>\n",
       "      <td>0.300000</td>\n",
       "      <td>4.400000</td>\n",
       "      <td>0.000000</td>\n",
       "      <td>-1012.248701</td>\n",
       "      <td>0.000036</td>\n",
       "      <td>-3359.142570</td>\n",
       "      <td>0.000082</td>\n",
       "      <td>0.000626</td>\n",
       "      <td>-2.891754e+06</td>\n",
       "      <td>0.000000</td>\n",
       "    </tr>\n",
       "    <tr>\n",
       "      <th>25%</th>\n",
       "      <td>2.000000</td>\n",
       "      <td>3.000000</td>\n",
       "      <td>26.540000</td>\n",
       "      <td>17.900000</td>\n",
       "      <td>0.100000</td>\n",
       "      <td>0.527784</td>\n",
       "      <td>0.470000</td>\n",
       "      <td>16.388889</td>\n",
       "      <td>0.000000</td>\n",
       "      <td>-9.654702</td>\n",
       "      <td>0.088035</td>\n",
       "      <td>-70.124796</td>\n",
       "      <td>0.120445</td>\n",
       "      <td>0.761569</td>\n",
       "      <td>1.474954e+05</td>\n",
       "      <td>0.000000</td>\n",
       "    </tr>\n",
       "    <tr>\n",
       "      <th>50%</th>\n",
       "      <td>4.000000</td>\n",
       "      <td>5.000000</td>\n",
       "      <td>32.960650</td>\n",
       "      <td>21.200000</td>\n",
       "      <td>0.190000</td>\n",
       "      <td>0.562161</td>\n",
       "      <td>0.560000</td>\n",
       "      <td>19.168333</td>\n",
       "      <td>0.000000</td>\n",
       "      <td>12.276463</td>\n",
       "      <td>0.348919</td>\n",
       "      <td>16.553734</td>\n",
       "      <td>0.451750</td>\n",
       "      <td>0.938897</td>\n",
       "      <td>2.908068e+05</td>\n",
       "      <td>2.921000</td>\n",
       "    </tr>\n",
       "    <tr>\n",
       "      <th>75%</th>\n",
       "      <td>7.000000</td>\n",
       "      <td>8.000000</td>\n",
       "      <td>44.766825</td>\n",
       "      <td>23.900000</td>\n",
       "      <td>0.587500</td>\n",
       "      <td>0.676937</td>\n",
       "      <td>0.690000</td>\n",
       "      <td>22.200000</td>\n",
       "      <td>8.128000</td>\n",
       "      <td>36.583429</td>\n",
       "      <td>0.669848</td>\n",
       "      <td>210.775462</td>\n",
       "      <td>0.824261</td>\n",
       "      <td>0.987848</td>\n",
       "      <td>4.906169e+05</td>\n",
       "      <td>15.748000</td>\n",
       "    </tr>\n",
       "    <tr>\n",
       "      <th>max</th>\n",
       "      <td>9.000000</td>\n",
       "      <td>10.000000</td>\n",
       "      <td>113.200000</td>\n",
       "      <td>30.700000</td>\n",
       "      <td>4.140000</td>\n",
       "      <td>0.890000</td>\n",
       "      <td>0.993005</td>\n",
       "      <td>26.944444</td>\n",
       "      <td>25.400000</td>\n",
       "      <td>413.454050</td>\n",
       "      <td>1.000000</td>\n",
       "      <td>30880.803224</td>\n",
       "      <td>1.000000</td>\n",
       "      <td>1.000000</td>\n",
       "      <td>1.457042e+07</td>\n",
       "      <td>79.756000</td>\n",
       "    </tr>\n",
       "  </tbody>\n",
       "</table>\n",
       "</div>"
      ],
      "text/plain": [
       "       Unnamed: 0  Unnamed: 0.1         VWC        Temp  Conductivity  \\\n",
       "count  340.000000    340.000000  338.000000  337.000000    338.000000   \n",
       "mean     4.270588      5.270588   39.861841   20.744519      0.494750   \n",
       "std      2.877594      2.877594   19.098067    4.325547      0.695765   \n",
       "min      0.000000      1.000000   18.970000    0.800000     -0.186389   \n",
       "25%      2.000000      3.000000   26.540000   17.900000      0.100000   \n",
       "50%      4.000000      5.000000   32.960650   21.200000      0.190000   \n",
       "75%      7.000000      8.000000   44.766825   23.900000      0.587500   \n",
       "max      9.000000     10.000000  113.200000   30.700000      4.140000   \n",
       "\n",
       "       Soil.Porosity  Saturation        AirT      Precip     flux_N2O  \\\n",
       "count     340.000000  309.000000  340.000000  340.000000   333.000000   \n",
       "mean        0.613683    0.596066   18.364804    5.352059     7.222439   \n",
       "std         0.115128    0.167561    5.369834    7.722302   111.991500   \n",
       "min         0.485886    0.300000    4.400000    0.000000 -1012.248701   \n",
       "25%         0.527784    0.470000   16.388889    0.000000    -9.654702   \n",
       "50%         0.562161    0.560000   19.168333    0.000000    12.276463   \n",
       "75%         0.676937    0.690000   22.200000    8.128000    36.583429   \n",
       "max         0.890000    0.993005   26.944444   25.400000   413.454050   \n",
       "\n",
       "       r.squared.N2O      flux_CH4  r.squared.CH4  r.squared.CO2  \\\n",
       "count     336.000000    330.000000     328.000000     336.000000   \n",
       "mean        0.397947   1268.427103       0.474582       0.826245   \n",
       "std         0.318876   4464.469885       0.349130       0.237740   \n",
       "min         0.000036  -3359.142570       0.000082       0.000626   \n",
       "25%         0.088035    -70.124796       0.120445       0.761569   \n",
       "50%         0.348919     16.553734       0.451750       0.938897   \n",
       "75%         0.669848    210.775462       0.824261       0.987848   \n",
       "max         1.000000  30880.803224       1.000000       1.000000   \n",
       "\n",
       "           flux_CO2     precip3  \n",
       "count  3.350000e+02  340.000000  \n",
       "mean   5.053908e+05   10.914529  \n",
       "std    1.326710e+06   16.871197  \n",
       "min   -2.891754e+06    0.000000  \n",
       "25%    1.474954e+05    0.000000  \n",
       "50%    2.908068e+05    2.921000  \n",
       "75%    4.906169e+05   15.748000  \n",
       "max    1.457042e+07   79.756000  "
      ]
     },
     "execution_count": 35,
     "metadata": {},
     "output_type": "execute_result"
    }
   ],
   "source": [
    "data.describe()"
   ]
  },
  {
   "cell_type": "code",
   "execution_count": 36,
   "metadata": {},
   "outputs": [
    {
     "data": {
      "text/plain": [
       "<matplotlib.axes._subplots.AxesSubplot at 0x1e47a8ca908>"
      ]
     },
     "execution_count": 36,
     "metadata": {},
     "output_type": "execute_result"
    },
    {
     "data": {
      "image/png": "[encoded data removed]",
      "text/plain": [
       "<matplotlib.figure.Figure at 0x1e47a901208>"
      ]
     },
     "metadata": {},
     "output_type": "display_data"
    }
   ],
   "source": [
    "data['flux_N2O'].hist()"
   ]
  },
  {
   "cell_type": "code",
   "execution_count": 37,
   "metadata": {},
   "outputs": [
    {
     "data": {
      "text/plain": [
       "(array([  2.,   1.,   0.,   0.,   2.,   4.,  59., 254.,   6.,   5.]),\n",
       " array([-1012.24870122,  -869.67842612,  -727.10815102,  -584.53787592,\n",
       "         -441.96760082,  -299.39732572,  -156.82705062,   -14.25677552,\n",
       "          128.31349958,   270.88377469,   413.45404979]),\n",
       " <a list of 10 Patch objects>)"
      ]
     },
     "execution_count": 37,
     "metadata": {},
     "output_type": "execute_result"
    },
    {
     "data": {
      "image/png": "[encoded data removed]",
      "text/plain": [
       "<matplotlib.figure.Figure at 0x1e47a94d940>"
      ]
     },
     "metadata": {},
     "output_type": "display_data"
    }
   ],
   "source": [
    "plt.hist(data['flux_N2O'].dropna()) #for matplot lib you must drop NAs prior to plotting\n",
    "\n",
    "#(A[~np.isnan(A)])"
   ]
  },
  {
   "cell_type": "code",
   "execution_count": 38,
   "metadata": {},
   "outputs": [
    {
     "data": {
      "text/plain": [
       "<matplotlib.axes._subplots.AxesSubplot at 0x1e47a9cd358>"
      ]
     },
     "execution_count": 38,
     "metadata": {},
     "output_type": "execute_result"
    },
    {
     "data": {
      "image/png": "[encoded data removed]",
      "text/plain": [
       "<matplotlib.figure.Figure at 0x1e47a9798d0>"
      ]
     },
     "metadata": {},
     "output_type": "display_data"
    }
   ],
   "source": [
    "data[['flux_N2O']].plot(kind='box')"
   ]
  },
  {
   "cell_type": "code",
   "execution_count": 39,
   "metadata": {},
   "outputs": [
    {
     "data": {
      "text/plain": [
       "<matplotlib.axes._subplots.AxesSubplot at 0x1e47a957f28>"
      ]
     },
     "execution_count": 39,
     "metadata": {},
     "output_type": "execute_result"
    },
    {
     "data": {
      "image/png": "[encoded data removed]",
      "text/plain": [
       "<matplotlib.figure.Figure at 0x1e47a9f2588>"
      ]
     },
     "metadata": {},
     "output_type": "display_data"
    }
   ],
   "source": [
    "data[['flux_CH4']].plot(kind='box')"
   ]
  },
  {
   "cell_type": "markdown",
   "metadata": {},
   "source": [
    "#1. Are basins a bigger GHG source than reference grasses?\n",
    "paired t-test for each Site comparing basin vs. reference (paired at each sample timepoint). compares average emissions from each basin vs avg emissions from reference site.\n",
    "\n",
    "In paired samples, only the difference between the pairs must be normal (not the underlying data itself).\n"
   ]
  },
  {
   "cell_type": "code",
   "execution_count": 40,
   "metadata": {},
   "outputs": [],
   "source": [
    "data_avg_date_site_Wet=data_avg_date_site[data_avg_date_site['Site']=='Wet Basin']#separate by site\n",
    "data_avg_date_site_Wet_N2O=data_avg_date_site_Wet[data_avg_date_site_Wet.type=='N2O_flux']\n",
    "data_avg_date_site_Wet_CH4=data_avg_date_site_Wet[data_avg_date_site_Wet.type=='CH4_flux']"
   ]
  },
  {
   "cell_type": "code",
   "execution_count": 41,
   "metadata": {},
   "outputs": [],
   "source": [
    "diffwet_N2O=[]\n",
    "\n",
    "for i in data_avg_date_site_Wet_N2O.Date:\n",
    "    date1=i\n",
    "    N2O_date=data_avg_date_site_Wet_N2O[data_avg_date_site_Wet_N2O['Date']== date1]\n",
    "    diffwet_N2O.append(N2O_date['mean'].iloc[0]-N2O_date['mean'].iloc[1])\n",
    "    "
   ]
  },
  {
   "cell_type": "code",
   "execution_count": 42,
   "metadata": {},
   "outputs": [
    {
     "data": {
      "text/html": [
       "<div>\n",
       "<style scoped>\n",
       "    .dataframe tbody tr th:only-of-type {\n",
       "        vertical-align: middle;\n",
       "    }\n",
       "\n",
       "    .dataframe tbody tr th {\n",
       "        vertical-align: top;\n",
       "    }\n",
       "\n",
       "    .dataframe thead th {\n",
       "        text-align: right;\n",
       "    }\n",
       "</style>\n",
       "<table border=\"1\" class=\"dataframe\">\n",
       "  <thead>\n",
       "    <tr style=\"text-align: right;\">\n",
       "      <th></th>\n",
       "      <th>Unnamed: 0</th>\n",
       "      <th>Site</th>\n",
       "      <th>Rain</th>\n",
       "      <th>Location</th>\n",
       "      <th>Date</th>\n",
       "      <th>count</th>\n",
       "      <th>mean</th>\n",
       "      <th>std</th>\n",
       "      <th>max</th>\n",
       "      <th>min</th>\n",
       "      <th>type</th>\n",
       "    </tr>\n",
       "  </thead>\n",
       "  <tbody>\n",
       "    <tr>\n",
       "      <th>119</th>\n",
       "      <td>119</td>\n",
       "      <td>Wet Basin</td>\n",
       "      <td>YesRain</td>\n",
       "      <td>Basin</td>\n",
       "      <td>2017-08-23</td>\n",
       "      <td>3</td>\n",
       "      <td>31.039623</td>\n",
       "      <td>29.150968</td>\n",
       "      <td>50.704223</td>\n",
       "      <td>-2.451852</td>\n",
       "      <td>N2O_flux</td>\n",
       "    </tr>\n",
       "    <tr>\n",
       "      <th>135</th>\n",
       "      <td>135</td>\n",
       "      <td>Wet Basin</td>\n",
       "      <td>YesRain</td>\n",
       "      <td>Reference</td>\n",
       "      <td>2017-08-23</td>\n",
       "      <td>2</td>\n",
       "      <td>-23.780294</td>\n",
       "      <td>21.692651</td>\n",
       "      <td>-8.441273</td>\n",
       "      <td>-39.119315</td>\n",
       "      <td>N2O_flux</td>\n",
       "    </tr>\n",
       "  </tbody>\n",
       "</table>\n",
       "</div>"
      ],
      "text/plain": [
       "     Unnamed: 0       Site     Rain   Location        Date  count       mean  \\\n",
       "119         119  Wet Basin  YesRain      Basin  2017-08-23      3  31.039623   \n",
       "135         135  Wet Basin  YesRain  Reference  2017-08-23      2 -23.780294   \n",
       "\n",
       "           std        max        min      type  \n",
       "119  29.150968  50.704223  -2.451852  N2O_flux  \n",
       "135  21.692651  -8.441273 -39.119315  N2O_flux  "
      ]
     },
     "execution_count": 42,
     "metadata": {},
     "output_type": "execute_result"
    }
   ],
   "source": [
    "N2O_date"
   ]
  },
  {
   "cell_type": "code",
   "execution_count": 43,
   "metadata": {},
   "outputs": [
    {
     "data": {
      "text/plain": [
       "(array([ 2.,  2.,  0.,  0.,  2., 22., 26.,  8.,  4.,  2.]),\n",
       " array([-297.29123149, -247.17938921, -197.06754693, -146.95570465,\n",
       "         -96.84386238,  -46.7320201 ,    3.37982218,   53.49166446,\n",
       "         103.60350674,  153.71534902,  203.82719129]),\n",
       " <a list of 10 Patch objects>)"
      ]
     },
     "execution_count": 43,
     "metadata": {},
     "output_type": "execute_result"
    },
    {
     "data": {
      "image/png": "[encoded data removed]",
      "text/plain": [
       "<matplotlib.figure.Figure at 0x1e47a171860>"
      ]
     },
     "metadata": {},
     "output_type": "display_data"
    }
   ],
   "source": [
    "plt.hist(diffwet_N2O) #close enough to normal, with a few outliers"
   ]
  },
  {
   "cell_type": "code",
   "execution_count": 44,
   "metadata": {},
   "outputs": [],
   "source": [
    "#stats.probplot(diffwet_N2O, plot= plt)"
   ]
  },
  {
   "cell_type": "code",
   "execution_count": 45,
   "metadata": {},
   "outputs": [
    {
     "data": {
      "text/plain": [
       "Ttest_relResult(statistic=0.24262858493456937, pvalue=0.8097948456779193)"
      ]
     },
     "execution_count": 45,
     "metadata": {},
     "output_type": "execute_result"
    }
   ],
   "source": [
    "stats.ttest_rel(data_avg_date_site_Wet_N2O['mean'][data_avg_date_site_Wet_N2O['Location']=='Basin'] , data_avg_date_site_Wet_N2O['mean'][data_avg_date_site_Wet_N2O['Location']=='Reference'])"
   ]
  },
  {
   "cell_type": "code",
   "execution_count": 46,
   "metadata": {},
   "outputs": [
    {
     "data": {
      "text/plain": [
       "Ttest_relResult(statistic=6.7681391299680325, pvalue=1.0250892295502498e-07)"
      ]
     },
     "execution_count": 46,
     "metadata": {},
     "output_type": "execute_result"
    }
   ],
   "source": [
    "#t test for wet basin methane CH4 emissions\n",
    "stats.ttest_rel(data_avg_date_site_Wet_CH4['mean'][data_avg_date_site_Wet_CH4['Location']=='Basin'] , data_avg_date_site_Wet_CH4['mean'][data_avg_date_site_Wet_CH4['Location']=='Reference'])\n"
   ]
  },
  {
   "cell_type": "code",
   "execution_count": 47,
   "metadata": {},
   "outputs": [
    {
     "data": {
      "text/plain": [
       "WilcoxonResult(statistic=239.0, pvalue=0.31723979237390443)"
      ]
     },
     "execution_count": 47,
     "metadata": {},
     "output_type": "execute_result"
    }
   ],
   "source": [
    "#nonparametric test, wilcoxon rank sum test, simmilar to paired t-test\n",
    "stats.wilcoxon(data_avg_date_site_Wet_N2O['mean'][data_avg_date_site_Wet_N2O['Location']=='Basin'] , data_avg_date_site_Wet_N2O['mean'][data_avg_date_site_Wet_N2O['Location']=='Reference'])\n",
    "#same thing, not significant for N2O"
   ]
  },
  {
   "cell_type": "markdown",
   "metadata": {},
   "source": [
    "Does the Wet Basin produce more GHG emissions than the Dry Basin?\n",
    "Use paired t-tests, because these were sampled at the same date for each site"
   ]
  },
  {
   "cell_type": "code",
   "execution_count": 48,
   "metadata": {},
   "outputs": [
    {
     "data": {
      "text/plain": [
       "Ttest_relResult(statistic=6.881001210070226, pvalue=7.401646776699505e-08)"
      ]
     },
     "execution_count": 48,
     "metadata": {},
     "output_type": "execute_result"
    }
   ],
   "source": [
    "data_avg_date_basin_CH4=data_avg_date_site[(data_avg_date_site['type']=='CH4_flux') & (data_avg_date_site['Location']=='Basin')]\n",
    "stats.ttest_rel(data_avg_date_basin_CH4['mean'][data_avg_date_basin_CH4['Site']=='Wet Basin'] , data_avg_date_basin_CH4['mean'][data_avg_date_basin_CH4['Site']=='Dry Basin'])"
   ]
  },
  {
   "cell_type": "markdown",
   "metadata": {},
   "source": [
    "The small p-value (<0.001) suggests that there are significant differences between the Wet and Dry Basin for Methane (CH4) emissions"
   ]
  },
  {
   "cell_type": "code",
   "execution_count": 49,
   "metadata": {},
   "outputs": [
    {
     "data": {
      "text/plain": [
       "Ttest_relResult(statistic=-0.6936032022164175, pvalue=0.4927847213610336)"
      ]
     },
     "execution_count": 49,
     "metadata": {},
     "output_type": "execute_result"
    }
   ],
   "source": [
    "data_avg_date_basin_N2O=data_avg_date_site[(data_avg_date_site['type']=='N2O_flux') & (data_avg_date_site['Location']=='Basin')]\n",
    "stats.ttest_rel(data_avg_date_basin_N2O['mean'][data_avg_date_basin_N2O['Site']=='Wet Basin'] , data_avg_date_basin_N2O['mean'][data_avg_date_basin_N2O['Site']=='Dry Basin'])"
   ]
  },
  {
   "cell_type": "markdown",
   "metadata": {},
   "source": [
    "This large p-value, 0.87, suggests there is NO differnce between N2O emissions for the Dry and Wet basins."
   ]
  },
  {
   "cell_type": "code",
   "execution_count": 50,
   "metadata": {},
   "outputs": [
    {
     "data": {
      "text/plain": [
       "type\n",
       "CH4_flux    (6.881001210070226, 7.401646776699505e-08)\n",
       "N2O_flux     (-0.6936032022164175, 0.4927847213610336)\n",
       "dtype: object"
      ]
     },
     "execution_count": 50,
     "metadata": {},
     "output_type": "execute_result"
    }
   ],
   "source": [
    "#try to do the same thing, testing diffrences between sites with group by clause\n",
    "data_avg_date_basin=data_avg_date_site[data_avg_date_site['Location']==\"Basin\"]\n",
    "data_avg_date_basin.groupby('type').apply(lambda df: stats.ttest_rel(df['mean'][df['Site']=='Wet Basin'] , df['mean'][df['Site']=='Dry Basin']))"
   ]
  },
  {
   "cell_type": "markdown",
   "metadata": {},
   "source": [
    "Do storms produce higher GHG emissions than ambient conditions in the basins?\n",
    "indpendent t-tests at each site, for the 'storm' group vs. the 'ambient' group"
   ]
  },
  {
   "cell_type": "code",
   "execution_count": 51,
   "metadata": {},
   "outputs": [],
   "source": [
    "#Check if data is normal"
   ]
  },
  {
   "cell_type": "code",
   "execution_count": 60,
   "metadata": {},
   "outputs": [],
   "source": [
    "N2O_rain=data_avg_date_basin[(data_avg_date_basin['type']=='N2O_flux') & (data_avg_date_basin['Rain']=='YesRain')]\n",
    "N2O_ambient=data_avg_date_basin[(data_avg_date_basin['type']=='N2O_flux') & (data_avg_date_basin['Rain']=='NoRain')]"
   ]
  },
  {
   "cell_type": "code",
   "execution_count": 61,
   "metadata": {},
   "outputs": [
    {
     "data": {
      "text/plain": [
       "(array([ 3., 12., 10.,  4.,  0.,  1.,  1.,  0.,  0.,  1.]),\n",
       " array([-34.08106895,  -9.50884709,  15.06337477,  39.63559663,\n",
       "         64.2078185 ,  88.78004036, 113.35226222, 137.92448408,\n",
       "        162.49670595, 187.06892781, 211.64114967]),\n",
       " <a list of 10 Patch objects>)"
      ]
     },
     "execution_count": 61,
     "metadata": {},
     "output_type": "execute_result"
    },
    {
     "data": {
      "image/png": "[encoded data removed]",
      "text/plain": [
       "<matplotlib.figure.Figure at 0x1e47a8e8828>"
      ]
     },
     "metadata": {},
     "output_type": "display_data"
    }
   ],
   "source": [
    "plt.hist(N2O_rain['mean'])"
   ]
  },
  {
   "cell_type": "code",
   "execution_count": 63,
   "metadata": {},
   "outputs": [
    {
     "data": {
      "text/plain": [
       "Ttest_indResult(statistic=1.1474078083117403, pvalue=0.25971956959229336)"
      ]
     },
     "execution_count": 63,
     "metadata": {},
     "output_type": "execute_result"
    }
   ],
   "source": [
    "stats.ttest_ind(N2O_rain['mean'][N2O_rain['Site']=='Wet Basin'], N2O_ambient['mean'][N2O_ambient['Site']=='Wet Basin'])"
   ]
  },
  {
   "cell_type": "markdown",
   "metadata": {},
   "source": [
    "This large p-value, 0.259 suggests there is no difference for N2O in ambient or storm conditions"
   ]
  },
  {
   "cell_type": "code",
   "execution_count": 65,
   "metadata": {},
   "outputs": [
    {
     "data": {
      "text/plain": [
       "Ttest_indResult(statistic=0.16693067773190018, pvalue=0.8684749920474197)"
      ]
     },
     "execution_count": 65,
     "metadata": {},
     "output_type": "execute_result"
    }
   ],
   "source": [
    "CH4_rain=data_avg_date_basin[(data_avg_date_basin['type']=='CH4_flux') & (data_avg_date_basin['Rain']=='YesRain')]\n",
    "CH4_ambient=data_avg_date_basin[(data_avg_date_basin['type']=='CH4_flux') & (data_avg_date_basin['Rain']=='NoRain')]\n",
    "stats.ttest_ind(CH4_rain['mean'][CH4_rain['Site']=='Wet Basin'], CH4_ambient['mean'][CH4_ambient['Site']=='Wet Basin'])"
   ]
  },
  {
   "cell_type": "markdown",
   "metadata": {},
   "source": [
    "This large p-value also suggests that there is no difference in methane emissions for storm or ambient conditions."
   ]
  },
  {
   "cell_type": "markdown",
   "metadata": {},
   "source": [
    "Can I quantify GHG emissions when I know basin type, temp, and precip?\n",
    "\n",
    "Create linear regression model, for each site"
   ]
  },
  {
   "cell_type": "code",
   "execution_count": 68,
   "metadata": {},
   "outputs": [
    {
     "data": {
      "text/html": [
       "<div>\n",
       "<style scoped>\n",
       "    .dataframe tbody tr th:only-of-type {\n",
       "        vertical-align: middle;\n",
       "    }\n",
       "\n",
       "    .dataframe tbody tr th {\n",
       "        vertical-align: top;\n",
       "    }\n",
       "\n",
       "    .dataframe thead th {\n",
       "        text-align: right;\n",
       "    }\n",
       "</style>\n",
       "<table border=\"1\" class=\"dataframe\">\n",
       "  <thead>\n",
       "    <tr style=\"text-align: right;\">\n",
       "      <th></th>\n",
       "      <th>Unnamed: 0</th>\n",
       "      <th>Unnamed: 0.1</th>\n",
       "      <th>ID</th>\n",
       "      <th>Date</th>\n",
       "      <th>Site</th>\n",
       "      <th>Location</th>\n",
       "      <th>VWC</th>\n",
       "      <th>Temp</th>\n",
       "      <th>Conductivity</th>\n",
       "      <th>Soil.Porosity</th>\n",
       "      <th>...</th>\n",
       "      <th>AirT</th>\n",
       "      <th>Rain</th>\n",
       "      <th>Precip</th>\n",
       "      <th>flux_N2O</th>\n",
       "      <th>r.squared.N2O</th>\n",
       "      <th>flux_CH4</th>\n",
       "      <th>r.squared.CH4</th>\n",
       "      <th>r.squared.CO2</th>\n",
       "      <th>flux_CO2</th>\n",
       "      <th>precip3</th>\n",
       "    </tr>\n",
       "  </thead>\n",
       "  <tbody>\n",
       "    <tr>\n",
       "      <th>0</th>\n",
       "      <td>0</td>\n",
       "      <td>1</td>\n",
       "      <td>E1</td>\n",
       "      <td>2016-04-20</td>\n",
       "      <td>Wet Basin</td>\n",
       "      <td>Basin</td>\n",
       "      <td>85.0600</td>\n",
       "      <td>9.5</td>\n",
       "      <td>2.09</td>\n",
       "      <td>0.730000</td>\n",
       "      <td>...</td>\n",
       "      <td>4.4</td>\n",
       "      <td>NoRain</td>\n",
       "      <td>0.000</td>\n",
       "      <td>-3.698828</td>\n",
       "      <td>0.003789</td>\n",
       "      <td>-22.757097</td>\n",
       "      <td>0.013714</td>\n",
       "      <td>0.608706</td>\n",
       "      <td>183595.128961</td>\n",
       "      <td>0.000</td>\n",
       "    </tr>\n",
       "    <tr>\n",
       "      <th>1</th>\n",
       "      <td>1</td>\n",
       "      <td>2</td>\n",
       "      <td>E2</td>\n",
       "      <td>2016-04-20</td>\n",
       "      <td>Wet Basin</td>\n",
       "      <td>Basin</td>\n",
       "      <td>36.7700</td>\n",
       "      <td>11.7</td>\n",
       "      <td>0.10</td>\n",
       "      <td>0.680000</td>\n",
       "      <td>...</td>\n",
       "      <td>4.4</td>\n",
       "      <td>NoRain</td>\n",
       "      <td>0.000</td>\n",
       "      <td>-0.354986</td>\n",
       "      <td>0.000036</td>\n",
       "      <td>-137.966454</td>\n",
       "      <td>0.647540</td>\n",
       "      <td>0.961278</td>\n",
       "      <td>190433.497043</td>\n",
       "      <td>0.000</td>\n",
       "    </tr>\n",
       "    <tr>\n",
       "      <th>2</th>\n",
       "      <td>2</td>\n",
       "      <td>3</td>\n",
       "      <td>E3</td>\n",
       "      <td>2016-04-20</td>\n",
       "      <td>Wet Basin</td>\n",
       "      <td>Basin</td>\n",
       "      <td>91.2400</td>\n",
       "      <td>8.2</td>\n",
       "      <td>2.39</td>\n",
       "      <td>0.890000</td>\n",
       "      <td>...</td>\n",
       "      <td>4.4</td>\n",
       "      <td>NoRain</td>\n",
       "      <td>0.000</td>\n",
       "      <td>21.720546</td>\n",
       "      <td>0.073681</td>\n",
       "      <td>21.883248</td>\n",
       "      <td>0.250702</td>\n",
       "      <td>0.472880</td>\n",
       "      <td>-10212.923765</td>\n",
       "      <td>0.000</td>\n",
       "    </tr>\n",
       "    <tr>\n",
       "      <th>10</th>\n",
       "      <td>0</td>\n",
       "      <td>1</td>\n",
       "      <td>E1</td>\n",
       "      <td>2016-04-27</td>\n",
       "      <td>Wet Basin</td>\n",
       "      <td>Basin</td>\n",
       "      <td>78.9325</td>\n",
       "      <td>12.1</td>\n",
       "      <td>2.18</td>\n",
       "      <td>0.728864</td>\n",
       "      <td>...</td>\n",
       "      <td>5.0</td>\n",
       "      <td>YesRain</td>\n",
       "      <td>8.128</td>\n",
       "      <td>-53.222913</td>\n",
       "      <td>0.592129</td>\n",
       "      <td>42.345875</td>\n",
       "      <td>0.367768</td>\n",
       "      <td>0.142077</td>\n",
       "      <td>-17704.321456</td>\n",
       "      <td>10.922</td>\n",
       "    </tr>\n",
       "    <tr>\n",
       "      <th>11</th>\n",
       "      <td>1</td>\n",
       "      <td>2</td>\n",
       "      <td>E2</td>\n",
       "      <td>2016-04-27</td>\n",
       "      <td>Wet Basin</td>\n",
       "      <td>Basin</td>\n",
       "      <td>41.7291</td>\n",
       "      <td>11.8</td>\n",
       "      <td>0.75</td>\n",
       "      <td>0.676937</td>\n",
       "      <td>...</td>\n",
       "      <td>5.0</td>\n",
       "      <td>YesRain</td>\n",
       "      <td>8.128</td>\n",
       "      <td>-26.032849</td>\n",
       "      <td>0.317455</td>\n",
       "      <td>488.853598</td>\n",
       "      <td>0.495508</td>\n",
       "      <td>0.000626</td>\n",
       "      <td>-1280.104669</td>\n",
       "      <td>10.922</td>\n",
       "    </tr>\n",
       "  </tbody>\n",
       "</table>\n",
       "<p>5 rows × 21 columns</p>\n",
       "</div>"
      ],
      "text/plain": [
       "    Unnamed: 0  Unnamed: 0.1  ID        Date       Site Location      VWC  \\\n",
       "0            0             1  E1  2016-04-20  Wet Basin    Basin  85.0600   \n",
       "1            1             2  E2  2016-04-20  Wet Basin    Basin  36.7700   \n",
       "2            2             3  E3  2016-04-20  Wet Basin    Basin  91.2400   \n",
       "10           0             1  E1  2016-04-27  Wet Basin    Basin  78.9325   \n",
       "11           1             2  E2  2016-04-27  Wet Basin    Basin  41.7291   \n",
       "\n",
       "    Temp  Conductivity  Soil.Porosity   ...     AirT     Rain Precip  \\\n",
       "0    9.5          2.09       0.730000   ...      4.4   NoRain  0.000   \n",
       "1   11.7          0.10       0.680000   ...      4.4   NoRain  0.000   \n",
       "2    8.2          2.39       0.890000   ...      4.4   NoRain  0.000   \n",
       "10  12.1          2.18       0.728864   ...      5.0  YesRain  8.128   \n",
       "11  11.8          0.75       0.676937   ...      5.0  YesRain  8.128   \n",
       "\n",
       "     flux_N2O  r.squared.N2O    flux_CH4  r.squared.CH4  r.squared.CO2  \\\n",
       "0   -3.698828       0.003789  -22.757097       0.013714       0.608706   \n",
       "1   -0.354986       0.000036 -137.966454       0.647540       0.961278   \n",
       "2   21.720546       0.073681   21.883248       0.250702       0.472880   \n",
       "10 -53.222913       0.592129   42.345875       0.367768       0.142077   \n",
       "11 -26.032849       0.317455  488.853598       0.495508       0.000626   \n",
       "\n",
       "         flux_CO2  precip3  \n",
       "0   183595.128961    0.000  \n",
       "1   190433.497043    0.000  \n",
       "2   -10212.923765    0.000  \n",
       "10  -17704.321456   10.922  \n",
       "11   -1280.104669   10.922  \n",
       "\n",
       "[5 rows x 21 columns]"
      ]
     },
     "execution_count": 68,
     "metadata": {},
     "output_type": "execute_result"
    }
   ],
   "source": [
    "data_basin_w=data[(data['Site']==\"Wet Basin\") & (data['Location']=='Basin')]\n",
    "data_basin_w.head()"
   ]
  },
  {
   "cell_type": "code",
   "execution_count": 72,
   "metadata": {},
   "outputs": [
    {
     "name": "stderr",
     "output_type": "stream",
     "text": [
      "C:\\Users\\Natalie\\Anaconda3\\lib\\site-packages\\scipy\\stats\\_distn_infrastructure.py:879: RuntimeWarning: invalid value encountered in greater\n",
      "  return (self.a < x) & (x < self.b)\n",
      "C:\\Users\\Natalie\\Anaconda3\\lib\\site-packages\\scipy\\stats\\_distn_infrastructure.py:879: RuntimeWarning: invalid value encountered in less\n",
      "  return (self.a < x) & (x < self.b)\n",
      "C:\\Users\\Natalie\\Anaconda3\\lib\\site-packages\\scipy\\stats\\_distn_infrastructure.py:1821: RuntimeWarning: invalid value encountered in less_equal\n",
      "  cond2 = cond0 & (x <= self.a)\n",
      "C:\\Users\\Natalie\\Anaconda3\\lib\\site-packages\\scipy\\stats\\stats.py:1404: RuntimeWarning: invalid value encountered in less\n",
      "  term2 = np.where(denom < 0, term1, np.power((1-2.0/A)/denom, 1/3.0))\n"
     ]
    },
    {
     "data": {
      "text/html": [
       "<table class=\"simpletable\">\n",
       "<caption>OLS Regression Results</caption>\n",
       "<tr>\n",
       "  <th>Dep. Variable:</th>        <td>flux_N2O</td>     <th>  R-squared:         </th> <td>     nan</td>\n",
       "</tr>\n",
       "<tr>\n",
       "  <th>Model:</th>                   <td>OLS</td>       <th>  Adj. R-squared:    </th> <td>     nan</td>\n",
       "</tr>\n",
       "<tr>\n",
       "  <th>Method:</th>             <td>Least Squares</td>  <th>  F-statistic:       </th> <td>     nan</td>\n",
       "</tr>\n",
       "<tr>\n",
       "  <th>Date:</th>             <td>Tue, 31 Jul 2018</td> <th>  Prob (F-statistic):</th>  <td>   nan</td> \n",
       "</tr>\n",
       "<tr>\n",
       "  <th>Time:</th>                 <td>15:09:44</td>     <th>  Log-Likelihood:    </th> <td>     nan</td>\n",
       "</tr>\n",
       "<tr>\n",
       "  <th>No. Observations:</th>      <td>   102</td>      <th>  AIC:               </th> <td>     nan</td>\n",
       "</tr>\n",
       "<tr>\n",
       "  <th>Df Residuals:</th>          <td>   101</td>      <th>  BIC:               </th> <td>     nan</td>\n",
       "</tr>\n",
       "<tr>\n",
       "  <th>Df Model:</th>              <td>     1</td>      <th>                     </th>     <td> </td>   \n",
       "</tr>\n",
       "<tr>\n",
       "  <th>Covariance Type:</th>      <td>nonrobust</td>    <th>                     </th>     <td> </td>   \n",
       "</tr>\n",
       "</table>\n",
       "<table class=\"simpletable\">\n",
       "<tr>\n",
       "   <td></td>      <th>coef</th>     <th>std err</th>      <th>t</th>      <th>P>|t|</th>  <th>[0.025</th>    <th>0.975]</th>  \n",
       "</tr>\n",
       "<tr>\n",
       "  <th>VWC</th> <td>       nan</td> <td>      nan</td> <td>      nan</td> <td>   nan</td> <td>      nan</td> <td>      nan</td>\n",
       "</tr>\n",
       "</table>\n",
       "<table class=\"simpletable\">\n",
       "<tr>\n",
       "  <th>Omnibus:</th>       <td>   nan</td> <th>  Durbin-Watson:     </th> <td>     nan</td>\n",
       "</tr>\n",
       "<tr>\n",
       "  <th>Prob(Omnibus):</th> <td>   nan</td> <th>  Jarque-Bera (JB):  </th> <td>     nan</td>\n",
       "</tr>\n",
       "<tr>\n",
       "  <th>Skew:</th>          <td>   nan</td> <th>  Prob(JB):          </th> <td>     nan</td>\n",
       "</tr>\n",
       "<tr>\n",
       "  <th>Kurtosis:</th>      <td>   nan</td> <th>  Cond. No.          </th> <td>    1.00</td>\n",
       "</tr>\n",
       "</table>"
      ],
      "text/plain": [
       "<class 'statsmodels.iolib.summary.Summary'>\n",
       "\"\"\"\n",
       "                            OLS Regression Results                            \n",
       "==============================================================================\n",
       "Dep. Variable:               flux_N2O   R-squared:                         nan\n",
       "Model:                            OLS   Adj. R-squared:                    nan\n",
       "Method:                 Least Squares   F-statistic:                       nan\n",
       "Date:                Tue, 31 Jul 2018   Prob (F-statistic):                nan\n",
       "Time:                        15:09:44   Log-Likelihood:                    nan\n",
       "No. Observations:                 102   AIC:                               nan\n",
       "Df Residuals:                     101   BIC:                               nan\n",
       "Df Model:                           1                                         \n",
       "Covariance Type:            nonrobust                                         \n",
       "==============================================================================\n",
       "                 coef    std err          t      P>|t|      [0.025      0.975]\n",
       "------------------------------------------------------------------------------\n",
       "VWC               nan        nan        nan        nan         nan         nan\n",
       "==============================================================================\n",
       "Omnibus:                          nan   Durbin-Watson:                     nan\n",
       "Prob(Omnibus):                    nan   Jarque-Bera (JB):                  nan\n",
       "Skew:                             nan   Prob(JB):                          nan\n",
       "Kurtosis:                         nan   Cond. No.                         1.00\n",
       "==============================================================================\n",
       "\n",
       "Warnings:\n",
       "[1] Standard Errors assume that the covariance matrix of the errors is correctly specified.\n",
       "\"\"\""
      ]
     },
     "execution_count": 72,
     "metadata": {},
     "output_type": "execute_result"
    }
   ],
   "source": [
    "import statsmodels.api as sm\n",
    "\n",
    "model_N2O_w = sm.OLS(data_basin_w['flux_N2O'], data_basin_w['VWC']).fit()\n",
    "predictions = model_N2O_w.predict( data_basin_w['VWC']) # make the predictions by the model\n",
    "\n",
    "# Print out the statistics\n",
    "model_N2O_w.summary()"
   ]
  },
  {
   "cell_type": "code",
   "execution_count": null,
   "metadata": {},
   "outputs": [],
   "source": []
  },
  {
   "cell_type": "code",
   "execution_count": null,
   "metadata": {},
   "outputs": [],
   "source": []
  }
 ],
 "metadata": {
  "kernelspec": {
   "display_name": "Python 3",
   "language": "python",
   "name": "python3"
  },
  "language_info": {
   "codemirror_mode": {
    "name": "ipython",
    "version": 3
   },
   "file_extension": ".py",
   "mimetype": "text/x-python",
   "name": "python",
   "nbconvert_exporter": "python",
   "pygments_lexer": "ipython3",
   "version": "3.6.4"
  }
 },
 "nbformat": 4,
 "nbformat_minor": 2
}
